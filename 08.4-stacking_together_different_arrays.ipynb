{
 "cells": [
  {
   "cell_type": "markdown",
   "metadata": {},
   "source": [
    "# Stacking together different arrays\n",
    "\n",
    "## Concatenate\n",
    "* **numpy.concatenate** joins a sequence of arrays\n",
    "  along an existing axis.\n",
    "* The arrays must have the same shape,\n",
    "  except in the dimension corresponding to axis.\n",
    "* By default the axis along which the arrays will be joined is 0.\n",
    "  If axis is None, arrays are flattened before use.\n",
    "   \n",
    "## Links\n",
    "[NumPy v1.17 Manual](https://numpy.org/doc/1.17/index.html) >>  \n",
    "[NumPy User Guide](https://numpy.org/doc/1.17/user/index.html) >>  \n",
    "[Quickstart tutorial](https://numpy.org/doc/1.17/user/quickstart.html#) >>  \n",
    "[Shape Manipulation](https://numpy.org/doc/1.17/user/quickstart.html#shape-manipulation) >>  \n",
    "[Stacking together different arrays](https://numpy.org/doc/1.17/user/quickstart.html#stacking-together-different-arrays)"
   ]
  },
  {
   "cell_type": "code",
   "execution_count": 1,
   "metadata": {},
   "outputs": [],
   "source": [
    "import numpy as np\n"
   ]
  },
  {
   "cell_type": "code",
   "execution_count": 2,
   "metadata": {},
   "outputs": [],
   "source": [
    "# Creates two 2D arrays of the same shape,\n",
    "# containig random integers in the range from 0 to 9.\n",
    "n, s = 2, (3, 4)\n",
    "x, y = [np.array(np.floor(10 * np.random.random(s)),\n",
    "                 dtype=int)\n",
    "        for _ in range(n)]\n"
   ]
  },
  {
   "cell_type": "code",
   "execution_count": 3,
   "metadata": {},
   "outputs": [
    {
     "name": "stdout",
     "output_type": "stream",
     "text": [
      "1:\n",
      "[[2 2 4 3]\n",
      " [3 5 5 3]\n",
      " [4 8 0 8]]\n",
      "(3, 4)\n",
      "\n",
      "2:\n",
      "[[9 9 8 2]\n",
      " [5 9 9 9]\n",
      " [9 9 1 4]]\n",
      "(3, 4)\n",
      "\n",
      "concatenate\n",
      "\n",
      "axis: 0\n",
      "[[2 2 4 3]\n",
      " [3 5 5 3]\n",
      " [4 8 0 8]\n",
      " [9 9 8 2]\n",
      " [5 9 9 9]\n",
      " [9 9 1 4]]\n",
      "(6, 4)\n",
      "\n",
      "axis: 1\n",
      "[[2 2 4 3 9 9 8 2]\n",
      " [3 5 5 3 5 9 9 9]\n",
      " [4 8 0 8 9 9 1 4]]\n",
      "(3, 8)\n",
      "\n",
      "axis: None\n",
      "[2 2 4 3 3 5 5 3 4 8 0 8 9 9 8 2 5 9 9 9 9 9 1 4]\n",
      "(24,)\n",
      "\n"
     ]
    }
   ],
   "source": [
    "# Concatenates 2D arrays along different axes.\n",
    "a = [0, 1, None]\n",
    "z = [np.concatenate((x, y), axis=_) for _ in a]\n",
    "\n",
    "print('1:', x, x.shape, '',\n",
    "      '2:', y, y.shape, '',\n",
    "      'concatenate', '',\n",
    "      sep='\\n')\n",
    "for i in range(len(a)):\n",
    "    print(f'axis: {a[i]}',\n",
    "          z[i],\n",
    "          z[i].shape, '',\n",
    "          sep='\\n')\n"
   ]
  }
 ],
 "metadata": {
  "kernelspec": {
   "display_name": "Python 3",
   "language": "python",
   "name": "python3"
  },
  "language_info": {
   "codemirror_mode": {
    "name": "ipython",
    "version": 3
   },
   "file_extension": ".py",
   "mimetype": "text/x-python",
   "name": "python",
   "nbconvert_exporter": "python",
   "pygments_lexer": "ipython3",
   "version": "3.7.3"
  }
 },
 "nbformat": 4,
 "nbformat_minor": 2
}
