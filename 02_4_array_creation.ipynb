{
 "cells": [
  {
   "cell_type": "markdown",
   "metadata": {},
   "source": [
    "# The basics\n",
    "\n",
    "## Array creation\n",
    "\n",
    "### Functions to create\n",
    "\n",
    "- NumPy offers several functions to create arrays\n",
    "  with the same shape and type as a given array:\n",
    "  - `zeros_like` creates an array of zeros,\n",
    "  - `ones_like` creates an array of ones,\n",
    "  - `empty_lile` creates an array of uninitialized (arbitrary) data.\n",
    "- By default,\n",
    "  the type of the created array is the type of the given array\n",
    "  but can also be specified."
   ]
  },
  {
   "cell_type": "code",
   "execution_count": 1,
   "metadata": {},
   "outputs": [],
   "source": [
    "import numpy as np"
   ]
  },
  {
   "cell_type": "code",
   "execution_count": 2,
   "metadata": {},
   "outputs": [
    {
     "name": "stdout",
     "output_type": "stream",
     "text": [
      "<class 'numpy.ndarray'>:\n",
      "[ 1  2  3  4  5  6  7  8  9 10 11 12]\n",
      "shape: (12,)\n",
      "dtype: int64\n",
      "\n",
      "<class 'numpy.ndarray'>:\n",
      "[0 0 0 0 0 0 0 0 0 0 0 0]\n",
      "shape: (12,)\n",
      "dtype: int64\n",
      "\n",
      "<class 'numpy.ndarray'>:\n",
      "[0. 0. 0. 0. 0. 0. 0. 0. 0. 0. 0. 0.]\n",
      "shape: (12,)\n",
      "dtype: float64\n",
      "\n"
     ]
    }
   ],
   "source": [
    "# Creates an arrays of zeros\n",
    "# using 1d array of integers as prototype.\n",
    "\n",
    "x_shape, x_start, x_step = (12, ), 1, 1\n",
    "x_stop = x_start + x_step * (np.product(x_shape) - 1)\n",
    "x = np.arange(\n",
    "    start=x_start,\n",
    "    stop=x_stop + x_step,\n",
    "    step=x_step\n",
    ").reshape(x_shape)\n",
    "\n",
    "y = np.zeros_like(x)\n",
    "z = np.zeros_like(x, dtype=float)\n",
    "\n",
    "for _ in (x, y, z):\n",
    "    print(f'{type(_)}:', _,\n",
    "          f'shape: {_.shape}',\n",
    "          f'dtype: {_.dtype}',\n",
    "          sep='\\n', end='\\n\\n')"
   ]
  },
  {
   "cell_type": "code",
   "execution_count": 3,
   "metadata": {},
   "outputs": [
    {
     "name": "stdout",
     "output_type": "stream",
     "text": [
      "<class 'numpy.ndarray'>:\n",
      "[[ 1.  2.  3.  4.]\n",
      " [ 5.  6.  7.  8.]\n",
      " [ 9. 10. 11. 12.]]\n",
      "shape: (3, 4)\n",
      "dtype: float64\n",
      "\n",
      "<class 'numpy.ndarray'>:\n",
      "[[1. 1. 1. 1.]\n",
      " [1. 1. 1. 1.]\n",
      " [1. 1. 1. 1.]]\n",
      "shape: (3, 4)\n",
      "dtype: float64\n",
      "\n",
      "<class 'numpy.ndarray'>:\n",
      "[[1 1 1 1]\n",
      " [1 1 1 1]\n",
      " [1 1 1 1]]\n",
      "shape: (3, 4)\n",
      "dtype: int64\n",
      "\n"
     ]
    }
   ],
   "source": [
    "# Creates an arrays of ones\n",
    "# using 2d array of floats as prototype.\n",
    "\n",
    "x_shape, x_start, x_step = (3, 4), 1., 1.\n",
    "x_stop = x_start + x_step * (np.product(x_shape) - 1)\n",
    "x = np.arange(\n",
    "    start=x_start,\n",
    "    stop=x_stop + x_step,\n",
    "    step=x_step\n",
    ").reshape(x_shape)\n",
    "\n",
    "y = np.ones_like(x)\n",
    "z = np.ones_like(x, dtype=int)\n",
    "\n",
    "for _ in (x, y, z):\n",
    "    print(f'{type(_)}:', _,\n",
    "          f'shape: {_.shape}',\n",
    "          f'dtype: {_.dtype}',\n",
    "          sep='\\n', end='\\n\\n')"
   ]
  },
  {
   "cell_type": "code",
   "execution_count": 4,
   "metadata": {},
   "outputs": [
    {
     "name": "stdout",
     "output_type": "stream",
     "text": [
      "<class 'numpy.ndarray'>:\n",
      "[[[ 1  2  3]\n",
      "  [ 4  5  6]]\n",
      "\n",
      " [[ 7  8  9]\n",
      "  [10 11 12]]]\n",
      "shape: (2, 2, 3)\n",
      "dtype: int64\n",
      "\n",
      "<class 'numpy.ndarray'>:\n",
      "[[[4607182418800017408 4611686018427387904 4613937818241073152]\n",
      "  [4616189618054758400 4617315517961601024 4618441417868443648]]\n",
      "\n",
      " [[4619567317775286272 4620693217682128896 4621256167635550208]\n",
      "  [4621819117588971520 4622382067542392832 4622945017495814144]]]\n",
      "shape: (2, 2, 3)\n",
      "dtype: int64\n",
      "\n",
      "<class 'numpy.ndarray'>:\n",
      "[[[1. 1. 1.]\n",
      "  [1. 1. 1.]]\n",
      "\n",
      " [[1. 1. 1.]\n",
      "  [1. 1. 1.]]]\n",
      "shape: (2, 2, 3)\n",
      "dtype: float64\n",
      "\n"
     ]
    }
   ],
   "source": [
    "# Creates an arrays of randoms\n",
    "# using 3d array of integers as prototype.\n",
    "\n",
    "x_shape, x_start, x_step = (2, 2, 3), 1, 1\n",
    "x_stop = x_start + x_step * (np.product(x_shape) - 1)\n",
    "x = np.arange(\n",
    "    start=x_start,\n",
    "    stop=x_stop + x_step,\n",
    "    step=x_step\n",
    ").reshape(x_shape)\n",
    "\n",
    "y = np.empty_like(x)\n",
    "z = np.empty_like(x, dtype=float)\n",
    "\n",
    "for _ in (x, y, z):\n",
    "    print(f'{type(_)}:', _,\n",
    "          f'shape: {_.shape}',\n",
    "          f'dtype: {_.dtype}',\n",
    "          sep='\\n', end='\\n\\n')"
   ]
  }
 ],
 "metadata": {
  "kernelspec": {
   "display_name": "Python 3",
   "language": "python",
   "name": "python3"
  },
  "language_info": {
   "codemirror_mode": {
    "name": "ipython",
    "version": 3
   },
   "file_extension": ".py",
   "mimetype": "text/x-python",
   "name": "python",
   "nbconvert_exporter": "python",
   "pygments_lexer": "ipython3",
   "version": "3.8.6"
  }
 },
 "nbformat": 4,
 "nbformat_minor": 2
}
