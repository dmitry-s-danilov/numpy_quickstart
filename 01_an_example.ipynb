{
 "cells": [
  {
   "cell_type": "markdown",
   "metadata": {},
   "source": [
    "# The basics\n",
    "\n",
    "## An example\n",
    "\n",
    "The more important attributes of an `ndarray` object are:\n",
    "- `ndarray.ndim`  \n",
    "  the number of axes (dimensions) of the array,\n",
    "- `ndarray.shape`  \n",
    "  the dimension of the array,\n",
    "- `ndarray.size`  \n",
    "  the total number of elements of the array,\n",
    "- `ndarray.dtype`  \n",
    "  an object describing the type of the elements in the array,\n",
    "- `ndarray.itemsize`  \n",
    "  the size in bytes of each element of the array.\n",
    "- `ndarray.data`  \n",
    "  the buffer containing the actual elements of the array."
   ]
  },
  {
   "cell_type": "code",
   "execution_count": 1,
   "metadata": {},
   "outputs": [],
   "source": [
    "import numpy as np"
   ]
  },
  {
   "cell_type": "code",
   "execution_count": 2,
   "metadata": {},
   "outputs": [
    {
     "name": "stdout",
     "output_type": "stream",
     "text": [
      "<class 'numpy.ndarray'>: [ 1  2  3  4  5  6  7  8  9 10 11 12]\n",
      "ndim: 1\n",
      "shape: (12,)\n",
      "size: 12\n",
      "dtype: int64\n",
      "itemsize: 8\n"
     ]
    }
   ],
   "source": [
    "# Creates 1D array. \n",
    "x = np.arange(1, 12 + 1)\n",
    "\n",
    "print(f'{type(x)}: {x}',\n",
    "      f'ndim: {x.ndim}',\n",
    "      f'shape: {x.shape}',\n",
    "      f'size: {x.size}',\n",
    "      f'dtype: {x.dtype}',\n",
    "      f'itemsize: {x.itemsize}',\n",
    "      sep='\\n')"
   ]
  },
  {
   "cell_type": "code",
   "execution_count": 3,
   "metadata": {},
   "outputs": [
    {
     "name": "stdout",
     "output_type": "stream",
     "text": [
      "<class 'memoryview'>: <memory at 0x7f2f0aef4c40>\n",
      "<class 'list'>: [1, 2, 3, 4, 5, 6, 7, 8, 9, 10, 11, 12]\n"
     ]
    }
   ],
   "source": [
    "# Applies a list comprehension\n",
    "# to extract elements from a buffer of 1D array.\n",
    "y = x.data\n",
    "z = [_ for _ in y]\n",
    "\n",
    "print(f'{type(y)}: {y}',\n",
    "      f'{type(z)}: {z}',\n",
    "      sep='\\n')"
   ]
  },
  {
   "cell_type": "code",
   "execution_count": 4,
   "metadata": {},
   "outputs": [
    {
     "name": "stdout",
     "output_type": "stream",
     "text": [
      "<class 'numpy.ndarray'>:\n",
      "[[ 1  2  3  4]\n",
      " [ 5  6  7  8]\n",
      " [ 9 10 11 12]]\n",
      "ndim: 2\n",
      "shape: (3, 4)\n",
      "size: 12\n",
      "dtype: int64\n",
      "itemsize: 8\n"
     ]
    }
   ],
   "source": [
    "# Reshapes 1D array, making 2D one. \n",
    "x = x.reshape(3, 4)\n",
    "\n",
    "print(f'{type(x)}:', x,\n",
    "      f'ndim: {x.ndim}',\n",
    "      f'shape: {x.shape}',\n",
    "      f'size: {x.size}',\n",
    "      f'dtype: {x.dtype}',\n",
    "      f'itemsize: {x.itemsize}',\n",
    "      sep='\\n')"
   ]
  },
  {
   "cell_type": "code",
   "execution_count": 5,
   "metadata": {},
   "outputs": [
    {
     "name": "stdout",
     "output_type": "stream",
     "text": [
      "<class 'numpy.ndarray'>:\n",
      "[[[ 1  2  3]\n",
      "  [ 4  5  6]]\n",
      "\n",
      " [[ 7  8  9]\n",
      "  [10 11 12]]]\n",
      "ndim: 3\n",
      "shape: (2, 2, 3)\n",
      "size: 12\n",
      "dtype: int64\n",
      "itemsize: 8\n"
     ]
    }
   ],
   "source": [
    "# Reshapes 2D array, making 3D one.\n",
    "x = x.reshape(2, 2, 3)\n",
    "\n",
    "print(f'{type(x)}:', x,\n",
    "      f'ndim: {x.ndim}',\n",
    "      f'shape: {x.shape}',\n",
    "      f'size: {x.size}',\n",
    "      f'dtype: {x.dtype}',\n",
    "      f'itemsize: {x.itemsize}',\n",
    "      sep='\\n')"
   ]
  }
 ],
 "metadata": {
  "kernelspec": {
   "display_name": "Python 3",
   "language": "python",
   "name": "python3"
  },
  "language_info": {
   "codemirror_mode": {
    "name": "ipython",
    "version": 3
   },
   "file_extension": ".py",
   "mimetype": "text/x-python",
   "name": "python",
   "nbconvert_exporter": "python",
   "pygments_lexer": "ipython3",
   "version": "3.8.6"
  }
 },
 "nbformat": 4,
 "nbformat_minor": 4
}
