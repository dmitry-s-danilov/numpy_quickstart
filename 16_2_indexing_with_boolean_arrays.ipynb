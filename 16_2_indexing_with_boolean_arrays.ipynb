{
 "cells": [
  {
   "cell_type": "markdown",
   "metadata": {},
   "source": [
    "# Indexing with Boolean Arrays\n",
    "\n",
    "When we index arrays with boolean indices,\n",
    "we explicitly choose\n",
    "which items in the array we want\n",
    "and which ones we don’t.\n",
    "\n",
    "\n",
    "## Indexing by 1D Boolean Arrays\n",
    "\n",
    "* Another way of indexing with booleans\n",
    "  is more similar to integer indexing:\n",
    "  for each dimension of the array\n",
    "  we give a 1D boolean array\n",
    "  selecting the slices we want.\n",
    "* Note that\n",
    "  the length of the 1D boolean array must coincide\n",
    "  with the length of the dimension (or axis)\n",
    "  you want to slice."
   ]
  },
  {
   "cell_type": "code",
   "execution_count": 1,
   "metadata": {},
   "outputs": [],
   "source": [
    "import numpy as np"
   ]
  },
  {
   "cell_type": "code",
   "execution_count": 2,
   "metadata": {},
   "outputs": [
    {
     "name": "stdout",
     "output_type": "stream",
     "text": [
      "array:\n",
      "[[ 1  2  3  4]\n",
      " [ 5  6  7  8]\n",
      " [ 9 10 11 12]]\n",
      "shape: (3, 4)\n",
      "\n",
      "row index:\n",
      "[ True False False]\n",
      "size: 3\n",
      "any: True\n",
      "\n",
      "column index:\n",
      "[ True  True False  True]\n",
      "size: 4\n",
      "any: True\n"
     ]
    }
   ],
   "source": [
    "# Creates 2D array of integers.\n",
    "x_shape = 3, 4\n",
    "x_step = 1\n",
    "x_start = 1\n",
    "x_stop = x_start + \\\n",
    "         x_shape[0] * x_shape[1] * x_step\n",
    "x = np.arange(start=x_start, stop=x_stop,\n",
    "              step=x_step)\n",
    "x.shape = x_shape\n",
    "\n",
    "# Creates a tuple of two 1D arrays\n",
    "# of random booleans\n",
    "# with sizes being equal to lengths\n",
    "# of corresponding axes of 2D array.\n",
    "# That is actually\n",
    "# first and second dimension selection.\n",
    "b = (np.random.randint(low=0, high=2,\n",
    "                       size=x.shape[0]) == 1,\n",
    "     np.random.randint(low=0, high=2,\n",
    "                       size=x.shape[1]) == 1)\n",
    "\n",
    "print('array:', x,\n",
    "      f'shape: {x.shape}\\n',\n",
    "\n",
    "      'row index:', b[0],\n",
    "      f'size: {b[0].size}',\n",
    "      f'any: {np.any(b[0])}\\n',\n",
    "\n",
    "      'column index:', b[1],\n",
    "      f'size: {b[1].size}',\n",
    "      f'any: {np.any(b[1])}',\n",
    "      sep='\\n')"
   ]
  },
  {
   "cell_type": "code",
   "execution_count": 3,
   "metadata": {},
   "outputs": [
    {
     "name": "stdout",
     "output_type": "stream",
     "text": [
      "array:\n",
      "[[ 1  2  3  4]\n",
      " [ 5  6  7  8]\n",
      " [ 9 10 11 12]]\n",
      "\n",
      "row index:\n",
      "[ True False False]\n",
      "\n",
      "selected rows:\n",
      " [[1 2 3 4]]\n"
     ]
    }
   ],
   "source": [
    "# Selecting rows.\n",
    "\n",
    "print('array:', x,\n",
    "      '\\nrow index:', b[0],\n",
    "      sep='\\n')\n",
    "\n",
    "if np.any(b[0]):\n",
    "    print('\\nselected rows:\\n', x[b[0],:])  # selecting rows"
   ]
  },
  {
   "cell_type": "code",
   "execution_count": 4,
   "metadata": {},
   "outputs": [
    {
     "name": "stdout",
     "output_type": "stream",
     "text": [
      "array:\n",
      "[[ 1  2  3  4]\n",
      " [ 5  6  7  8]\n",
      " [ 9 10 11 12]]\n",
      "\n",
      "column index:\n",
      "[ True  True False  True]\n",
      "\n",
      "selected rows:\n",
      " [[ 1  2  4]\n",
      " [ 5  6  8]\n",
      " [ 9 10 12]]\n"
     ]
    }
   ],
   "source": [
    "# Selecting columns.\n",
    "\n",
    "print('array:', x,\n",
    "      '\\ncolumn index:', b[1],\n",
    "      sep='\\n')\n",
    "\n",
    "if np.any(b[1]):\n",
    "    print('\\nselected rows:\\n',\n",
    "          x[:,b[1]])  # selecting columns"
   ]
  },
  {
   "cell_type": "code",
   "execution_count": 5,
   "metadata": {},
   "outputs": [
    {
     "name": "stdout",
     "output_type": "stream",
     "text": [
      "array:\n",
      "[[ 1  2  3  4]\n",
      " [ 5  6  7  8]\n",
      " [ 9 10 11 12]]\n",
      "\n",
      "row index:\n",
      "[ True False False]\n",
      "\n",
      "column index:\n",
      "[ True  True False  True]\n",
      "\n",
      "selected:\n",
      " [1 2 4]\n"
     ]
    }
   ],
   "source": [
    "# Selecting the both rows and columns.\n",
    "\n",
    "print('array:', x,\n",
    "      '\\nrow index:', b[0],\n",
    "      '\\ncolumn index:', b[1],\n",
    "      sep='\\n')\n",
    "\n",
    "if np.any(b[0]) and np.any(b[1]):\n",
    "    print('\\nselected:\\n',\n",
    "          x[b[0], b[1]])"
   ]
  }
 ],
 "metadata": {
  "kernelspec": {
   "display_name": "Python 3",
   "language": "python",
   "name": "python3"
  },
  "language_info": {
   "codemirror_mode": {
    "name": "ipython",
    "version": 3
   },
   "file_extension": ".py",
   "mimetype": "text/x-python",
   "name": "python",
   "nbconvert_exporter": "python",
   "pygments_lexer": "ipython3",
   "version": "3.8.6"
  }
 },
 "nbformat": 4,
 "nbformat_minor": 2
}
