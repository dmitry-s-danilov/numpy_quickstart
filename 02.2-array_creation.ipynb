{
 "cells": [
  {
   "cell_type": "markdown",
   "metadata": {},
   "source": [
    "# Array Creation\n",
    "\n",
    "## Functions to create\n",
    "\n",
    "* NumPy offers several functions to create arrays\n",
    "  with initial placeholder content:\n",
    "  * **zeros** creates an array full of zeros,\n",
    "  * **ones** creates an array full of ones,\n",
    "  * **empty** creates an array\n",
    "    whose initial content is random\n",
    "    and depends on the state of the memory.\n",
    "* By default, the dtype of the created array is float\n",
    "  but can also be specified.\n",
    "\n",
    "## Links\n",
    "\n",
    "[NumPy v1.17 Manual](https://numpy.org/doc/1.17/index.html) >>  \n",
    "[NumPy User Guide](https://numpy.org/doc/1.17/user/index.html) >>  \n",
    "[Quickstart tutorial](https://numpy.org/doc/1.17/user/quickstart.html#) >>  \n",
    "[The Basics](https://numpy.org/doc/1.17/user/quickstart.html#the-basics) >>  \n",
    "[Array Creation](https://numpy.org/doc/1.17/user/quickstart.html#array-creation)\n",
    "\n"
   ]
  },
  {
   "cell_type": "code",
   "execution_count": 1,
   "metadata": {},
   "outputs": [],
   "source": [
    "import numpy as np\n"
   ]
  },
  {
   "cell_type": "code",
   "execution_count": 2,
   "metadata": {},
   "outputs": [
    {
     "name": "stdout",
     "output_type": "stream",
     "text": [
      "<class 'numpy.ndarray'>:\n",
      "[0 0 0 0 0 0 0 0 0 0 0 0]\n",
      "ndim: 1\n",
      "shape: (12,)\n",
      "size: 12\n",
      "dtype: int64\n",
      "itemsize: 8\n"
     ]
    }
   ],
   "source": [
    "# Creates 1D ndarray full of zeros,\n",
    "# using numpy.zeros function.\n",
    "x = np.zeros(shape=12, dtype=int)\n",
    "\n",
    "print(f'{type(x)}:', x,\n",
    "      f'ndim: {x.ndim}',\n",
    "      f'shape: {x.shape}',\n",
    "      f'size: {x.size}',\n",
    "      f'dtype: {x.dtype}',\n",
    "      f'itemsize: {x.itemsize}',\n",
    "      sep='\\n')\n"
   ]
  },
  {
   "cell_type": "code",
   "execution_count": 3,
   "metadata": {},
   "outputs": [
    {
     "name": "stdout",
     "output_type": "stream",
     "text": [
      "<class 'numpy.ndarray'>:\n",
      "[[1 1 1 1]\n",
      " [1 1 1 1]\n",
      " [1 1 1 1]]\n",
      "ndim: 2\n",
      "shape: (3, 4)\n",
      "size: 12\n",
      "dtype: int64\n",
      "itemsize: 8\n"
     ]
    }
   ],
   "source": [
    "# Creates 2D ndarray full of ones,\n",
    "# using numpy.ones function.\n",
    "x = np.ones(shape=(3, 4), dtype=int)\n",
    "\n",
    "print(f'{type(x)}:', x,\n",
    "      f'ndim: {x.ndim}',\n",
    "      f'shape: {x.shape}',\n",
    "      f'size: {x.size}',\n",
    "      f'dtype: {x.dtype}',\n",
    "      f'itemsize: {x.itemsize}',\n",
    "      sep='\\n')\n"
   ]
  },
  {
   "cell_type": "code",
   "execution_count": 4,
   "metadata": {},
   "outputs": [
    {
     "name": "stdout",
     "output_type": "stream",
     "text": [
      "<class 'numpy.ndarray'>:\n",
      "[[[ 4.64437661e-310  0.00000000e+000  6.91931441e-310 -8.24654890e-057]\n",
      "  [ 6.91931444e-310  6.91931441e-310 -2.19677613e-281  6.91931444e-310]\n",
      "  [ 6.91931441e-310  1.28868382e-047  6.91931441e-310  6.91931441e-310]]\n",
      "\n",
      " [[-1.40345622e-282  6.91931441e-310  6.91931441e-310  2.24346439e-191]\n",
      "  [ 6.91931441e-310  6.91931441e-310  7.32016741e+026  6.91931441e-310]\n",
      "  [ 6.91931441e-310 -2.20218395e-038  6.91931441e-310  6.91931441e-310]]]\n",
      "ndim: 3\n",
      "shape: (2, 3, 4)\n",
      "size: 24\n",
      "dtype: float64\n",
      "itemsize: 8\n"
     ]
    }
   ],
   "source": [
    "# Creates 3D ndarray full of randoms,\n",
    "# using numpy.empty function.\n",
    "x = np.empty((2, 3, 4))\n",
    "\n",
    "print(f'{type(x)}:', x,\n",
    "      f'ndim: {x.ndim}',\n",
    "      f'shape: {x.shape}',\n",
    "      f'size: {x.size}',\n",
    "      f'dtype: {x.dtype}',\n",
    "      f'itemsize: {x.itemsize}',\n",
    "      sep='\\n')\n"
   ]
  }
 ],
 "metadata": {
  "kernelspec": {
   "display_name": "Python 3",
   "language": "python",
   "name": "python3"
  },
  "language_info": {
   "codemirror_mode": {
    "name": "ipython",
    "version": 3
   },
   "file_extension": ".py",
   "mimetype": "text/x-python",
   "name": "python",
   "nbconvert_exporter": "python",
   "pygments_lexer": "ipython3",
   "version": "3.7.3"
  }
 },
 "nbformat": 4,
 "nbformat_minor": 2
}
