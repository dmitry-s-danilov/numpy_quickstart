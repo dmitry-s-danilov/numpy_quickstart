{
 "cells": [
  {
   "cell_type": "markdown",
   "metadata": {},
   "source": [
    "# The basics\n",
    "\n",
    "## Basic operations\n",
    "\n",
    "### Inplace operations\n",
    "\n",
    "- Some operations, such as `+=` and `*=`,\n",
    "  act in place to modify an existing array\n",
    "  rather than create a new one.\n",
    "- Type is not automatically converted"
   ]
  },
  {
   "cell_type": "code",
   "execution_count": 1,
   "metadata": {},
   "outputs": [],
   "source": [
    "import numpy as np"
   ]
  },
  {
   "cell_type": "code",
   "execution_count": 2,
   "metadata": {},
   "outputs": [
    {
     "name": "stdout",
     "output_type": "stream",
     "text": [
      "x:\n",
      "[[0 0 0]\n",
      " [0 0 0]]\n",
      "\n",
      "x += 1:\n",
      "[[1 1 1]\n",
      " [1 1 1]]\n",
      "\n",
      "x *= 2:\n",
      "[[2 2 2]\n",
      " [2 2 2]]\n",
      "\n",
      "y:\n",
      "[[0 0 0]\n",
      " [0 0 0]]\n",
      "\n",
      "y += x + 1:\n",
      "[[3 3 3]\n",
      " [3 3 3]]\n",
      "\n",
      "y *= x + y:\n",
      "[[15 15 15]\n",
      " [15 15 15]]\n",
      "\n"
     ]
    }
   ],
   "source": [
    "# Create a couple of zero filled 2d arrays\n",
    "# and apply inplace operations to them.\n",
    "\n",
    "x, y = np.zeros((2, 2, 3), dtype=int) \n",
    "\n",
    "print(f'x:\\n{x}', end='\\n\\n')\n",
    "\n",
    "x += 1\n",
    "print(f'x += 1:\\n{x}', end='\\n\\n')\n",
    "\n",
    "x *= 2\n",
    "print(f'x *= 2:\\n{x}', end='\\n\\n')\n",
    "\n",
    "print(f'y:\\n{y}', end='\\n\\n')\n",
    "\n",
    "y += x + 1\n",
    "print(f'y += x + 1:\\n{y}', end='\\n\\n')\n",
    "\n",
    "y *= x + y\n",
    "print(f'y *= x + y:\\n{y}', end='\\n\\n')"
   ]
  },
  {
   "cell_type": "code",
   "execution_count": 3,
   "metadata": {},
   "outputs": [
    {
     "ename": "UFuncTypeError",
     "evalue": "Cannot cast ufunc 'add' output from dtype('float64') to dtype('int64') with casting rule 'same_kind'",
     "output_type": "error",
     "traceback": [
      "\u001b[0;31m---------------------------------------------------------------------------\u001b[0m",
      "\u001b[0;31mUFuncTypeError\u001b[0m                            Traceback (most recent call last)",
      "\u001b[0;32m<ipython-input-3-7f96bda58354>\u001b[0m in \u001b[0;36m<module>\u001b[0;34m\u001b[0m\n\u001b[1;32m      9\u001b[0m \u001b[0mx\u001b[0m \u001b[0;34m+=\u001b[0m \u001b[0my\u001b[0m\u001b[0;34m\u001b[0m\u001b[0;34m\u001b[0m\u001b[0m\n\u001b[1;32m     10\u001b[0m \u001b[0;31m# Casting from float to int leads to an error.\u001b[0m\u001b[0;34m\u001b[0m\u001b[0;34m\u001b[0m\u001b[0;34m\u001b[0m\u001b[0m\n\u001b[0;32m---> 11\u001b[0;31m \u001b[0my\u001b[0m \u001b[0;34m+=\u001b[0m \u001b[0mx\u001b[0m\u001b[0;34m\u001b[0m\u001b[0;34m\u001b[0m\u001b[0m\n\u001b[0m",
      "\u001b[0;31mUFuncTypeError\u001b[0m: Cannot cast ufunc 'add' output from dtype('float64') to dtype('int64') with casting rule 'same_kind'"
     ]
    }
   ],
   "source": [
    "# Raise the type casting error.\n",
    "\n",
    "# Create a couple of arrays\n",
    "# of the same shape but the different types.\n",
    "x = np.empty(3)  # float\n",
    "y = np.empty_like(x, dtype=int)  # int\n",
    "\n",
    "# Casting from int to float performs correctly.\n",
    "x += y\n",
    "# Casting from float to int leads to an error.\n",
    "y += x"
   ]
  }
 ],
 "metadata": {
  "kernelspec": {
   "display_name": "Python 3",
   "language": "python",
   "name": "python3"
  },
  "language_info": {
   "codemirror_mode": {
    "name": "ipython",
    "version": 3
   },
   "file_extension": ".py",
   "mimetype": "text/x-python",
   "name": "python",
   "nbconvert_exporter": "python",
   "pygments_lexer": "ipython3",
   "version": "3.8.6"
  }
 },
 "nbformat": 4,
 "nbformat_minor": 2
}
