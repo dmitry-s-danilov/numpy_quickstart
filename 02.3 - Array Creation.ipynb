{
 "cells": [
  {
   "cell_type": "markdown",
   "metadata": {},
   "source": [
    "# Array Creation\n",
    "\n",
    "[NumPy v1.17 Manual](https://numpy.org/doc/1.17/index.html) >>  \n",
    "[NumPy User Guide](https://numpy.org/doc/1.17/user/index.html) >>  \n",
    "[Quickstart tutorial](https://numpy.org/doc/1.17/user/quickstart.html#) >>  \n",
    "[The Basics](https://numpy.org/doc/1.17/user/quickstart.html#the-basics) >>  \n",
    "[Array Creation](https://numpy.org/doc/1.17/user/quickstart.html#array-creation)\n",
    "\n",
    "To create sequences of numbers,\n",
    "NumPy provides a function **arange**\n",
    "analogous to **range**\n",
    "that returns arrays instead of lists.\n",
    "It accepts float arguments.\n",
    "\n",
    "The function **linspace** receives\n",
    "as an argument the number of elements\n",
    "that we want,\n",
    "instead of the step."
   ]
  },
  {
   "cell_type": "code",
   "execution_count": 8,
   "metadata": {},
   "outputs": [],
   "source": [
    "import numpy as np\n",
    "import matplotlib.pyplot as plt"
   ]
  },
  {
   "cell_type": "code",
   "execution_count": 41,
   "metadata": {},
   "outputs": [
    {
     "name": "stdout",
     "output_type": "stream",
     "text": [
      "<class 'numpy.ndarray'>:\n",
      "[0.  0.2 0.4 0.6 0.8 1.  1.2 1.4 1.6 1.8 2. ]\n",
      "ndim: 1\n",
      "shape: (11,)\n",
      "size: 11\n",
      "dtype: float64\n",
      "itemsize: 8\n"
     ]
    }
   ],
   "source": [
    "# create array\n",
    "# of evenly spaced values\n",
    "# within a given interval\n",
    "\n",
    "x_min = 0\n",
    "x_max = 2\n",
    "x_num = 10\n",
    "x_step = (x_max - x_min) / x_num\n",
    "x = np.arange(\n",
    "    start=x_min,\n",
    "    stop=x_max + x_step,\n",
    "    step=x_step)\n",
    "\n",
    "print(\n",
    "    f'{type(x)}:', x,\n",
    "    f'ndim: {x.ndim}',\n",
    "    f'shape: {x.shape}',\n",
    "    f'size: {x.size}',\n",
    "    f'dtype: {x.dtype}',\n",
    "    f'itemsize: {x.itemsize}',\n",
    "    sep='\\n')"
   ]
  },
  {
   "cell_type": "code",
   "execution_count": 40,
   "metadata": {},
   "outputs": [
    {
     "name": "stdout",
     "output_type": "stream",
     "text": [
      "<class 'numpy.ndarray'>:\n",
      "[0.         0.22222222 0.44444444 0.66666667 0.88888889 1.11111111\n",
      " 1.33333333 1.55555556 1.77777778 2.        ]\n",
      "ndim: 1\n",
      "shape: (10,)\n",
      "size: 10\n",
      "dtype: float64\n",
      "itemsize: 8\n"
     ]
    }
   ],
   "source": [
    "# create array\n",
    "# of evenly spaced numbers\n",
    "# over a specified interval\n",
    "\n",
    "y_num = x.size - 1\n",
    "y = np.linspace(\n",
    "    start=x_min,\n",
    "    stop=x_max,\n",
    "    num=y_num)\n",
    "\n",
    "print(\n",
    "    f'{type(y)}:', y,\n",
    "    f'ndim: {y.ndim}',\n",
    "    f'shape: {y.shape}',\n",
    "    f'size: {y.size}',\n",
    "    f'dtype: {y.dtype}',\n",
    "    f'itemsize: {y.itemsize}',\n",
    "    sep='\\n')"
   ]
  },
  {
   "cell_type": "code",
   "execution_count": 36,
   "metadata": {},
   "outputs": [
    {
     "data": {
      "image/png": "[encoded data removed]",
      "text/plain": [
       "<Figure size 432x288 with 1 Axes>"
      ]
     },
     "metadata": {
      "needs_background": "light"
     },
     "output_type": "display_data"
    }
   ],
   "source": [
    "plt.plot(x, np.zeros(x.size), 'x', label=f'size: {x.size}')\n",
    "plt.plot(y, np.zeros(y.size), '+', label=f'size: {y.size}')\n",
    "plt.yticks(ticks=[])\n",
    "plt.legend()\n",
    "plt.show()"
   ]
  }
 ],
 "metadata": {
  "kernelspec": {
   "display_name": "Python 3",
   "language": "python",
   "name": "python3"
  },
  "language_info": {
   "codemirror_mode": {
    "name": "ipython",
    "version": 3
   },
   "file_extension": ".py",
   "mimetype": "text/x-python",
   "name": "python",
   "nbconvert_exporter": "python",
   "pygments_lexer": "ipython3",
   "version": "3.7.3"
  }
 },
 "nbformat": 4,
 "nbformat_minor": 2
}
