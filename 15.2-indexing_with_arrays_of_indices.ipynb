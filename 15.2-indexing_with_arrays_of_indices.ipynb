{
 "cells": [
  {
   "cell_type": "markdown",
   "metadata": {},
   "source": [
    "# [Indexing with Arrays of Indices][indexing]\n",
    "\n",
    "## 2D Array Indexing by Array of Integers\n",
    "\n",
    "* In addition to indexing by integers and slices,\n",
    "  arrays can be indexed by arrays of integers.\n",
    "* When the indexed array is multidimensional,\n",
    "  a single array of indices refers to its first dimension.\n",
    "\n",
    "## Links\n",
    "[NumPy Manual][manual] >>  \n",
    "[NumPy User Guide][user_guide] >>  \n",
    "[Quickstart tutorial][tutorial] >>  \n",
    "[Fancy indexing and index tricks][index_tricks] >>  \n",
    "[Indexing with Arrays of Indices][indexing]\n",
    "\n",
    "[comment]: #(tags)\n",
    "[manual]: https://numpy.org/devdocs/\n",
    "[user_guide]: https://numpy.org/devdocs/user/index.html\n",
    "[tutorial]: https://numpy.org/devdocs/user/quickstart.html#\n",
    "[index_tricks]: https://numpy.org/devdocs/user/quickstart.html#fancy-indexing-and-index-tricks\n",
    "[indexing]: https://numpy.org/devdocs/user/quickstart.html#indexing-with-arrays-of-indices"
   ]
  },
  {
   "cell_type": "code",
   "execution_count": 1,
   "metadata": {},
   "outputs": [],
   "source": [
    "import numpy as np\n"
   ]
  },
  {
   "cell_type": "code",
   "execution_count": 2,
   "metadata": {},
   "outputs": [
    {
     "name": "stdout",
     "output_type": "stream",
     "text": [
      "x:\n",
      "[[   0    0]\n",
      " [   1    1]\n",
      " [   4    8]\n",
      " [   9   27]\n",
      " [  16   64]\n",
      " [  25  125]\n",
      " [  36  216]\n",
      " [  49  343]\n",
      " [  64  512]\n",
      " [  81  729]\n",
      " [ 100 1000]]\n",
      "(11, 2)\n",
      "\n",
      " x x^2  x^3\n",
      " 0   0    0\n",
      " 1   1    1\n",
      " 2   4    8\n",
      " 3   9   27\n",
      " 4  16   64\n",
      " 5  25  125\n",
      " 6  36  216\n",
      " 7  49  343\n",
      " 8  64  512\n",
      " 9  81  729\n",
      "10 100 1000\n"
     ]
    }
   ],
   "source": [
    "# Creates 3D array containing\n",
    "# square and cubic degrees.\n",
    "x_min, x_max, x_step = 0, 10, 1\n",
    "x = np.arange(start=x_min,\n",
    "              stop=x_max + x_step,\n",
    "              step=x_step)\n",
    "x = np.array([x**2, x**3]).T\n",
    "\n",
    "print('x:', x, x.shape,\n",
    "      sep='\\n', end='\\n\\n')\n",
    "\n",
    "print('{:>2} {:>3} {:>4}'.format('x', 'x^2', 'x^3'))\n",
    "for _ in range(len(x)):\n",
    "    print(f'{_:>2} {x[_, 0]:>3} {x[_, 1]:>4}')\n"
   ]
  },
  {
   "cell_type": "markdown",
   "metadata": {},
   "source": [
    "### 2D by 1D"
   ]
  },
  {
   "cell_type": "code",
   "execution_count": 3,
   "metadata": {},
   "outputs": [
    {
     "name": "stdout",
     "output_type": "stream",
     "text": [
      "x:\n",
      "[[   0    0]\n",
      " [   1    1]\n",
      " [   4    8]\n",
      " [   9   27]\n",
      " [  16   64]\n",
      " [  25  125]\n",
      " [  36  216]\n",
      " [  49  343]\n",
      " [  64  512]\n",
      " [  81  729]\n",
      " [ 100 1000]]\n",
      "(11, 2)\n",
      "\n",
      "i:\n",
      "[7 7 5]\n",
      "(3,)\n",
      "\n",
      "y:\n",
      "[[ 49 343]\n",
      " [ 49 343]\n",
      " [ 25 125]]\n",
      "(3, 2)\n",
      "\n",
      " k  x x^2  x^3\n",
      " 0  7  49  343\n",
      " 1  7  49  343\n",
      " 2  5  25  125\n"
     ]
    }
   ],
   "source": [
    "# Creates 1D array of random integers,\n",
    "# which is the array of indices.\n",
    "i_shape = 3,\n",
    "i_low, i_high = 0, x.shape[0]\n",
    "i=np.random.randint(low=i_low,\n",
    "                    high=i_high,\n",
    "                    size=i_shape)\n",
    "# Creates 2D array\n",
    "# indexed by the array of integers,\n",
    "# which contrains the elements\n",
    "# at specified positions.\n",
    "y = x[i]\n",
    "\n",
    "print('x:', x, x.shape, '',\n",
    "      'i:', i, i.shape, '',\n",
    "      'y:', y, y.shape,\n",
    "      sep='\\n', end='\\n\\n')\n",
    "\n",
    "print('{:>2} {:>2} {:>3} {:>4}'.format('k', 'x', 'x^2', 'x^3'))\n",
    "for _ in range(len(i)):\n",
    "    print(f'{_:>2} {i[_]:>2} {y[_, 0]:>3} {y[_, 1]:>4}')\n"
   ]
  },
  {
   "cell_type": "markdown",
   "metadata": {},
   "source": [
    "### 2D by 2D"
   ]
  },
  {
   "cell_type": "code",
   "execution_count": 4,
   "metadata": {},
   "outputs": [
    {
     "name": "stdout",
     "output_type": "stream",
     "text": [
      "x:\n",
      "[[   0    0]\n",
      " [   1    1]\n",
      " [   4    8]\n",
      " [   9   27]\n",
      " [  16   64]\n",
      " [  25  125]\n",
      " [  36  216]\n",
      " [  49  343]\n",
      " [  64  512]\n",
      " [  81  729]\n",
      " [ 100 1000]]\n",
      "(11, 2)\n",
      "\n",
      "i:\n",
      "[[5 6 8 1]\n",
      " [6 7 4 5]\n",
      " [3 6 6 5]]\n",
      "(3, 4)\n",
      "\n",
      "y:\n",
      "[[[ 25 125]\n",
      "  [ 36 216]\n",
      "  [ 64 512]\n",
      "  [  1   1]]\n",
      "\n",
      " [[ 36 216]\n",
      "  [ 49 343]\n",
      "  [ 16  64]\n",
      "  [ 25 125]]\n",
      "\n",
      " [[  9  27]\n",
      "  [ 36 216]\n",
      "  [ 36 216]\n",
      "  [ 25 125]]]\n",
      "(3, 4, 2)\n",
      "\n"
     ]
    }
   ],
   "source": [
    "# Creates 2D array of random integers,\n",
    "# which is the array of indices.\n",
    "i_shape = 3, 4\n",
    "i_low, i_high = 0, x.shape[0]\n",
    "i=np.random.randint(low=i_low,\n",
    "                    high=i_high,\n",
    "                    size=i_shape)\n",
    "# Creates 3D array\n",
    "# indexed by the array of integers,\n",
    "# which contrains the elements\n",
    "# at specified positions.\n",
    "y = x[i]\n",
    "\n",
    "print('x:', x, x.shape, '',\n",
    "      'i:', i, i.shape, '',\n",
    "      'y:', y, y.shape,\n",
    "      sep='\\n', end='\\n\\n')\n"
   ]
  }
 ],
 "metadata": {
  "kernelspec": {
   "display_name": "Python 3",
   "language": "python",
   "name": "python3"
  },
  "language_info": {
   "codemirror_mode": {
    "name": "ipython",
    "version": 3
   },
   "file_extension": ".py",
   "mimetype": "text/x-python",
   "name": "python",
   "nbconvert_exporter": "python",
   "pygments_lexer": "ipython3",
   "version": "3.7.3"
  }
 },
 "nbformat": 4,
 "nbformat_minor": 2
}
