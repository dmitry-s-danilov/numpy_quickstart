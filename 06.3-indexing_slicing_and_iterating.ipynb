{
 "cells": [
  {
   "cell_type": "markdown",
   "metadata": {},
   "source": [
    "# Indexing, Slicing and Iterating\n",
    "\n",
    "## Iterating\n",
    "\n",
    "* Iterating over multidimensional arrays is done with respect to the first axis.\n",
    "* However, if one wants to perform an operation on each element in the array,\n",
    "  one can use the **ndarray.flat** attribute\n",
    "  which is an iterator over all the elements of the array.\n",
    "\n",
    "## Links\n",
    "\n",
    "[NumPy v1.17 Manual](https://numpy.org/doc/1.17/index.html) >>  \n",
    "[NumPy User Guide](https://numpy.org/doc/1.17/user/index.html) >>  \n",
    "[Quickstart tutorial](https://numpy.org/doc/1.17/user/quickstart.html#) >>  \n",
    "[The Basics](https://numpy.org/doc/1.17/user/quickstart.html#the-basics) >>  \n",
    "[Indexing, Slicing and Iterating](https://numpy.org/doc/1.17/user/quickstart.html#indexing-slicing-and-iterating)\n"
   ]
  },
  {
   "cell_type": "code",
   "execution_count": 1,
   "metadata": {},
   "outputs": [],
   "source": [
    "import numpy as np\n"
   ]
  },
  {
   "cell_type": "code",
   "execution_count": 2,
   "metadata": {},
   "outputs": [
    {
     "name": "stdout",
     "output_type": "stream",
     "text": [
      "<class 'numpy.ndarray'>:\n",
      "[[ 1  2  3  4]\n",
      " [ 5  6  7  8]\n",
      " [ 9 10 11 12]]\n",
      "ndim: 2\n",
      "shape: (3, 4)\n",
      "size: 12\n"
     ]
    }
   ],
   "source": [
    "# Create 2D array\n",
    "# using numpy.array fucntion\n",
    "# and ndarray.reshape method.\n",
    "\n",
    "n, m = 3, 4\n",
    "x = np.arange(1, n * m + 1, 1).reshape(n, m)\n",
    "\n",
    "print(f'{type(x)}:', x,\n",
    "      f'ndim: {x.ndim}',\n",
    "      f'shape: {x.shape}',\n",
    "      f'size: {x.size}',\n",
    "      sep='\\n')"
   ]
  },
  {
   "cell_type": "code",
   "execution_count": 3,
   "metadata": {},
   "outputs": [
    {
     "name": "stdout",
     "output_type": "stream",
     "text": [
      "0 [1 2 3 4]\n",
      "1 [5 6 7 8]\n",
      "2 [ 9 10 11 12]\n"
     ]
    }
   ],
   "source": [
    "# Iterate over the array\n",
    "# with respect to the first axis.\n",
    "\n",
    "i = 0\n",
    "for y in x:\n",
    "    print(i, y)\n",
    "    i += 1\n"
   ]
  },
  {
   "cell_type": "code",
   "execution_count": 4,
   "metadata": {},
   "outputs": [
    {
     "name": "stdout",
     "output_type": "stream",
     "text": [
      "0 [1 2 3 4]\n",
      "1 [5 6 7 8]\n",
      "2 [ 9 10 11 12]\n"
     ]
    }
   ],
   "source": [
    "# Iterate over the array\n",
    "# with respect to the first axis index.\n",
    "\n",
    "for i in range(x.shape[0]):\n",
    "    print(f'{i} {x[i]}')\n"
   ]
  },
  {
   "cell_type": "code",
   "execution_count": 5,
   "metadata": {},
   "outputs": [
    {
     "name": "stdout",
     "output_type": "stream",
     "text": [
      " 0  1\n",
      " 1  2\n",
      " 2  3\n",
      " 3  4\n",
      " 4  5\n",
      " 5  6\n",
      " 6  7\n",
      " 7  8\n",
      " 8  9\n",
      " 9 10\n",
      "10 11\n",
      "11 12\n"
     ]
    }
   ],
   "source": [
    "# Iterate over all the elements of the array\n",
    "# using ndarray.flat attribute.\n",
    "\n",
    "i = 0\n",
    "for y in x.flat:\n",
    "    print(f'{i:>2}{y:>3}')\n",
    "    i += 1\n"
   ]
  },
  {
   "cell_type": "code",
   "execution_count": 6,
   "metadata": {},
   "outputs": [
    {
     "name": "stdout",
     "output_type": "stream",
     "text": [
      " 0  1\n",
      " 1  2\n",
      " 2  3\n",
      " 3  4\n",
      " 4  5\n",
      " 5  6\n",
      " 6  7\n",
      " 7  8\n",
      " 8  9\n",
      " 9 10\n",
      "10 11\n",
      "11 12\n"
     ]
    }
   ],
   "source": [
    "# Iterate over indeces of the array elements\n",
    "# using ndarray.flat attribute.\n",
    "\n",
    "for i in range(x.size):\n",
    "    print(f'{i:>2}{x.flat[i]:>3}')\n"
   ]
  }
 ],
 "metadata": {
  "kernelspec": {
   "display_name": "Python 3",
   "language": "python",
   "name": "python3"
  },
  "language_info": {
   "codemirror_mode": {
    "name": "ipython",
    "version": 3
   },
   "file_extension": ".py",
   "mimetype": "text/x-python",
   "name": "python",
   "nbconvert_exporter": "python",
   "pygments_lexer": "ipython3",
   "version": "3.7.3"
  }
 },
 "nbformat": 4,
 "nbformat_minor": 2
}
