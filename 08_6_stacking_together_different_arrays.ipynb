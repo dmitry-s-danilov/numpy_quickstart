{
 "cells": [
  {
   "cell_type": "markdown",
   "metadata": {},
   "source": [
    "# Stacking together different arrays\n",
    "\n",
    "## newaxis object\n",
    "* Each **newaxis** object in the selection tuple\n",
    "  serves to expand the dimensions of the resulting selection\n",
    "  by one unit-length dimension.\n",
    "* The added dimension is the position\n",
    "  of the **newaxis** object in the selection tuple."
   ]
  },
  {
   "cell_type": "code",
   "execution_count": 1,
   "metadata": {},
   "outputs": [],
   "source": [
    "import numpy as np\n",
    "from numpy import newaxis"
   ]
  },
  {
   "cell_type": "code",
   "execution_count": 2,
   "metadata": {},
   "outputs": [],
   "source": [
    "# Creates two 1D arrays of the same shape,\n",
    "# containig random integers in the range from 0 to 9.\n",
    "n, s = 2, 3\n",
    "x, y = [np.array(np.floor(10 * np.random.random(s)),\n",
    "                 dtype=int)\n",
    "        for _ in range(n)]"
   ]
  },
  {
   "cell_type": "code",
   "execution_count": 3,
   "metadata": {},
   "outputs": [
    {
     "name": "stdout",
     "output_type": "stream",
     "text": [
      "1:\n",
      "[6 0 9]\n",
      "(3,)\n",
      "\n",
      "2:\n",
      "[7 2 7]\n",
      "(3,)\n",
      "\n",
      "vstack:\n",
      "[[6 0 9]\n",
      " [7 2 7]]\n",
      "(2, 3)\n",
      "\n",
      "row_stack:\n",
      "[[6 0 9]\n",
      " [7 2 7]]\n",
      "(2, 3)\n",
      "\n",
      "hstack:\n",
      "[6 0 9 7 2 7]\n",
      "(6,)\n",
      "\n",
      "column_stack:\n",
      "[[6 7]\n",
      " [0 2]\n",
      " [9 7]]\n",
      "(3, 2)\n",
      "\n"
     ]
    }
   ],
   "source": [
    "# Applies stack functions to 1D arrays.\n",
    "z = [np.vstack((x, y)),\n",
    "     np.row_stack((x, y)),\n",
    "     np.hstack((x, y)),\n",
    "     np.column_stack((x, y))]\n",
    "\n",
    "print('1:', x, x.shape, '',\n",
    "      '2:', y, y.shape, '',\n",
    "      'vstack:', z[0], z[0].shape, '',\n",
    "      'row_stack:', z[1], z[1].shape, '',\n",
    "      'hstack:', z[2], z[2].shape, '',\n",
    "      'column_stack:', z[3], z[3].shape, '',\n",
    "      sep='\\n')"
   ]
  },
  {
   "cell_type": "code",
   "execution_count": 4,
   "metadata": {},
   "outputs": [
    {
     "name": "stdout",
     "output_type": "stream",
     "text": [
      "1:\n",
      "[[6 0 9]]\n",
      "(1, 3)\n",
      "\n",
      "2:\n",
      "[[7 2 7]]\n",
      "(1, 3)\n",
      "\n",
      "vstack:\n",
      "[[6 0 9]\n",
      " [7 2 7]]\n",
      "(2, 3)\n",
      "\n",
      "row_stack:\n",
      "[[6 0 9]\n",
      " [7 2 7]]\n",
      "(2, 3)\n",
      "\n",
      "hstack:\n",
      "[[6 0 9 7 2 7]]\n",
      "(1, 6)\n",
      "\n",
      "column_stack:\n",
      "[[6 0 9 7 2 7]]\n",
      "(1, 6)\n",
      "\n"
     ]
    }
   ],
   "source": [
    "# Increases the dimension of the 1D arrays\n",
    "# by adding the first axis vie newaxis object,\n",
    "# after that applies stack functions.\n",
    "x1 = x[newaxis,:]\n",
    "y1 = y[newaxis,:]\n",
    "z1 = [np.vstack((x1, y1)),\n",
    "      np.row_stack((x1, y1)),\n",
    "      np.hstack((x1, y1)),\n",
    "      np.column_stack((x1, y1))]\n",
    "\n",
    "print('1:', x1, x1.shape, '',\n",
    "      '2:', y1, y1.shape, '',\n",
    "      'vstack:', z1[0], z1[0].shape, '',\n",
    "      'row_stack:', z1[1], z1[1].shape, '',\n",
    "      'hstack:', z1[2], z1[2].shape, '',\n",
    "      'column_stack:', z1[3], z1[3].shape, '',\n",
    "      sep='\\n')"
   ]
  },
  {
   "cell_type": "code",
   "execution_count": 5,
   "metadata": {},
   "outputs": [
    {
     "name": "stdout",
     "output_type": "stream",
     "text": [
      "1:\n",
      "[[6]\n",
      " [0]\n",
      " [9]]\n",
      "(3, 1)\n",
      "\n",
      "2:\n",
      "[[7]\n",
      " [2]\n",
      " [7]]\n",
      "(3, 1)\n",
      "\n",
      "vstack:\n",
      "[[6]\n",
      " [0]\n",
      " [9]\n",
      " [7]\n",
      " [2]\n",
      " [7]]\n",
      "(6, 1)\n",
      "\n",
      "row_stack:\n",
      "[[6]\n",
      " [0]\n",
      " [9]\n",
      " [7]\n",
      " [2]\n",
      " [7]]\n",
      "(6, 1)\n",
      "\n",
      "hstack:\n",
      "[[6 7]\n",
      " [0 2]\n",
      " [9 7]]\n",
      "(3, 2)\n",
      "\n",
      "column_stack:\n",
      "[[6 7]\n",
      " [0 2]\n",
      " [9 7]]\n",
      "(3, 2)\n",
      "\n"
     ]
    }
   ],
   "source": [
    "# Increases the dimension of the 1D arrays\n",
    "# by adding the second axis vie newaxis object,\n",
    "# after that applies stack functions.\n",
    "x1 = x[:,newaxis]\n",
    "y1 = y[:,newaxis]\n",
    "z1 = [np.vstack((x1, y1)),\n",
    "      np.row_stack((x1, y1)),\n",
    "      np.hstack((x1, y1)),\n",
    "      np.column_stack((x1, y1))]\n",
    "\n",
    "print('1:', x1, x1.shape, '',\n",
    "      '2:', y1, y1.shape, '',\n",
    "      'vstack:', z1[0], z1[0].shape, '',\n",
    "      'row_stack:', z1[1], z1[1].shape, '',\n",
    "      'hstack:', z1[2], z1[2].shape, '',\n",
    "      'column_stack:', z1[3], z1[3].shape, '',\n",
    "      sep='\\n')"
   ]
  }
 ],
 "metadata": {
  "kernelspec": {
   "display_name": "Python 3",
   "language": "python",
   "name": "python3"
  },
  "language_info": {
   "codemirror_mode": {
    "name": "ipython",
    "version": 3
   },
   "file_extension": ".py",
   "mimetype": "text/x-python",
   "name": "python",
   "nbconvert_exporter": "python",
   "pygments_lexer": "ipython3",
   "version": "3.8.6"
  }
 },
 "nbformat": 4,
 "nbformat_minor": 2
}
