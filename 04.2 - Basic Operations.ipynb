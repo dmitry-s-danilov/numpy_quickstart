{
 "cells": [
  {
   "cell_type": "markdown",
   "metadata": {},
   "source": [
    "# Basic Operations\n",
    "\n",
    "[NumPy v1.17 Manual](https://numpy.org/doc/1.17/index.html) >>  \n",
    "[NumPy User Guide](https://numpy.org/doc/1.17/user/index.html) >>  \n",
    "[Quickstart tutorial](https://numpy.org/doc/1.17/user/quickstart.html#) >>  \n",
    "[The Basics](https://numpy.org/doc/1.17/user/quickstart.html#the-basics) >>  \n",
    "[Basic Operations](https://numpy.org/doc/1.17/user/quickstart.html#basic-operations)\n",
    "\n",
    "Unlike in many matrix languages,\n",
    "the product operator *****\n",
    "operates elementwise in NumPy arrays.\n",
    "The matrix product can be performed\n",
    "using the **@** operator\n",
    "or the **dot** function or method."
   ]
  },
  {
   "cell_type": "code",
   "execution_count": 44,
   "metadata": {},
   "outputs": [],
   "source": [
    "import numpy as np"
   ]
  },
  {
   "cell_type": "code",
   "execution_count": 45,
   "metadata": {},
   "outputs": [
    {
     "name": "stdout",
     "output_type": "stream",
     "text": [
      "x:\n",
      "[[1 2]\n",
      " [3 4]]\n",
      "\n",
      "y:\n",
      "[[1 0]\n",
      " [0 1]]\n",
      "\n",
      "x * y:\n",
      "[[1 0]\n",
      " [0 4]]\n",
      "\n",
      "x @ y:\n",
      "[[1 2]\n",
      " [3 4]]\n",
      "\n",
      "np.dot(x, y):\n",
      "[[1 2]\n",
      " [3 4]]\n",
      "\n",
      "x.dot(y):\n",
      "[[1 2]\n",
      " [3 4]]\n"
     ]
    }
   ],
   "source": [
    "# elementwise and matrix product\n",
    "\n",
    "x = np.array([\n",
    "    [1, 2],\n",
    "    [3 ,4]])\n",
    "\n",
    "y = np.array([\n",
    "    [1, 0],\n",
    "    [0, 1]])\n",
    "\n",
    "print(\n",
    "    'x:', x, '',\n",
    "    'y:', y, '',\n",
    "    'x * y:', x * y, '',\n",
    "    'x @ y:', x @ y, '',\n",
    "    'np.dot(x, y):', np.dot(x, y), '',\n",
    "    'x.dot(y):', x.dot(y),\n",
    "    sep='\\n')"
   ]
  },
  {
   "cell_type": "code",
   "execution_count": 46,
   "metadata": {},
   "outputs": [
    {
     "name": "stdout",
     "output_type": "stream",
     "text": [
      "x:\n",
      "[[1 2 3]\n",
      " [4 5 6]]\n",
      "\n",
      "y:\n",
      "[[1 0 0]\n",
      " [0 1 0]]\n",
      "\n",
      "z:\n",
      "[[1 0]\n",
      " [0 1]]\n",
      "\n",
      "x * y:\n",
      "[[1 0 0]\n",
      " [0 5 0]]\n",
      "\n",
      "z @ x:\n",
      "[[1 2 3]\n",
      " [4 5 6]]\n",
      "\n",
      "np.dot(z, x):\n",
      "[[1 2 3]\n",
      " [4 5 6]]\n",
      "\n",
      "z.dot(x):\n",
      "[[1 2 3]\n",
      " [4 5 6]]\n"
     ]
    }
   ],
   "source": [
    "# elementwise and matrix product\n",
    "\n",
    "x = np.array([\n",
    "    [1, 2, 3],\n",
    "    [4, 5, 6]])\n",
    "\n",
    "y = np.array([\n",
    "    [1, 0, 0],\n",
    "    [0, 1, 0]])\n",
    "\n",
    "z = np.array([\n",
    "    [1, 0],\n",
    "    [0, 1]])\n",
    "\n",
    "print(\n",
    "    'x:', x, '',\n",
    "    'y:', y, '',\n",
    "    'z:', z, '',\n",
    "    'x * y:', x * y, '',\n",
    "    'z @ x:', z @ x, '',\n",
    "    'np.dot(z, x):', np.dot(z, x), '',\n",
    "    'z.dot(x):', z.dot(x),\n",
    "    sep='\\n')"
   ]
  }
 ],
 "metadata": {
  "kernelspec": {
   "display_name": "Python 3",
   "language": "python",
   "name": "python3"
  },
  "language_info": {
   "codemirror_mode": {
    "name": "ipython",
    "version": 3
   },
   "file_extension": ".py",
   "mimetype": "text/x-python",
   "name": "python",
   "nbconvert_exporter": "python",
   "pygments_lexer": "ipython3",
   "version": "3.7.3"
  }
 },
 "nbformat": 4,
 "nbformat_minor": 2
}
