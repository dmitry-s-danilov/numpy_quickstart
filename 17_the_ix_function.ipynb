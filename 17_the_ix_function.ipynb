{
 "cells": [
  {
   "cell_type": "markdown",
   "metadata": {},
   "source": [
    "# The ix_() function"
   ]
  },
  {
   "cell_type": "code",
   "execution_count": 1,
   "metadata": {},
   "outputs": [],
   "source": [
    "import numpy as np"
   ]
  },
  {
   "cell_type": "code",
   "execution_count": 2,
   "metadata": {},
   "outputs": [
    {
     "name": "stdout",
     "output_type": "stream",
     "text": [
      "x:\n",
      "[0 1 2]\n",
      "size: 3\n",
      "\n",
      "y:\n",
      "[0 1 2 3]\n",
      "size: 4\n",
      "\n",
      "z:\n",
      "[0 1 2 3 4]\n",
      "size: 5\n"
     ]
    }
   ],
   "source": [
    "# Creates three 1D arraies\n",
    "# of different size.\n",
    "x = np.array([0, 1, 2])\n",
    "y = np.array([0, 1, 2, 3])\n",
    "z = np.array([0, 1, 2, 3, 4])\n",
    "\n",
    "print('x:', x, \n",
    "      'size: {}\\n'.format(x.size),\n",
    "      'y:', y, \n",
    "      'size: {}\\n'.format(y.size),\n",
    "      'z:', z,\n",
    "      'size: {}'.format(z.size),\n",
    "      sep='\\n')"
   ]
  },
  {
   "cell_type": "markdown",
   "metadata": {},
   "source": [
    "### 2D"
   ]
  },
  {
   "cell_type": "code",
   "execution_count": 3,
   "metadata": {},
   "outputs": [
    {
     "name": "stdout",
     "output_type": "stream",
     "text": [
      "x:\n",
      "[0 1 2]\n",
      "x1:\n",
      "[[0]\n",
      " [1]\n",
      " [2]]\n",
      "check: True\n",
      "\n",
      "y:\n",
      "[0 1 2 3]\n",
      "y1:\n",
      "[[0 1 2 3]]\n",
      "check: True\n",
      "\n",
      "f1:\n",
      "[[0 1 2 3]\n",
      " [1 2 3 4]\n",
      " [2 3 4 5]]\n",
      "check: True\n"
     ]
    }
   ],
   "source": [
    "# Creates two 2D arraies\n",
    "# being suitable for broadcasting.\n",
    "\n",
    "# Increases array dimension\n",
    "# by adding second axis\n",
    "# using newaxis object.\n",
    "x1 = x[:, np.newaxis]\n",
    "# Which can be done using\n",
    "# reshape function.\n",
    "# x1 = np.reshape(x, (-1, 1))\n",
    "\n",
    "# Increases array dimension\n",
    "# by adding firts axis\n",
    "# using newaxis object.\n",
    "y1 = y[np.newaxis, :]\n",
    "# Which can be done using\n",
    "# reshape function.\n",
    "# y1 = np.reshape(y, (1, -1))\n",
    "\n",
    "# The same can be made\n",
    "# using ix_ funcyion.\n",
    "x2, y2 = np.ix_(x, y)\n",
    "\n",
    "# Applies elementwise operations\n",
    "# using broadcasting.\n",
    "f1 = x1 + y1\n",
    "f2 = x2 + y2\n",
    "\n",
    "print('x:', x, \n",
    "      'x1:', x1,\n",
    "      'check: {}\\n'.format(np.all(x1 == x2)),\n",
    "      'y:', y, \n",
    "      'y1:', y1, \n",
    "      'check: {}\\n'.format(np.all(y1 == y2)),\n",
    "      'f1:', f1, \n",
    "      'check: {}'.format(np.all(f1 == f2)),\n",
    "      sep='\\n')"
   ]
  },
  {
   "cell_type": "markdown",
   "metadata": {},
   "source": [
    "### 3D"
   ]
  },
  {
   "cell_type": "code",
   "execution_count": 4,
   "metadata": {},
   "outputs": [
    {
     "name": "stdout",
     "output_type": "stream",
     "text": [
      "x:\n",
      "[0 1 2]\n",
      "x1:\n",
      "[[[0]]\n",
      "\n",
      " [[1]]\n",
      "\n",
      " [[2]]]\n",
      "check: True\n",
      "\n",
      "y:\n",
      "[0 1 2 3]\n",
      "y1:\n",
      "[[[0]\n",
      "  [1]\n",
      "  [2]\n",
      "  [3]]]\n",
      "check: True\n",
      "\n",
      "z:\n",
      "[0 1 2 3 4]\n",
      "z1:\n",
      "[[[0 1 2 3 4]]]\n",
      "check: True\n",
      "\n",
      "f1:\n",
      "[[[0 1 2 3 4]\n",
      "  [1 2 3 4 5]\n",
      "  [2 3 4 5 6]\n",
      "  [3 4 5 6 7]]\n",
      "\n",
      " [[1 2 3 4 5]\n",
      "  [2 3 4 5 6]\n",
      "  [3 4 5 6 7]\n",
      "  [4 5 6 7 8]]\n",
      "\n",
      " [[2 3 4 5 6]\n",
      "  [3 4 5 6 7]\n",
      "  [4 5 6 7 8]\n",
      "  [5 6 7 8 9]]]\n",
      "check: True\n"
     ]
    }
   ],
   "source": [
    "# Creates two 2D arraies\n",
    "# being suitable for broadcasting.\n",
    "\n",
    "# Increases array dimension\n",
    "# by adding second axis\n",
    "# using newaxis object.\n",
    "x1 = x[:, np.newaxis, np.newaxis]\n",
    "# Which can be done using\n",
    "# reshape function.\n",
    "# x1 = np.reshape(x, (-1, 1, 1))\n",
    "\n",
    "# Increases array dimension\n",
    "# by adding firts axis\n",
    "# using newaxis object.\n",
    "y1 = y[np.newaxis, :, np.newaxis]\n",
    "# Which can be done using\n",
    "# reshape function.\n",
    "# y1 = np.reshape(y, (1, -1, 1))\n",
    "\n",
    "# Increases array dimension\n",
    "# by adding firts axis\n",
    "# using newaxis object.\n",
    "z1 = z[np.newaxis, np.newaxis, :]\n",
    "# Which can be done using\n",
    "# reshape function.\n",
    "# z1 = np.reshape(z, (1, 1, -1))\n",
    "\n",
    "\n",
    "# The same can be made\n",
    "# using ix_ funcyion.\n",
    "x2, y2, z2 = np.ix_(x, y, z)\n",
    "\n",
    "# Applies elementwise operations\n",
    "# using broadcasting.\n",
    "f1 = x1 + y1 + z1\n",
    "f2 = x2 + y2 + z2\n",
    "\n",
    "print('x:', x, \n",
    "      'x1:', x1,\n",
    "      'check: {}\\n'.format(np.all(x1 == x2)),\n",
    "      'y:', y, \n",
    "      'y1:', y1, \n",
    "      'check: {}\\n'.format(np.all(y1 == y2)),\n",
    "      'z:', z, \n",
    "      'z1:', z1, \n",
    "      'check: {}\\n'.format(np.all(z1 == z2)),\n",
    "      'f1:', f1, \n",
    "      'check: {}'.format(np.all(f1 == f2)),\n",
    "      sep='\\n')"
   ]
  }
 ],
 "metadata": {
  "kernelspec": {
   "display_name": "Python 3",
   "language": "python",
   "name": "python3"
  },
  "language_info": {
   "codemirror_mode": {
    "name": "ipython",
    "version": 3
   },
   "file_extension": ".py",
   "mimetype": "text/x-python",
   "name": "python",
   "nbconvert_exporter": "python",
   "pygments_lexer": "ipython3",
   "version": "3.8.6"
  }
 },
 "nbformat": 4,
 "nbformat_minor": 2
}
