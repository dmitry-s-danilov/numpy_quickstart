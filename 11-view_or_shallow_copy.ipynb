{
 "cells": [
  {
   "cell_type": "markdown",
   "metadata": {},
   "source": [
    "# View or Shallow Copy\n",
    "\n",
    "* Different array objects can share the same data.\n",
    "* The **view** method creates a new array object\n",
    "  that looks at the same data.\n",
    "* Slicing an array returns a **view** of it.  \n",
    "\n",
    "## Links\n",
    "[NumPy v1.17 Manual](https://numpy.org/doc/1.17/index.html) >>  \n",
    "[NumPy User Guide](https://numpy.org/doc/1.17/user/index.html) >>  \n",
    "[Quickstart tutorial](https://numpy.org/doc/1.17/user/quickstart.html#) >>  \n",
    "[Copies and Views](https://numpy.org/doc/1.17/user/quickstart.html#copies-and-views) >>  \n",
    "[View or Shallow Copy](https://numpy.org/doc/1.17/user/quickstart.html#view-or-shallow-copy)"
   ]
  },
  {
   "cell_type": "code",
   "execution_count": 1,
   "metadata": {},
   "outputs": [],
   "source": [
    "import numpy as np\n"
   ]
  },
  {
   "cell_type": "markdown",
   "metadata": {},
   "source": [
    "### No copy\n"
   ]
  },
  {
   "cell_type": "code",
   "execution_count": 2,
   "metadata": {},
   "outputs": [
    {
     "name": "stdout",
     "output_type": "stream",
     "text": [
      "[[ 1  2  3  4]\n",
      " [ 5  6  7  8]\n",
      " [ 9 10 11 12]]\n",
      "(3, 4)\n",
      "True\n"
     ]
    }
   ],
   "source": [
    "# Creates ndarray object and reshapes it.\n",
    "x_shape = 3, 4\n",
    "x_start, x_step = 1, 1\n",
    "x = np.arange(start=x_start,\n",
    "              stop=x_start + x_shape[0] * x_shape[1],\n",
    "              step=x_step)\n",
    "x.shape = x_shape\n",
    "\n",
    "print(x,\n",
    "      x.shape,\n",
    "      # The array owns the memory it uses.\n",
    "      x.flags.owndata,\n",
    "      sep='\\n', end='\\n')\n"
   ]
  },
  {
   "cell_type": "code",
   "execution_count": 3,
   "metadata": {},
   "outputs": [
    {
     "name": "stdout",
     "output_type": "stream",
     "text": [
      "True\n",
      "True\n",
      "\n",
      "[[ 1  2  3]\n",
      " [ 4  5  6]\n",
      " [ 7  8  9]\n",
      " [10 11 12]]\n",
      "(4, 3)\n"
     ]
    }
   ],
   "source": [
    "# Creates a reference to ndarray object\n",
    "# and reshapes it, using alternative name.\n",
    "y = x\n",
    "y.shape = y.shape[::-1]\n",
    "# Which is just transposion,\n",
    "# it works like\n",
    "# y.resize(y.shape[::-1])\n",
    "\n",
    "print(# There are two names for the same ndarray object.\n",
    "      y is x,\n",
    "      # id is a unique identifier of an object.\n",
    "      id(y) == id(x), '',\n",
    "      x, x.shape,    \n",
    "      sep='\\n')\n"
   ]
  },
  {
   "cell_type": "code",
   "execution_count": 4,
   "metadata": {},
   "outputs": [
    {
     "name": "stdout",
     "output_type": "stream",
     "text": [
      "True\n",
      "True\n",
      "\n",
      "[ 1  2  3  4  5  6  7  8  9 10 11 12]\n",
      "(12,)\n"
     ]
    }
   ],
   "source": [
    "# Reshape ndarray object again,\n",
    "# using alternative name.\n",
    "y.shape = y.size\n",
    "# Which is just transposion,\n",
    "# it works like\n",
    "# y.resize(y.shape[::-1])\n",
    "\n",
    "print(# This is still the same object.\n",
    "      y is x,\n",
    "      id(y) == id(x), '',\n",
    "      x, x.shape,\n",
    "      sep='\\n')\n"
   ]
  },
  {
   "cell_type": "markdown",
   "metadata": {},
   "source": [
    "### Shallow copy\n"
   ]
  },
  {
   "cell_type": "code",
   "execution_count": 5,
   "metadata": {},
   "outputs": [
    {
     "name": "stdout",
     "output_type": "stream",
     "text": [
      "False\n",
      "\n",
      "140355651586128\n",
      "140355651658016\n",
      "False\n",
      "\n",
      "True\n",
      "False\n",
      "\n",
      "True\n"
     ]
    }
   ],
   "source": [
    "# Shares the ndarray object, using view method.\n",
    "y = x.view()\n",
    "\n",
    "print(# These are two different objects,\n",
    "      # whose have different id.\n",
    "      y is x, '',\n",
    "      id(x), id(y), id(y) == id(x), '',\n",
    "      # The array owns the memory it uses,\n",
    "      # while view object borrows memorry from it.\n",
    "      x.flags.owndata, y.flags.owndata, '',\n",
    "      # One object is a view of the data owned by another.\n",
    "      y.base is x,\n",
    "      sep='\\n')\n"
   ]
  },
  {
   "cell_type": "code",
   "execution_count": 6,
   "metadata": {},
   "outputs": [
    {
     "name": "stdout",
     "output_type": "stream",
     "text": [
      "140355651586128\n",
      "[[ 1  2  3  4]\n",
      " [ 5  6  7  8]\n",
      " [ 9 10 11 12]]\n",
      "(3, 4)\n",
      "True\n",
      "\n",
      "140355651658016\n",
      "[[ 1  2  3]\n",
      " [ 4  5  6]\n",
      " [ 7  8  9]\n",
      " [10 11 12]]\n",
      "(4, 3)\n",
      "False\n",
      "\n",
      "True\n"
     ]
    }
   ],
   "source": [
    "# Reshapes ndarray object and its view object.\n",
    "x.shape = 3, x.size // 3\n",
    "y.shape = 4, y.size // 4\n",
    "\n",
    "print(# Data owner.\n",
    "      id(x), x, x.shape, x.flags.owndata, '',\n",
    "      # Data borrower.\n",
    "      id(y), y, y.shape, y.flags.owndata, '',\n",
    "      # One object is a view of the data owned by another.\n",
    "      y.base is x,\n",
    "      sep='\\n')\n"
   ]
  },
  {
   "cell_type": "markdown",
   "metadata": {},
   "source": [
    "### Shallow copy changing\n"
   ]
  },
  {
   "cell_type": "code",
   "execution_count": 7,
   "metadata": {},
   "outputs": [
    {
     "name": "stdout",
     "output_type": "stream",
     "text": [
      "140355651658816\n",
      "[[ 1  2  3  4]\n",
      " [ 5  6  7  8]\n",
      " [ 9 10 11 12]]\n",
      "(3, 4)\n",
      "True\n",
      "\n",
      "140355651658016\n",
      "[ 1  2  3  4  5  6  7  8  9 10 11 12]\n",
      "(12,)\n",
      "False\n",
      "\n",
      "True\n",
      "\n",
      "140355651658816\n",
      "[[ 1  2  3  4]\n",
      " [ 5  6  7  8]\n",
      " [ 9 10 11 12]]\n",
      "(3, 4)\n",
      "True\n",
      "\n",
      "140355651658416\n",
      "[ -1  -2  -3  -4  -5  -6  -7  -8  -9 -10 -11 -12]\n",
      "(12,)\n",
      "True\n",
      "\n",
      "False\n"
     ]
    }
   ],
   "source": [
    "# Changing data\n",
    "# by elementwise accessing a shallow copy\n",
    "# makes it new data owner.\n",
    "\n",
    "# Makes a deep copy.\n",
    "y = x.copy()\n",
    "# Makes a shallow copy and reshapes it.\n",
    "z = y.view()\n",
    "z.shape = z.size\n",
    "\n",
    "print(id(y), y, y.shape, y.flags.owndata, '',\n",
    "      id(z), z, z.shape, z.flags.owndata, '',\n",
    "      z.base is y,\n",
    "      sep='\\n', end='\\n\\n')\n",
    "\n",
    "# Changes a shallow copy.\n",
    "z = -z\n",
    "\n",
    "print(id(y), y, y.shape, y.flags.owndata, '',\n",
    "      id(z), z, z.shape, z.flags.owndata, '',\n",
    "      z.base is y,\n",
    "      sep='\\n')\n"
   ]
  },
  {
   "cell_type": "code",
   "execution_count": 8,
   "metadata": {},
   "outputs": [
    {
     "name": "stdout",
     "output_type": "stream",
     "text": [
      "140355651658016\n",
      "[[ 1  2  3  4]\n",
      " [ 5  6  7  8]\n",
      " [ 9 10 11 12]]\n",
      "(3, 4)\n",
      "True\n",
      "\n",
      "140355651658816\n",
      "[ 1  2  3  4  5  6  7  8  9 10 11 12]\n",
      "(12,)\n",
      "False\n",
      "\n",
      "True\n",
      "\n",
      "140355651658016\n",
      "[[ 0  2  3  4]\n",
      " [ 5  6  7  8]\n",
      " [ 9 10 11  0]]\n",
      "(3, 4)\n",
      "True\n",
      "\n",
      "140355651658816\n",
      "[ 0  2  3  4  5  6  7  8  9 10 11  0]\n",
      "(12,)\n",
      "False\n",
      "\n",
      "True\n"
     ]
    }
   ],
   "source": [
    "# Changing data\n",
    "# by index accessing a shallow copy\n",
    "# changes data owner itself.\n",
    "\n",
    "# Makes a deep copy.\n",
    "y = x.copy()\n",
    "# Makes a shallow copy and reshape it.\n",
    "z = y.view()\n",
    "z.shape = z.size\n",
    "\n",
    "print(id(y), y, y.shape, y.flags.owndata, '',\n",
    "      id(z), z, z.shape, z.flags.owndata, '',\n",
    "      z.base is y,\n",
    "      sep='\\n', end='\\n\\n')\n",
    "\n",
    "# Changes a shallow copy.\n",
    "z[0] = z[-1] = 0\n",
    "\n",
    "print(id(y), y, y.shape, y.flags.owndata, '',\n",
    "      id(z), z, z.shape, z.flags.owndata, '',\n",
    "      z.base is y,\n",
    "      sep='\\n')\n"
   ]
  },
  {
   "cell_type": "code",
   "execution_count": 9,
   "metadata": {},
   "outputs": [
    {
     "name": "stdout",
     "output_type": "stream",
     "text": [
      "140355651659776\n",
      "[[ 1  2  3  4]\n",
      " [ 5  6  7  8]\n",
      " [ 9 10 11 12]]\n",
      "(3, 4)\n",
      "True\n",
      "\n",
      "140355651659296\n",
      "[[ 1  2  3  4]\n",
      " [ 5  6  7  8]\n",
      " [ 9 10 11 12]]\n",
      "(3, 4)\n",
      "False\n",
      "\n",
      "True\n",
      "\n",
      "140355651659776\n",
      "[[0 0 0 0]\n",
      " [5 6 7 8]\n",
      " [0 0 0 0]]\n",
      "(3, 4)\n",
      "True\n",
      "\n",
      "140355651659296\n",
      "[[0 0 0 0]\n",
      " [5 6 7 8]\n",
      " [0 0 0 0]]\n",
      "(3, 4)\n",
      "False\n",
      "\n",
      "True\n"
     ]
    }
   ],
   "source": [
    "# Changing data\n",
    "# by index accessing a shallow copy\n",
    "# changes data owner itself.\n",
    "\n",
    "# Makes a deep copy.\n",
    "y = x.copy()\n",
    "# Makes a shallow copy.\n",
    "z = y.view()\n",
    "\n",
    "print(id(y), y, y.shape, y.flags.owndata, '',\n",
    "      id(z), z, z.shape, z.flags.owndata, '',\n",
    "      z.base is y,\n",
    "      sep='\\n', end='\\n\\n')\n",
    "\n",
    "# Changes a shallow copy.\n",
    "z[0] = z[-1] = 0\n",
    "\n",
    "print(id(y), y, y.shape, y.flags.owndata, '',\n",
    "      id(z), z, z.shape, z.flags.owndata, '',\n",
    "      z.base is y,\n",
    "      sep='\\n')\n"
   ]
  },
  {
   "cell_type": "markdown",
   "metadata": {},
   "source": [
    "### Shallow copy by slicing\n"
   ]
  },
  {
   "cell_type": "code",
   "execution_count": 10,
   "metadata": {},
   "outputs": [
    {
     "name": "stdout",
     "output_type": "stream",
     "text": [
      "140355651658016\n",
      "[[ 1  2  3  4]\n",
      " [ 5  6  7  8]\n",
      " [ 9 10 11 12]]\n",
      "(3, 4)\n",
      "True\n",
      "\n",
      "140355651659696\n",
      "[[6 7]]\n",
      "(1, 2)\n",
      "False\n",
      "\n",
      "True\n",
      "\n",
      "140355651658016\n",
      "[[ 1  2  3  4]\n",
      " [ 5  0  0  8]\n",
      " [ 9 10 11 12]]\n",
      "(3, 4)\n",
      "True\n",
      "\n",
      "140355651659696\n",
      "[[0 0]]\n",
      "(1, 2)\n",
      "False\n",
      "\n",
      "True\n"
     ]
    }
   ],
   "source": [
    "# Changing data by slicing\n",
    "# changes data owner itself.\n",
    "\n",
    "# Makes a deep copy.\n",
    "y = x.copy()\n",
    "# Slicing an array returns a shallow copy of it.\n",
    "z = y[1:-1,1:-1]\n",
    "\n",
    "print(id(y), y, y.shape, y.flags.owndata, '',\n",
    "      id(z), z, z.shape, z.flags.owndata, '',\n",
    "      z.base is y,\n",
    "      sep='\\n', end='\\n\\n')\n",
    "\n",
    "# Changes slice.\n",
    "z[:,:] = 0\n",
    "\n",
    "print(id(y), y, y.shape, y.flags.owndata, '',\n",
    "      id(z), z, z.shape, z.flags.owndata, '',\n",
    "      z.base is y,\n",
    "      sep='\\n')\n"
   ]
  }
 ],
 "metadata": {
  "kernelspec": {
   "display_name": "Python 3",
   "language": "python",
   "name": "python3"
  },
  "language_info": {
   "codemirror_mode": {
    "name": "ipython",
    "version": 3
   },
   "file_extension": ".py",
   "mimetype": "text/x-python",
   "name": "python",
   "nbconvert_exporter": "python",
   "pygments_lexer": "ipython3",
   "version": "3.7.3"
  }
 },
 "nbformat": 4,
 "nbformat_minor": 2
}
