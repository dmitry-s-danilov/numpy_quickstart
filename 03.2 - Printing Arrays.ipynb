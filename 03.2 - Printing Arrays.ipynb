{
 "cells": [
  {
   "cell_type": "markdown",
   "metadata": {},
   "source": [
    "# Printing Arrays\n",
    "\n",
    "[NumPy v1.17 Manual](https://numpy.org/doc/1.17/index.html) >>  \n",
    "[NumPy User Guide](https://numpy.org/doc/1.17/user/index.html) >>  \n",
    "[Quickstart tutorial](https://numpy.org/doc/1.17/user/quickstart.html#) >>  \n",
    "[The Basics](https://numpy.org/doc/1.17/user/quickstart.html#the-basics) >>  \n",
    "[Printing Arrays](https://numpy.org/doc/1.17/user/quickstart.html#printing-arrays)\n",
    "\n",
    "If an array is too large to be printed,\n",
    "NumPy automatically skips\n",
    "the central part of the array\n",
    "and only prints the corners.  \n",
    "To disable this behaviour\n",
    "and force NumPy to print the entire array,\n",
    "you can change the printing options\n",
    "using **set_printoptions**."
   ]
  },
  {
   "cell_type": "code",
   "execution_count": 1,
   "metadata": {},
   "outputs": [],
   "source": [
    "import numpy as np"
   ]
  },
  {
   "cell_type": "code",
   "execution_count": 2,
   "metadata": {},
   "outputs": [
    {
     "name": "stdout",
     "output_type": "stream",
     "text": [
      "<class 'numpy.ndarray'>:\n",
      "[   1    2    3 ...  999 1000 1001]\n",
      "ndim: 1\n",
      "shape: (1001,)\n",
      "size: 1001\n"
     ]
    }
   ],
   "source": [
    "# create 1d array\n",
    "\n",
    "n = 1001\n",
    "x_min = 1\n",
    "x_step = 1\n",
    "x = np.arange(\n",
    "    start=x_min,\n",
    "    stop=x_min + n,\n",
    "    step=x_step)\n",
    "\n",
    "print(\n",
    "    f'{type(x)}:', x,\n",
    "    f'ndim: {x.ndim}',\n",
    "    f'shape: {x.shape}',\n",
    "    f'size: {x.size}',\n",
    "    sep='\\n')"
   ]
  },
  {
   "cell_type": "code",
   "execution_count": 3,
   "metadata": {},
   "outputs": [
    {
     "name": "stdout",
     "output_type": "stream",
     "text": [
      "<class 'numpy.ndarray'>:\n",
      "[[    1     2     3 ...    98    99   100]\n",
      " [  101   102   103 ...   198   199   200]\n",
      " [  201   202   203 ...   298   299   300]\n",
      " ...\n",
      " [ 9701  9702  9703 ...  9798  9799  9800]\n",
      " [ 9801  9802  9803 ...  9898  9899  9900]\n",
      " [ 9901  9902  9903 ...  9998  9999 10000]]\n",
      "ndim: 2\n",
      "shape: (100, 100)\n",
      "size: 10000\n",
      "\n"
     ]
    }
   ],
   "source": [
    "# create 2d array\n",
    "# by reshaping 1d array\n",
    "\n",
    "n, m = 100, 100\n",
    "x_min = 1\n",
    "x_step = 1\n",
    "x = np.arange(\n",
    "    start=x_min,\n",
    "    stop=x_min + n * m,\n",
    "    step=x_step).reshape(n, m)\n",
    "\n",
    "print(\n",
    "    f'{type(x)}:', x,\n",
    "    f'ndim: {x.ndim}',\n",
    "    f'shape: {x.shape}',\n",
    "    f'size: {x.size}', '',\n",
    "    sep='\\n')"
   ]
  }
 ],
 "metadata": {
  "kernelspec": {
   "display_name": "Python 3",
   "language": "python",
   "name": "python3"
  },
  "language_info": {
   "codemirror_mode": {
    "name": "ipython",
    "version": 3
   },
   "file_extension": ".py",
   "mimetype": "text/x-python",
   "name": "python",
   "nbconvert_exporter": "python",
   "pygments_lexer": "ipython3",
   "version": "3.7.3"
  }
 },
 "nbformat": 4,
 "nbformat_minor": 2
}
