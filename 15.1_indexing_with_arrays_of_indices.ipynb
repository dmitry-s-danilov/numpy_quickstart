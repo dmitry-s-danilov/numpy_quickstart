{
 "cells": [
  {
   "cell_type": "markdown",
   "metadata": {},
   "source": [
    "# [Indexing with Arrays of Indices][indexing]\n",
    "\n",
    "## 1D Array Indexing by an Array of Integers\n",
    "* In addition to indexing by integers and slices,\n",
    "  arrays can be indexed by arrays of integers.\n",
    "* When the indexed array is multidimensional,\n",
    "  a single array of indices refers to its first dimension.\n",
    "\n",
    "## Links\n",
    "[NumPy Manual][manual] >>  \n",
    "[NumPy User Guide][user_guide] >>  \n",
    "[Quickstart tutorial][tutorial] >>  \n",
    "[Advanced indexing and index tricks][index_tricks] >>  \n",
    "[Indexing with Arrays of Indices][indexing]\n",
    "\n",
    "[comment]: #(tags)\n",
    "[manual]: https://numpy.org/devdocs/\n",
    "[user_guide]: https://numpy.org/devdocs/user/index.html\n",
    "[tutorial]: https://numpy.org/devdocs/user/quickstart.html#\n",
    "[index_tricks]: https://numpy.org/devdocs/user/quickstart.html#advanced-indexing-and-index-tricks\n",
    "[indexing]: https://numpy.org/devdocs/user/quickstart.html#indexing-with-arrays-of-indices"
   ]
  },
  {
   "cell_type": "code",
   "execution_count": 1,
   "metadata": {},
   "outputs": [],
   "source": [
    "import numpy as np\n"
   ]
  },
  {
   "cell_type": "code",
   "execution_count": 2,
   "metadata": {},
   "outputs": [
    {
     "name": "stdout",
     "output_type": "stream",
     "text": [
      "x:\n",
      "[  0   1   4   9  16  25  36  49  64  81 100]\n",
      "(11,)\n",
      "\n",
      " k   x\n",
      " 0   0\n",
      " 1   1\n",
      " 2   4\n",
      " 3   9\n",
      " 4  16\n",
      " 5  25\n",
      " 6  36\n",
      " 7  49\n",
      " 8  64\n",
      " 9  81\n",
      "10 100\n"
     ]
    }
   ],
   "source": [
    "# Creates 1D array of squares.\n",
    "x_min, x_max, x_step = 0, 10, 1\n",
    "x = np.arange(start=x_min,\n",
    "              stop=x_max + x_step,\n",
    "              step=x_step)\n",
    "x = x**2\n",
    "\n",
    "print('x:', x, x.shape,\n",
    "      sep='\\n', end='\\n\\n')\n",
    "\n",
    "print('{:>2} {:>3}'.format('k', 'x'))\n",
    "for _ in range(len(x)):\n",
    "    print(f'{_:>2} {x[_]:>3}')\n"
   ]
  },
  {
   "cell_type": "markdown",
   "metadata": {},
   "source": [
    "### 1D by 1D"
   ]
  },
  {
   "cell_type": "code",
   "execution_count": 3,
   "metadata": {},
   "outputs": [
    {
     "name": "stdout",
     "output_type": "stream",
     "text": [
      "x:\n",
      "[  0   1   4   9  16  25  36  49  64  81 100]\n",
      "(11,)\n",
      "\n",
      "i:\n",
      "[6 6 4 7]\n",
      "(4,)\n",
      "\n",
      "y:\n",
      "[36 36 16 49]\n",
      "(4,)\n",
      "\n",
      " k  i   y\n",
      " 0  6  36\n",
      " 1  6  36\n",
      " 2  4  16\n",
      " 3  7  49\n"
     ]
    }
   ],
   "source": [
    "# Creates 1D array of random integers,\n",
    "# which is the array of indices.\n",
    "i_shape = 4,\n",
    "i_low, i_high = 0, x.size\n",
    "i=np.random.randint(low=i_low,\n",
    "                    high=i_high,\n",
    "                    size=i_shape)\n",
    "# Creates 1D array\n",
    "# indexed by 1D array of integers,\n",
    "# which contrains the elements\n",
    "# at specified positions.\n",
    "y = x[i]\n",
    "\n",
    "print('x:', x, x.shape, '',\n",
    "      'i:', i, i.shape, '',\n",
    "      'y:', y, y.shape,\n",
    "      sep='\\n', end='\\n\\n')\n",
    "\n",
    "print('{:>2} {:>2} {:>3}'.format('k', 'i', 'y'))\n",
    "for _ in range(len(i)):\n",
    "    print(f'{_:>2} {i[_]:>2} {y[_]:>3}')\n"
   ]
  },
  {
   "cell_type": "markdown",
   "metadata": {},
   "source": [
    "### 1D by 2D"
   ]
  },
  {
   "cell_type": "code",
   "execution_count": 4,
   "metadata": {},
   "outputs": [
    {
     "name": "stdout",
     "output_type": "stream",
     "text": [
      "x:\n",
      "[  0   1   4   9  16  25  36  49  64  81 100]\n",
      "(11,)\n",
      "\n",
      "i:\n",
      "[[ 0  7  9 10]\n",
      " [ 7  4  4  3]\n",
      " [ 9  4  0  3]]\n",
      "(3, 4)\n",
      "\n",
      "y:\n",
      "[[  0  49  81 100]\n",
      " [ 49  16  16   9]\n",
      " [ 81  16   0   9]]\n",
      "(3, 4)\n"
     ]
    }
   ],
   "source": [
    "# Creates 2D array of random integers,\n",
    "# which is the array of indices.\n",
    "i_shape = 3, 4\n",
    "i_low, i_high = 0, x.size\n",
    "i=np.random.randint(low=i_low,\n",
    "                    high=i_high,\n",
    "                    size=i_shape)\n",
    "# Creates 2D array\n",
    "# indexed by 2D array of integers,\n",
    "# which contrains the elements\n",
    "# at specified positions.\n",
    "y = x[i]\n",
    "\n",
    "print('x:', x, x.shape, '',\n",
    "      'i:', i, i.shape, '',\n",
    "      'y:', y, y.shape,\n",
    "      sep='\\n')\n"
   ]
  }
 ],
 "metadata": {
  "kernelspec": {
   "display_name": "Python 3",
   "language": "python",
   "name": "python3"
  },
  "language_info": {
   "codemirror_mode": {
    "name": "ipython",
    "version": 3
   },
   "file_extension": ".py",
   "mimetype": "text/x-python",
   "name": "python",
   "nbconvert_exporter": "python",
   "pygments_lexer": "ipython3",
   "version": "3.7.3"
  }
 },
 "nbformat": 4,
 "nbformat_minor": 2
}
