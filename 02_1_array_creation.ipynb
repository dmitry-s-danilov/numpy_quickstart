{
 "cells": [
  {
   "cell_type": "markdown",
   "metadata": {},
   "source": [
    "# Array Creation\n",
    "\n",
    "## Create from list\n",
    "\n",
    "- You can create an array from a regular Python list or tuple\n",
    "  using the `array` function.\n",
    "- The type of the array can also be explicitly specified\n",
    "  at creation time."
   ]
  },
  {
   "cell_type": "code",
   "execution_count": 1,
   "metadata": {},
   "outputs": [],
   "source": [
    "import numpy as np"
   ]
  },
  {
   "cell_type": "code",
   "execution_count": 2,
   "metadata": {},
   "outputs": [
    {
     "name": "stdout",
     "output_type": "stream",
     "text": [
      "<class 'list'>:\n",
      "[1, 2, 3, 4, 5, 6, 7, 8, 9, 10, 11, 12]\n",
      "<class 'numpy.ndarray'>:\n",
      "[ 1  2  3  4  5  6  7  8  9 10 11 12]\n",
      "ndim: 1\n",
      "shape: (12,)\n",
      "size: 12\n",
      "dtype: int64\n"
     ]
    }
   ],
   "source": [
    "# Creates 1d array from a list.\n",
    "\n",
    "n = 12\n",
    "x = [i + 1 for i in range(0, n)]\n",
    "y = np.array(x)\n",
    "\n",
    "print(f'{type(x)}:', x,\n",
    "      f'{type(y)}:', y,\n",
    "      f'ndim: {y.ndim}',\n",
    "      f'shape: {y.shape}',\n",
    "      f'size: {y.size}',\n",
    "      f'dtype: {y.dtype}',\n",
    "      # f'itemsize: {y.itemsize}',\n",
    "      sep='\\n')"
   ]
  },
  {
   "cell_type": "code",
   "execution_count": 3,
   "metadata": {},
   "outputs": [
    {
     "name": "stdout",
     "output_type": "stream",
     "text": [
      "<class 'list'>:\n",
      "[[1, 2, 3, 4], [5, 6, 7, 8], [9, 10, 11, 12]]\n",
      "<class 'numpy.ndarray'>:\n",
      "[[ 1  2  3  4]\n",
      " [ 5  6  7  8]\n",
      " [ 9 10 11 12]]\n",
      "ndim: 2\n",
      "shape: (3, 4)\n",
      "size: 12\n",
      "dtype: int64\n"
     ]
    }
   ],
   "source": [
    "# Creates 2d array from a list of lists.\n",
    "\n",
    "n, m = 3, 4\n",
    "x = [\n",
    "    [m * i + (j + 1) for j in range(0,  m)]\n",
    "    for i in range(0, n)\n",
    "]\n",
    "y = np.array(x)\n",
    "\n",
    "print(f'{type(x)}:', x,\n",
    "      f'{type(y)}:', y,\n",
    "      f'ndim: {y.ndim}',\n",
    "      f'shape: {y.shape}',\n",
    "      f'size: {y.size}',\n",
    "      f'dtype: {y.dtype}',\n",
    "      # f'itemsize: {y.itemsize}',\n",
    "      sep='\\n')"
   ]
  },
  {
   "cell_type": "code",
   "execution_count": 4,
   "metadata": {},
   "outputs": [
    {
     "name": "stdout",
     "output_type": "stream",
     "text": [
      "<class 'list'>:\n",
      "[[1, 2, 3, 4], [5, 6, 7, 8], [9, 10, 11, 12]]\n",
      "<class 'numpy.ndarray'>:\n",
      "[[ 1.  2.  3.  4.]\n",
      " [ 5.  6.  7.  8.]\n",
      " [ 9. 10. 11. 12.]]\n",
      "ndim: 2\n",
      "shape: (3, 4)\n",
      "size: 12\n",
      "dtype: float64\n"
     ]
    }
   ],
   "source": [
    "# Creates 2d array from a list of lists,\n",
    "# specifying the type.\n",
    "\n",
    "n, m = 3, 4\n",
    "x = [\n",
    "    [m * i + (j + 1) for j in range(0,  m)]\n",
    "    for i in range(0, n)\n",
    "]\n",
    "\n",
    "y = np.array(\n",
    "    x,\n",
    "    # dtype=np.int8,\n",
    "    # dtype=np.int16,\n",
    "    # dtype=np.int32,\n",
    "    # dtype=np.int64,\n",
    "    # dtype=np.int,\n",
    "    # dtype=int,\n",
    "    \n",
    "    # dtype=np.float16,\n",
    "    # dtype=np.float32,\n",
    "    # dtype=np.float64,\n",
    "    # dtype=np.float,\n",
    "    dtype=float,\n",
    "    \n",
    "    # dtype=np.complex64,\n",
    "    # dtype=np.complex128,\n",
    "    # dtype=np.complex,\n",
    ")\n",
    "\n",
    "print(f'{type(x)}:', x,\n",
    "      f'{type(y)}:', y,\n",
    "      f'ndim: {y.ndim}',\n",
    "      f'shape: {y.shape}',\n",
    "      f'size: {y.size}',\n",
    "      f'dtype: {y.dtype}',\n",
    "      # f'itemsize: {y.itemsize}',\n",
    "      sep='\\n')"
   ]
  }
 ],
 "metadata": {
  "kernelspec": {
   "display_name": "Python 3",
   "language": "python",
   "name": "python3"
  },
  "language_info": {
   "codemirror_mode": {
    "name": "ipython",
    "version": 3
   },
   "file_extension": ".py",
   "mimetype": "text/x-python",
   "name": "python",
   "nbconvert_exporter": "python",
   "pygments_lexer": "ipython3",
   "version": "3.8.6"
  }
 },
 "nbformat": 4,
 "nbformat_minor": 2
}
