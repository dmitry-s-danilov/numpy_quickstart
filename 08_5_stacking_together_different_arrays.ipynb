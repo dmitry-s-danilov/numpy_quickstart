{
 "cells": [
  {
   "cell_type": "markdown",
   "metadata": {},
   "source": [
    "# Stacking together different arrays\n",
    "\n",
    "## newaxis object\n",
    "* If a dimension is given as **-1** in a reshaping operation,\n",
    "  the other dimensions are automatically calculated.\n",
    "* Each **newaxis** object in the selection tuple\n",
    "  serves to expand the dimensions of the resulting selection\n",
    "  by one unit-length dimension.\n",
    "  The added dimension is the position of the **newaxis** object\n",
    "  in the selection tuple."
   ]
  },
  {
   "cell_type": "code",
   "execution_count": 1,
   "metadata": {},
   "outputs": [],
   "source": [
    "import numpy as np\n",
    "from numpy import newaxis"
   ]
  },
  {
   "cell_type": "code",
   "execution_count": 2,
   "metadata": {},
   "outputs": [],
   "source": [
    "# Creates two 1D arrays of the same shape,\n",
    "# containig random integers in the range from 0 to 9.\n",
    "n, s = 2, 3\n",
    "x, y = [np.array(np.floor(10 * np.random.random(s)),\n",
    "                 dtype=int)\n",
    "        for _ in range(n)]"
   ]
  },
  {
   "cell_type": "code",
   "execution_count": 3,
   "metadata": {},
   "outputs": [
    {
     "name": "stdout",
     "output_type": "stream",
     "text": [
      "1:\n",
      "[8 7 9]\n",
      "(3,)\n",
      "\n",
      "2:\n",
      "[8 1 7]\n",
      "(3,)\n",
      "\n",
      "vstack:\n",
      "[[8 7 9]\n",
      " [8 1 7]]\n",
      "(2, 3)\n",
      "\n",
      "row_stack:\n",
      "[[8 7 9]\n",
      " [8 1 7]]\n",
      "(2, 3)\n",
      "\n",
      "concatenate reshaped:\n",
      "[[8 7 9]\n",
      " [8 1 7]]\n",
      "(2, 3)\n",
      "\n"
     ]
    }
   ],
   "source": [
    "# Stacks two 1D arrays in verticle direction,\n",
    "# using numpy.vstack, np.row_stack\n",
    "# and concatenate functions.\n",
    "z = [np.vstack((x, y)),\n",
    "     # which works just like\n",
    "     np.row_stack((x, y)),\n",
    "     # or\n",
    "     # np.concatenate((x.reshape(1, -1), y.reshape(1, -1))),\n",
    "     # or\n",
    "     np.concatenate((x[newaxis,:], y[newaxis,:]))]\n",
    "\n",
    "print('1:', x, x.shape, '',\n",
    "      '2:', y, y.shape, '',\n",
    "      'vstack:', z[0], z[0].shape, '',\n",
    "      'row_stack:', z[1], z[1].shape, '',\n",
    "      'concatenate reshaped:', z[2], z[2].shape, '',\n",
    "      sep='\\n')"
   ]
  },
  {
   "cell_type": "code",
   "execution_count": 4,
   "metadata": {},
   "outputs": [
    {
     "name": "stdout",
     "output_type": "stream",
     "text": [
      "1:\n",
      "[8 7 9]\n",
      "(3,)\n",
      "\n",
      "2:\n",
      "[8 1 7]\n",
      "(3,)\n",
      "\n",
      "hstack:\n",
      "[8 7 9 8 1 7]\n",
      "(6,)\n",
      "\n",
      "concatenate:\n",
      "[8 7 9 8 1 7]\n",
      "(6,)\n",
      "\n",
      "column_stack reshape:\n",
      "[8 7 9 8 1 7]\n",
      "(6,)\n",
      "\n"
     ]
    }
   ],
   "source": [
    "# Stacks two 1D arrays in horisontal direction,\n",
    "# using numpy.vstack, np.row_stack\n",
    "# and concatenate functions.\n",
    "z = [np.hstack((x, y)),\n",
    "     # Which works just like\n",
    "     np.concatenate((x, y)),\n",
    "     # or\n",
    "     # np.ravel(np.column_stack((x.reshape(1, -1), y.reshape(1, -1)))),\n",
    "     # or\n",
    "     np.ravel(np.column_stack((x[newaxis,:], y[newaxis,:])))]\n",
    "\n",
    "print('1:', x, x.shape, '',\n",
    "      '2:', y, y.shape, '',\n",
    "      'hstack:', z[0], z[0].shape, '',\n",
    "      'concatenate:', z[1], z[1].shape, '',\n",
    "      'column_stack reshape:', z[2], z[2].shape, '',\n",
    "      sep='\\n')"
   ]
  }
 ],
 "metadata": {
  "kernelspec": {
   "display_name": "Python 3",
   "language": "python",
   "name": "python3"
  },
  "language_info": {
   "codemirror_mode": {
    "name": "ipython",
    "version": 3
   },
   "file_extension": ".py",
   "mimetype": "text/x-python",
   "name": "python",
   "nbconvert_exporter": "python",
   "pygments_lexer": "ipython3",
   "version": "3.8.6"
  }
 },
 "nbformat": 4,
 "nbformat_minor": 2
}
