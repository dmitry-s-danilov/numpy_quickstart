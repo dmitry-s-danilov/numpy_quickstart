{
 "cells": [
  {
   "cell_type": "markdown",
   "metadata": {},
   "source": [
    "# Indexing with Arrays of Indices\n",
    "\n",
    "\n",
    "## Assignment Using Indexing\n",
    "* You can also use indexing with arrays as a target to assign to.\n",
    "* However, when the list of indices contains repetitions,\n",
    "  the assignment is done several times,\n",
    "  leaving behind the last value.\n",
    "* Otherwise, if you want to use Python’s incremention construct.\n",
    "  Even though index occurs more than one in the list of indices,\n",
    "  the corresponding element is only incremented once."
   ]
  },
  {
   "cell_type": "code",
   "execution_count": 2,
   "metadata": {},
   "outputs": [],
   "source": [
    "import numpy as np"
   ]
  },
  {
   "cell_type": "markdown",
   "metadata": {},
   "source": [
    "### Assignment"
   ]
  },
  {
   "cell_type": "code",
   "execution_count": 3,
   "metadata": {},
   "outputs": [
    {
     "name": "stdout",
     "output_type": "stream",
     "text": [
      "target:\n",
      "[0 1 2 3 4 5 6 7 8 9]\n",
      "\n",
      "index:\n",
      "[2 8 4 2]\n",
      "argument:\n",
      "-1\n",
      "result:\n",
      "[ 0  1 -1  3 -1  5  6  7 -1  9]\n",
      "\n",
      "index:\n",
      "[2 8 4 2]\n",
      "argument:\n",
      "[ 0 -1 -2 -3]\n",
      "result:\n",
      "[ 0  1 -3  3 -2  5  6  7 -1  9]\n"
     ]
    }
   ],
   "source": [
    "# Creates 1D array,\n",
    "# which is a target to assign to.\n",
    "x_size = 10\n",
    "x = np.arange(x_size)\n",
    "\n",
    "print('target:', x,\n",
    "      sep = '\\n', end='\\n\\n')\n",
    "\n",
    "# Creates 1D array of integers,\n",
    "# which is an array of indeces.\n",
    "i_low, i_high = 0, x.size\n",
    "i_size = 4\n",
    "i = np.random.randint(low=i_low, high=i_high,\n",
    "                      size=i_size)\n",
    "# Stupid way to provide\n",
    "# a repetion of indeces.\n",
    "i[-1] = i[0]\n",
    "\n",
    "# Sets a scalar argument\n",
    "# and performs an assignment.\n",
    "y = -1\n",
    "x[i] = y\n",
    "\n",
    "print('index:', i,\n",
    "      'argument:', y,\n",
    "      'result:', x,\n",
    "      sep='\\n', end='\\n\\n')\n",
    "\n",
    "# Sets an array as an argument\n",
    "# and performs an assignment.\n",
    "y = np.arange(i.size)\n",
    "y = -y\n",
    "x[i] = y\n",
    "\n",
    "print('index:', i,\n",
    "      'argument:', y,\n",
    "      'result:', x,\n",
    "      sep='\\n')"
   ]
  },
  {
   "cell_type": "markdown",
   "metadata": {},
   "source": [
    "### Incremention"
   ]
  },
  {
   "cell_type": "code",
   "execution_count": 4,
   "metadata": {},
   "outputs": [
    {
     "name": "stdout",
     "output_type": "stream",
     "text": [
      "target:\n",
      "[0 1 2 3 4 5 6 7 8 9]\n",
      "\n",
      "index:\n",
      "[6 4 8 6]\n",
      "argument:\n",
      "1\n",
      "result:\n",
      "[0 1 2 3 5 5 7 7 9 9]\n",
      "\n",
      "index:\n",
      "[6 4 8 6]\n",
      "argument:\n",
      "[0 1 2 3]\n",
      "result:\n",
      "[ 0  1  2  3  6  5 10  7 11  9]\n"
     ]
    }
   ],
   "source": [
    "# Creates 1D array,\n",
    "# which is a target to increment to.\n",
    "x_size = 10\n",
    "x = np.arange(x_size)\n",
    "\n",
    "print('target:', x,\n",
    "      sep = '\\n', end='\\n\\n')\n",
    "\n",
    "# Creates 1D array of integers,\n",
    "# which is an array of indeces.\n",
    "i_low, i_high = 0, x.size\n",
    "i_size = 4\n",
    "i = np.random.randint(low=i_low, high=i_high,\n",
    "                      size=i_size)\n",
    "# Stupid way to provide\n",
    "# a repetion of indeces.\n",
    "i[-1] = i[0]\n",
    "\n",
    "# Sets a scalar argument\n",
    "# and performs an incremention.\n",
    "y = 1\n",
    "x[i] += y\n",
    "\n",
    "print('index:', i,\n",
    "      'argument:', y,\n",
    "      'result:', x,\n",
    "      sep='\\n', end='\\n\\n')\n",
    "\n",
    "# Sets an array as an argument\n",
    "# and performs an incremention.\n",
    "y = np.arange(i.size)\n",
    "x[i] += y\n",
    "\n",
    "print('index:', i,\n",
    "      'argument:', y,\n",
    "      'result:', x,\n",
    "      sep='\\n')"
   ]
  }
 ],
 "metadata": {
  "kernelspec": {
   "display_name": "Python 3",
   "language": "python",
   "name": "python3"
  },
  "language_info": {
   "codemirror_mode": {
    "name": "ipython",
    "version": 3
   },
   "file_extension": ".py",
   "mimetype": "text/x-python",
   "name": "python",
   "nbconvert_exporter": "python",
   "pygments_lexer": "ipython3",
   "version": "3.8.6"
  }
 },
 "nbformat": 4,
 "nbformat_minor": 2
}
