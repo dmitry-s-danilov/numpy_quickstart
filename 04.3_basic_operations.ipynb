{
 "cells": [
  {
   "cell_type": "markdown",
   "metadata": {},
   "source": [
    "# Basic Operations\n",
    "\n",
    "## Inplace operations\n",
    "\n",
    "* Some operations, such as **+=** and ***=**,\n",
    "  act in place to modify an existing array\n",
    "  rather than create a new one.\n",
    "* Type is not automatically converted.\n",
    "\n",
    "## Links\n",
    "\n",
    "[NumPy v1.17 Manual](https://numpy.org/doc/1.17/index.html) >>  \n",
    "[NumPy User Guide](https://numpy.org/doc/1.17/user/index.html) >>  \n",
    "[Quickstart tutorial](https://numpy.org/doc/1.17/user/quickstart.html#) >>  \n",
    "[The Basics](https://numpy.org/doc/1.17/user/quickstart.html#the-basics) >>  \n",
    "[Basic Operations](https://numpy.org/doc/1.17/user/quickstart.html#basic-operations)\n"
   ]
  },
  {
   "cell_type": "code",
   "execution_count": 2,
   "metadata": {},
   "outputs": [],
   "source": [
    "import numpy as np\n"
   ]
  },
  {
   "cell_type": "code",
   "execution_count": 3,
   "metadata": {},
   "outputs": [
    {
     "name": "stdout",
     "output_type": "stream",
     "text": [
      "x:\n",
      "[[0 0 0]\n",
      " [0 0 0]]\n",
      "\n",
      "x += 1:\n",
      "[[1 1 1]\n",
      " [1 1 1]]\n",
      "\n",
      "x *= 2:\n",
      "[[2 2 2]\n",
      " [2 2 2]]\n",
      "\n",
      "y:\n",
      "[[0 0 0]\n",
      " [0 0 0]]\n",
      "\n",
      "y += x:\n",
      "[[2 2 2]\n",
      " [2 2 2]]\n",
      "\n",
      "y *= x:\n",
      "[[4 4 4]\n",
      " [4 4 4]]\n",
      "\n"
     ]
    }
   ],
   "source": [
    "# Inplace operations.\n",
    "\n",
    "x, y = np.zeros((2, 2, 3), dtype=int) \n",
    "\n",
    "print('x:', x,\n",
    "      sep='\\n', end='\\n\\n')\n",
    "\n",
    "x += 1\n",
    "print('x += 1:', x,\n",
    "      sep='\\n', end='\\n\\n')\n",
    "\n",
    "x *= 2\n",
    "print('x *= 2:', x,\n",
    "      sep='\\n', end='\\n\\n')\n",
    "\n",
    "print('y:', y,\n",
    "      sep='\\n', end='\\n\\n')\n",
    "\n",
    "y += x\n",
    "print('y += x:', y,\n",
    "      sep='\\n', end='\\n\\n')\n",
    "\n",
    "y *= x\n",
    "print('y *= x:', y,\n",
    "      sep='\\n', end='\\n\\n')\n"
   ]
  },
  {
   "cell_type": "code",
   "execution_count": 4,
   "metadata": {},
   "outputs": [
    {
     "ename": "UFuncTypeError",
     "evalue": "Cannot cast ufunc 'add' output from dtype('float64') to dtype('int64') with casting rule 'same_kind'",
     "output_type": "error",
     "traceback": [
      "\u001b[0;31m---------------------------------------------------------------------------\u001b[0m",
      "\u001b[0;31mUFuncTypeError\u001b[0m                            Traceback (most recent call last)",
      "\u001b[0;32m<ipython-input-4-dba83f1868cb>\u001b[0m in \u001b[0;36m<module>\u001b[0;34m\u001b[0m\n\u001b[1;32m      5\u001b[0m \u001b[0my\u001b[0m \u001b[0;34m=\u001b[0m \u001b[0mnp\u001b[0m\u001b[0;34m.\u001b[0m\u001b[0mones\u001b[0m\u001b[0;34m(\u001b[0m\u001b[0mn\u001b[0m\u001b[0;34m,\u001b[0m \u001b[0mdtype\u001b[0m\u001b[0;34m=\u001b[0m\u001b[0mint\u001b[0m\u001b[0;34m)\u001b[0m\u001b[0;34m\u001b[0m\u001b[0;34m\u001b[0m\u001b[0m\n\u001b[1;32m      6\u001b[0m \u001b[0mx\u001b[0m \u001b[0;34m+=\u001b[0m \u001b[0my\u001b[0m\u001b[0;34m\u001b[0m\u001b[0;34m\u001b[0m\u001b[0m\n\u001b[0;32m----> 7\u001b[0;31m \u001b[0my\u001b[0m \u001b[0;34m+=\u001b[0m \u001b[0mx\u001b[0m\u001b[0;34m\u001b[0m\u001b[0;34m\u001b[0m\u001b[0m\n\u001b[0m",
      "\u001b[0;31mUFuncTypeError\u001b[0m: Cannot cast ufunc 'add' output from dtype('float64') to dtype('int64') with casting rule 'same_kind'"
     ]
    }
   ],
   "source": [
    "# Type casting error.\n",
    "\n",
    "n = 3\n",
    "x = np.ones(n)\n",
    "y = np.ones(n, dtype=int)\n",
    "x += y\n",
    "y += x\n"
   ]
  }
 ],
 "metadata": {
  "kernelspec": {
   "display_name": "Python 3",
   "language": "python",
   "name": "python3"
  },
  "language_info": {
   "codemirror_mode": {
    "name": "ipython",
    "version": 3
   },
   "file_extension": ".py",
   "mimetype": "text/x-python",
   "name": "python",
   "nbconvert_exporter": "python",
   "pygments_lexer": "ipython3",
   "version": "3.7.3"
  }
 },
 "nbformat": 4,
 "nbformat_minor": 2
}
