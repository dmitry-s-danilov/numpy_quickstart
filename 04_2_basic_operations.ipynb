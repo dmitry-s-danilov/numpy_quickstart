{
 "cells": [
  {
   "cell_type": "markdown",
   "metadata": {},
   "source": [
    "# The basics\n",
    "\n",
    "## Basic operations\n",
    "\n",
    "### Matrix operations\n",
    "\n",
    "- Unlike in many matrix languages,\n",
    "  the product operator `*` operates elementwise in NumPy arrays.\n",
    "- The matrix product can be performed\n",
    "  using the `@` operator or the `dot` function or method."
   ]
  },
  {
   "cell_type": "code",
   "execution_count": 1,
   "metadata": {},
   "outputs": [],
   "source": [
    "import numpy as np"
   ]
  },
  {
   "cell_type": "code",
   "execution_count": 2,
   "metadata": {},
   "outputs": [
    {
     "name": "stdout",
     "output_type": "stream",
     "text": [
      "x:\n",
      "[[1 2]\n",
      " [3 4]]\n",
      "\n",
      "y:\n",
      "[[1 0]\n",
      " [0 1]]\n",
      "\n",
      "x * y:\n",
      "[[1 0]\n",
      " [0 4]]\n",
      "\n",
      "x @ y:\n",
      "[[1 2]\n",
      " [3 4]]\n",
      "True\n"
     ]
    }
   ],
   "source": [
    "# Elementwise and matrix product\n",
    "# in case of square matrices.\n",
    "\n",
    "# Set a couple of square matrices.\n",
    "x = np.array([[1, 2], [3 ,4]])\n",
    "y = np.array([[1, 0], [0, 1]])  # identity matrix\n",
    "\n",
    "# Apply elemetwise product operator.\n",
    "u = x * y\n",
    "\n",
    "# Apply matrix product operator.\n",
    "v = x @ y\n",
    "\n",
    "# Apply matrix product function and method\n",
    "# that must give the same results\n",
    "# as a use of matrix product operator.\n",
    "w = [np.dot(x, y), x.dot(y)]\n",
    "\n",
    "check = np.all([_ == v for _ in w])\n",
    "\n",
    "print(f'x:\\n{x}',\n",
    "      f'y:\\n{y}',\n",
    "      f'x * y:\\n{u}',\n",
    "      f'x @ y:\\n{v}\\n{check}',  \n",
    "      sep='\\n\\n')"
   ]
  },
  {
   "cell_type": "code",
   "execution_count": 3,
   "metadata": {},
   "outputs": [
    {
     "name": "stdout",
     "output_type": "stream",
     "text": [
      "x:\n",
      "[[1 2 3]\n",
      " [4 5 6]]\n",
      "\n",
      "y:\n",
      "[[1 0 0]\n",
      " [0 1 0]]\n",
      "\n",
      "z:\n",
      "[[1 0]\n",
      " [0 1]]\n",
      "\n",
      "y * x:\n",
      "[[1 0 0]\n",
      " [0 5 0]]\n",
      "\n",
      "z @ x:\n",
      "[[1 2 3]\n",
      " [4 5 6]]\n",
      "True\n"
     ]
    }
   ],
   "source": [
    "# Elementwise and matrix product\n",
    "# in case of 2d arraays.\n",
    "\n",
    "# Set a couple of 2d arrays and a square matrix.\n",
    "x = np.array([[1, 2, 3], [4, 5, 6]])\n",
    "y = np.array([[1, 0, 0], [0, 1, 0]])\n",
    "z = np.array([[1, 0], [0, 1]])  # identity matrix\n",
    "\n",
    "# Apply elemetwise product operator.\n",
    "u = y * x\n",
    "\n",
    "# Apply matrix product operator.\n",
    "v = z @ x\n",
    "\n",
    "# Apply matrix product function and method\n",
    "# that must give the same results\n",
    "# as a use of matrix product operator.\n",
    "w = [np.dot(z, x), z.dot(x)]\n",
    "\n",
    "check = np.all([_ == v for _ in w])\n",
    "\n",
    "print(f'x:\\n{x}',\n",
    "      f'y:\\n{y}',\n",
    "      f'z:\\n{z}',\n",
    "      f'y * x:\\n{u}',\n",
    "      f'z @ x:\\n{v}\\n{check}',  \n",
    "      sep='\\n\\n')"
   ]
  }
 ],
 "metadata": {
  "kernelspec": {
   "display_name": "Python 3",
   "language": "python",
   "name": "python3"
  },
  "language_info": {
   "codemirror_mode": {
    "name": "ipython",
    "version": 3
   },
   "file_extension": ".py",
   "mimetype": "text/x-python",
   "name": "python",
   "nbconvert_exporter": "python",
   "pygments_lexer": "ipython3",
   "version": "3.8.6"
  }
 },
 "nbformat": 4,
 "nbformat_minor": 2
}
