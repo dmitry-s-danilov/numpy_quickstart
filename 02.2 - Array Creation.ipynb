{
 "cells": [
  {
   "cell_type": "markdown",
   "metadata": {},
   "source": [
    "# Array Creation\n",
    "\n",
    "[NumPy v1.17 Manual](https://numpy.org/doc/1.17/index.html) >>  \n",
    "[NumPy User Guide](https://numpy.org/doc/1.17/user/index.html) >>  \n",
    "[Quickstart tutorial](https://numpy.org/doc/1.17/user/quickstart.html#) >>  \n",
    "[The Basics](https://numpy.org/doc/1.17/user/quickstart.html#the-basics) >>  \n",
    "[Array Creation](https://numpy.org/doc/1.17/user/quickstart.html#array-creation)\n",
    "\n",
    "NumPy offers several functions to create arrays\n",
    "with initial placeholder content:\n",
    "* **zeros** creates an array full of zeros,\n",
    "* **ones** creates an array full of ones,\n",
    "* **empty** creates an array\n",
    "  whose initial content is random\n",
    "  and depends on the state of the memory.\n",
    "\n",
    "By default,\n",
    "the dtype of the created array is float\n",
    "but can also be specified."
   ]
  },
  {
   "cell_type": "code",
   "execution_count": 2,
   "metadata": {},
   "outputs": [],
   "source": [
    "import numpy as np"
   ]
  },
  {
   "cell_type": "code",
   "execution_count": 16,
   "metadata": {},
   "outputs": [
    {
     "name": "stdout",
     "output_type": "stream",
     "text": [
      "<class 'numpy.ndarray'>:\n",
      "[0 0 0 0 0 0 0 0 0 0 0 0]\n",
      "ndim: 1\n",
      "shape: (12,)\n",
      "size: 12\n",
      "dtype: int64\n",
      "itemsize: 8\n"
     ]
    }
   ],
   "source": [
    "# create 1d array\n",
    "# full of zeros\n",
    "# with specifieing dtype\n",
    "\n",
    "x = np.zeros(shape=12, dtype=int)\n",
    "\n",
    "print(\n",
    "    f'{type(x)}:', x,\n",
    "    f'ndim: {x.ndim}',\n",
    "    f'shape: {x.shape}',\n",
    "    f'size: {x.size}',\n",
    "    f'dtype: {x.dtype}',\n",
    "    f'itemsize: {x.itemsize}',\n",
    "    sep='\\n')"
   ]
  },
  {
   "cell_type": "code",
   "execution_count": 14,
   "metadata": {},
   "outputs": [
    {
     "name": "stdout",
     "output_type": "stream",
     "text": [
      "<class 'numpy.ndarray'>:\n",
      "[[1 1 1 1]\n",
      " [1 1 1 1]\n",
      " [1 1 1 1]]\n",
      "ndim: 2\n",
      "shape: (3, 4)\n",
      "size: 12\n",
      "dtype: int64\n",
      "itemsize: 8\n"
     ]
    }
   ],
   "source": [
    "# create 2d array\n",
    "# full of ones\n",
    "# with specifieing dtype\n",
    "\n",
    "x = np.ones(shape=(3, 4), dtype=int)\n",
    "\n",
    "print(\n",
    "    f'{type(x)}:', x,\n",
    "    f'ndim: {x.ndim}',\n",
    "    f'shape: {x.shape}',\n",
    "    f'size: {x.size}',\n",
    "    f'dtype: {x.dtype}',\n",
    "    f'itemsize: {x.itemsize}',\n",
    "    sep='\\n')"
   ]
  },
  {
   "cell_type": "code",
   "execution_count": 17,
   "metadata": {},
   "outputs": [
    {
     "name": "stdout",
     "output_type": "stream",
     "text": [
      "<class 'numpy.ndarray'>:\n",
      "[[[1. 1. 1. 1.]\n",
      "  [1. 1. 1. 1.]\n",
      "  [1. 1. 1. 1.]]\n",
      "\n",
      " [[1. 1. 1. 1.]\n",
      "  [1. 1. 1. 1.]\n",
      "  [1. 1. 1. 1.]]]\n",
      "ndim: 3\n",
      "shape: (2, 3, 4)\n",
      "size: 24\n",
      "dtype: float64\n",
      "itemsize: 8\n"
     ]
    }
   ],
   "source": [
    "# create 3d array\n",
    "# full of randoms\n",
    "\n",
    "x = np.empty((2, 3, 4))\n",
    "\n",
    "print(\n",
    "    f'{type(x)}:', x,\n",
    "    f'ndim: {x.ndim}',\n",
    "    f'shape: {x.shape}',\n",
    "    f'size: {x.size}',\n",
    "    f'dtype: {x.dtype}',\n",
    "    f'itemsize: {x.itemsize}',\n",
    "    sep='\\n')"
   ]
  }
 ],
 "metadata": {
  "kernelspec": {
   "display_name": "Python 3",
   "language": "python",
   "name": "python3"
  },
  "language_info": {
   "codemirror_mode": {
    "name": "ipython",
    "version": 3
   },
   "file_extension": ".py",
   "mimetype": "text/x-python",
   "name": "python",
   "nbconvert_exporter": "python",
   "pygments_lexer": "ipython3",
   "version": "3.7.3"
  }
 },
 "nbformat": 4,
 "nbformat_minor": 2
}
