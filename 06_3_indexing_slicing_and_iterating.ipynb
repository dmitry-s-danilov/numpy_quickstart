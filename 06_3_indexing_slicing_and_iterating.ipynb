{
 "cells": [
  {
   "cell_type": "markdown",
   "metadata": {},
   "source": [
    "# The basics\n",
    "\n",
    "## Indexing, slicing and iterating\n",
    "\n",
    "### Iterating\n",
    "\n",
    "- Iterating over multidimensional arrays is done with respect to the first axis.\n",
    "- However, if you want to perform an operation on each element in the array,\n",
    "  you can use the `ndarray.flat` attribute\n",
    "  which is an iterator over all the elements of the array."
   ]
  },
  {
   "cell_type": "code",
   "execution_count": 1,
   "metadata": {},
   "outputs": [],
   "source": [
    "import numpy as np"
   ]
  },
  {
   "cell_type": "code",
   "execution_count": 2,
   "metadata": {},
   "outputs": [
    {
     "name": "stdout",
     "output_type": "stream",
     "text": [
      "<class 'numpy.ndarray'>:\n",
      "[[ 1  2  3  4]\n",
      " [ 5  6  7  8]\n",
      " [ 9 10 11 12]]\n",
      "ndim: 2\n",
      "shape: (3, 4)\n",
      "size: 12\n"
     ]
    }
   ],
   "source": [
    "# Create 1d array of integers and\n",
    "# reshape it to make 2d one.\n",
    "\n",
    "x_shape = 3, 4\n",
    "x_min, x_step = 1, 1\n",
    "x_max = x_min + (np.product(x_shape) - 1) * x_step \n",
    "x = np.arange(start=x_min,\n",
    "              stop=x_max + x_step,\n",
    "              step=x_step)\n",
    "x = x.reshape(x_shape)\n",
    "\n",
    "print(f'{type(x)}:', x,\n",
    "      f'ndim: {x.ndim}',\n",
    "      f'shape: {x.shape}',\n",
    "      f'size: {x.size}',\n",
    "      sep='\\n')"
   ]
  },
  {
   "cell_type": "code",
   "execution_count": 3,
   "metadata": {},
   "outputs": [
    {
     "name": "stdout",
     "output_type": "stream",
     "text": [
      "[1 2 3 4]\n",
      "[5 6 7 8]\n",
      "[ 9 10 11 12]\n"
     ]
    }
   ],
   "source": [
    "# Iterate over the array\n",
    "# with respect to the first axis.\n",
    "\n",
    "for _ in x:\n",
    "    print(_)"
   ]
  },
  {
   "cell_type": "code",
   "execution_count": 4,
   "metadata": {},
   "outputs": [
    {
     "name": "stdout",
     "output_type": "stream",
     "text": [
      "0 [1 2 3 4]\n",
      "1 [5 6 7 8]\n",
      "2 [ 9 10 11 12]\n"
     ]
    }
   ],
   "source": [
    "# Iterate over the array\n",
    "# with respect to the first axis index.\n",
    "\n",
    "for i in range(x.shape[0]):\n",
    "    print(f'{i} {x[i]}')"
   ]
  },
  {
   "cell_type": "code",
   "execution_count": 5,
   "metadata": {},
   "outputs": [
    {
     "name": "stdout",
     "output_type": "stream",
     "text": [
      "1\n",
      "2\n",
      "3\n",
      "4\n",
      "5\n",
      "6\n",
      "7\n",
      "8\n",
      "9\n",
      "10\n",
      "11\n",
      "12\n"
     ]
    }
   ],
   "source": [
    "# Iterate over all array elements.\n",
    "\n",
    "for _ in x.flat:\n",
    "    print(_)"
   ]
  },
  {
   "cell_type": "code",
   "execution_count": 6,
   "metadata": {},
   "outputs": [
    {
     "name": "stdout",
     "output_type": "stream",
     "text": [
      " 0  1\n",
      " 1  2\n",
      " 2  3\n",
      " 3  4\n",
      " 4  5\n",
      " 5  6\n",
      " 6  7\n",
      " 7  8\n",
      " 8  9\n",
      " 9 10\n",
      "10 11\n",
      "11 12\n"
     ]
    }
   ],
   "source": [
    "# Iterate over indices of all array elements.\n",
    "\n",
    "for i in range(x.size):\n",
    "    print(f'{i:>2} {x.flat[i]:>2}')"
   ]
  }
 ],
 "metadata": {
  "kernelspec": {
   "display_name": "Python 3",
   "language": "python",
   "name": "python3"
  },
  "language_info": {
   "codemirror_mode": {
    "name": "ipython",
    "version": 3
   },
   "file_extension": ".py",
   "mimetype": "text/x-python",
   "name": "python",
   "nbconvert_exporter": "python",
   "pygments_lexer": "ipython3",
   "version": "3.8.6"
  }
 },
 "nbformat": 4,
 "nbformat_minor": 2
}
