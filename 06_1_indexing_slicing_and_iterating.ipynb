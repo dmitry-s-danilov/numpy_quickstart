{
 "cells": [
  {
   "cell_type": "markdown",
   "metadata": {},
   "source": [
    "# The basics\n",
    "\n",
    "##  Indexing, slicing and iterating\n",
    "\n",
    "### One-dimensional arrays\n",
    "\n",
    "One-dimensional arrays can be indexed, sliced and iterated over,\n",
    "much like `lists` and other Python sequences."
   ]
  },
  {
   "cell_type": "code",
   "execution_count": 1,
   "metadata": {},
   "outputs": [],
   "source": [
    "import numpy as np"
   ]
  },
  {
   "cell_type": "code",
   "execution_count": 2,
   "metadata": {},
   "outputs": [],
   "source": [
    "# Create 1d array and exponentiate it.\n",
    "\n",
    "x = np.arange(0, 11)\n",
    "x = x ** 2"
   ]
  },
  {
   "cell_type": "code",
   "execution_count": 3,
   "metadata": {},
   "outputs": [
    {
     "name": "stdout",
     "output_type": "stream",
     "text": [
      "x = [  0   1   4   9  16  25  36  49  64  81 100]\n",
      "\n",
      "x[::] = [  0   1   4   9  16  25  36  49  64  81 100]\n",
      "x[::2] = [  0   4  16  36  64 100]\n",
      "\n",
      "x[::-1] = [100  81  64  49  36  25  16   9   4   1   0]\n",
      "x[::-2] = [100  64  36  16   4   0]\n",
      "\n",
      "x[1:-1] = [ 1  4  9 16 25 36 49 64 81]\n",
      "x[1:-1:2] = [ 1  9 25 49 81]\n",
      "\n",
      "x[-2:2:-1] = [81 64 49 36 25 16  9]\n",
      "x[-2:2:-2] = [81 49 25  9]\n"
     ]
    }
   ],
   "source": [
    "# Make some simple splices, strides and inversions.\n",
    "\n",
    "print(\n",
    "    f'x = {x}\\n',\n",
    "    \n",
    "    f'x[::] = {x[::]}',\n",
    "    f'x[::2] = {x[::2]}\\n',\n",
    "    \n",
    "    f'x[::-1] = {x[::-1]}',\n",
    "    f'x[::-2] = {x[::-2]}\\n',\n",
    "    \n",
    "    f'x[1:-1] = {x[1:-1]}',\n",
    "    f'x[1:-1:2] = {x[1:-1:2]}\\n',\n",
    "    \n",
    "    f'x[-2:2:-1] = {x[-2:2:-1]}',\n",
    "    f'x[-2:2:-2] = {x[-2:2:-2]}',\n",
    "    sep = '\\n'\n",
    ")"
   ]
  },
  {
   "cell_type": "code",
   "execution_count": 4,
   "metadata": {},
   "outputs": [
    {
     "name": "stdout",
     "output_type": "stream",
     "text": [
      " i   x\n",
      " 0   0\n",
      " 1   1\n",
      " 2   4\n",
      " 3   9\n",
      " 4  16\n",
      " 5  25\n",
      " 6  36\n",
      " 7  49\n",
      " 8  64\n",
      " 9  81\n",
      "10 100\n"
     ]
    }
   ],
   "source": [
    "# Iterate over the array by elements.\n",
    "\n",
    "s = '{:>2} {:>3}'\n",
    "print(s.format('i', 'x'))\n",
    "for _ in enumerate(x):\n",
    "    print(s.format(*_))"
   ]
  },
  {
   "cell_type": "code",
   "execution_count": 5,
   "metadata": {},
   "outputs": [
    {
     "name": "stdout",
     "output_type": "stream",
     "text": [
      " i   x\n",
      " 0   0\n",
      " 1   1\n",
      " 2   4\n",
      " 3   9\n",
      " 4  16\n",
      " 5  25\n",
      " 6  36\n",
      " 7  49\n",
      " 8  64\n",
      " 9  81\n",
      "10 100\n"
     ]
    }
   ],
   "source": [
    "# Iterate over the array by indexes.\n",
    "\n",
    "s = '{:>2} {:>3}'\n",
    "print(s.format('i', 'x'))\n",
    "for i in range(x.size):\n",
    "    print(s.format(i, x[i]))"
   ]
  },
  {
   "cell_type": "code",
   "execution_count": 6,
   "metadata": {},
   "outputs": [
    {
     "name": "stdout",
     "output_type": "stream",
     "text": [
      "x[9] = 81\n",
      "\n",
      " i   x\n",
      " 0   0\n",
      " 1   1\n",
      " 2   4\n",
      " 3   9\n",
      " 4  16\n",
      " 5  25\n",
      " 6  36\n",
      " 7  49\n",
      " 8  64\n",
      " 9  81 *\n",
      "10 100\n"
     ]
    }
   ],
   "source": [
    "# Extract a value from the array\n",
    "# by a single random index.\n",
    "\n",
    "k = np.random.randint(low=0, high=x.size)\n",
    "\n",
    "print(f'x[{k}] = {x[k]}',\n",
    "      sep='\\n', end='\\n\\n')\n",
    "\n",
    "s = '{:>2} {:>3}'\n",
    "print(s.format('i', 'x'))\n",
    "for i in range(x.size):\n",
    "    print(s.format(i, x[i]),\n",
    "          end=' *\\n' if i == k else '\\n')"
   ]
  },
  {
   "cell_type": "code",
   "execution_count": 7,
   "metadata": {},
   "outputs": [
    {
     "name": "stdout",
     "output_type": "stream",
     "text": [
      "k = [ 1 10  3  0  2  9  4  6  7  5  8]\n",
      "x[k] = [  1 100   9   0   4  81  16  36  49  25  64]\n",
      "\n",
      " i   x\n",
      " 1   1\n",
      "10 100\n",
      " 3   9\n",
      " 0   0\n",
      " 2   4\n",
      " 9  81\n",
      " 4  16\n",
      " 6  36\n",
      " 7  49\n",
      " 5  25\n",
      " 8  64\n"
     ]
    }
   ],
   "source": [
    "# Extract values from the array\n",
    "# by an array of random indexes.\n",
    "\n",
    "# k = np.random.randint(low=0, high=x.size,\n",
    "#                       size=x.size)\n",
    "\n",
    "k = np.arange(x.size)\n",
    "np.random.shuffle(k)\n",
    "\n",
    "print(f'k = {k}',\n",
    "      f'x[k] = {x[k]}',\n",
    "      sep='\\n', end='\\n\\n')\n",
    "\n",
    "s = '{:>2} {:>3}'\n",
    "print(s.format('i', 'x'))\n",
    "for i in k:\n",
    "    print(s.format(i, x[i]))"
   ]
  },
  {
   "cell_type": "code",
   "execution_count": 8,
   "metadata": {},
   "outputs": [
    {
     "name": "stdout",
     "output_type": "stream",
     "text": [
      "x[0:6] = [ 0  1  4  9 16 25]\n",
      "\n",
      " i   x\n",
      " 0   0 *\n",
      " 1   1 *\n",
      " 2   4 *\n",
      " 3   9 *\n",
      " 4  16 *\n",
      " 5  25 *\n",
      " 6  36\n",
      " 7  49\n",
      " 8  64\n",
      " 9  81\n",
      "10 100\n"
     ]
    }
   ],
   "source": [
    "# Slice the array\n",
    "# by two random indexes from specified range.\n",
    "\n",
    "while True:\n",
    "    k = np.random.randint(low=0, high=x.size, size=2)\n",
    "    if k[0] == k[1]:\n",
    "        continue\n",
    "    elif k[0] > k[1]:\n",
    "        k = k[::-1]\n",
    "    break\n",
    "\n",
    "print(f'x[{k[0]}:{k[1]}] = {x[k[0]:k[1]]}',\n",
    "      sep='\\n', end='\\n\\n')\n",
    "\n",
    "s = '{:>2} {:>3}'\n",
    "print(s.format('i', 'x'))\n",
    "for i in range(x.size):\n",
    "    print(s.format(i, x[i]),\n",
    "          end=' *\\n' if (k[0] <= i) and (i < k[1]) else '\\n')"
   ]
  },
  {
   "cell_type": "code",
   "execution_count": 9,
   "metadata": {},
   "outputs": [
    {
     "name": "stdout",
     "output_type": "stream",
     "text": [
      "x = [  0   1   4   9  16  25  36  49  64  81 100]\n",
      "x[::4] = [ 0 16 64]\n",
      "\n",
      " i   x\n",
      " 0   0 *\n",
      " 1   1\n",
      " 2   4\n",
      " 3   9\n",
      " 4  16 *\n",
      " 5  25\n",
      " 6  36\n",
      " 7  49\n",
      " 8  64 *\n",
      " 9  81\n",
      "10 100\n"
     ]
    }
   ],
   "source": [
    "# Stride the array\n",
    "# by random step from specified range.\n",
    "\n",
    "k = np.random.randint(low=2, high=x.size // 2)\n",
    "\n",
    "print(f'x = {x}',\n",
    "      f'x[::{k}] = {x[::k]}',\n",
    "      sep='\\n', end='\\n\\n')\n",
    "\n",
    "s = '{:>2} {:>3}'\n",
    "j = 0\n",
    "print(s.format('i', 'x'))\n",
    "for i in range(x.size):\n",
    "    if i == j:\n",
    "        end = ' *\\n'\n",
    "        j += k\n",
    "    else:\n",
    "        end = '\\n'\n",
    "    print(s.format(i, x[i]), end=end)    "
   ]
  },
  {
   "cell_type": "code",
   "execution_count": 10,
   "metadata": {},
   "outputs": [],
   "source": [
    "# Copy the array and stride the array\n",
    "# by random step from specified range.\n",
    "\n",
    "i = np.random.randint(low=2, high=x.size // 2)\n",
    "\n",
    "y = x.copy()\n",
    "y[1::i] = -x[1::i]"
   ]
  },
  {
   "cell_type": "code",
   "execution_count": 11,
   "metadata": {},
   "outputs": [
    {
     "name": "stderr",
     "output_type": "stream",
     "text": [
      "<ipython-input-11-46d04b57faa5>:3: RuntimeWarning: invalid value encountered in sqrt\n",
      "  z = np.sqrt(y)\n"
     ]
    }
   ],
   "source": [
    "# Apply incorrect operation to the array.\n",
    "\n",
    "z = np.sqrt(y)"
   ]
  },
  {
   "cell_type": "code",
   "execution_count": 12,
   "metadata": {},
   "outputs": [
    {
     "name": "stdout",
     "output_type": "stream",
     "text": [
      " i   x    y   z\n",
      " 0   0    0 0.0\n",
      " 1   1   -1 nan\n",
      " 2   4    4 2.0\n",
      " 3   9   -9 nan\n",
      " 4  16   16 4.0\n",
      " 5  25  -25 nan\n",
      " 6  36   36 6.0\n",
      " 7  49  -49 nan\n",
      " 8  64   64 8.0\n",
      " 9  81  -81 nan\n",
      "10 100  100 10.0\n"
     ]
    }
   ],
   "source": [
    "s = '{:>2} {:>3} {:>4} {:>3}'\n",
    "print(s.format('i', 'x', 'y', 'z'))\n",
    "for i in range(x.size):\n",
    "    print(s.format(i, x[i], y[i], z[i])) "
   ]
  }
 ],
 "metadata": {
  "kernelspec": {
   "display_name": "Python 3",
   "language": "python",
   "name": "python3"
  },
  "language_info": {
   "codemirror_mode": {
    "name": "ipython",
    "version": 3
   },
   "file_extension": ".py",
   "mimetype": "text/x-python",
   "name": "python",
   "nbconvert_exporter": "python",
   "pygments_lexer": "ipython3",
   "version": "3.8.6"
  }
 },
 "nbformat": 4,
 "nbformat_minor": 2
}
