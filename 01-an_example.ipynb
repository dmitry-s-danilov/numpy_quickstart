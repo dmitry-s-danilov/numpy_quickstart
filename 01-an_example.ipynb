{
 "cells": [
  {
   "cell_type": "markdown",
   "metadata": {},
   "source": [
    "# An example\n",
    "\n",
    "[NumPy v1.17 Manual](https://numpy.org/doc/1.17/index.html) >>  \n",
    "[NumPy User Guide](https://numpy.org/doc/1.17/user/index.html) >>  \n",
    "[Quickstart tutorial](https://numpy.org/doc/1.17/user/quickstart.html#) >>  \n",
    "[The Basics](https://numpy.org/doc/1.17/user/quickstart.html#the-basics) >>  \n",
    "[An example](https://numpy.org/doc/1.17/user/quickstart.html#an-example)\n",
    "\n",
    "The more important attributes of an ndarray object are:\n",
    "* **ndarray.ndim**  \n",
    "  the number of axes (dimensions) of the array\n",
    "* **ndarray.shape**  \n",
    "  the dimensions of the array\n",
    "* **ndarray.size**  \n",
    "  the total number of elements of the array\n",
    "* **ndarray.dtype**  \n",
    "  an object describing the type of the elements in the array\n",
    "* **ndarray.itemsize**  \n",
    "  the size in bytes of each element of the array"
   ]
  },
  {
   "cell_type": "code",
   "execution_count": 1,
   "metadata": {},
   "outputs": [],
   "source": [
    "import numpy as np"
   ]
  },
  {
   "cell_type": "code",
   "execution_count": 4,
   "metadata": {},
   "outputs": [
    {
     "name": "stdout",
     "output_type": "stream",
     "text": [
      "<class 'numpy.ndarray'>:\n",
      "[ 1  2  3  4  5  6  7  8  9 10 11 12]\n",
      "ndim: 1\n",
      "shape: (12,)\n",
      "size: 12\n",
      "dtype: int64\n",
      "itemsize: 8\n"
     ]
    }
   ],
   "source": [
    "# create 1d ndarray\n",
    "\n",
    "x = np.arange(1, 12 + 1)\n",
    "\n",
    "print(\n",
    "    f'{type(a)}:', x,\n",
    "    f'ndim: {x.ndim}',\n",
    "    f'shape: {x.shape}',\n",
    "    f'size: {x.size}',\n",
    "    f'dtype: {x.dtype}',\n",
    "    f'itemsize: {x.itemsize}',\n",
    "    sep='\\n')"
   ]
  },
  {
   "cell_type": "code",
   "execution_count": 5,
   "metadata": {},
   "outputs": [
    {
     "name": "stdout",
     "output_type": "stream",
     "text": [
      "<class 'numpy.ndarray'>:\n",
      "[[ 1  2  3  4]\n",
      " [ 5  6  7  8]\n",
      " [ 9 10 11 12]]\n",
      "ndim: 2\n",
      "shape: (3, 4)\n",
      "size: 12\n",
      "dtype: int64\n",
      "itemsize: 8\n"
     ]
    }
   ],
   "source": [
    "# reshape 1d ndarray\n",
    "# to 2d\n",
    "\n",
    "x = x.reshape((3, 4))\n",
    "\n",
    "print(\n",
    "    f'{type(x)}:', x,\n",
    "    f'ndim: {x.ndim}',\n",
    "    f'shape: {x.shape}',\n",
    "    f'size: {x.size}',\n",
    "    f'dtype: {x.dtype}',\n",
    "    f'itemsize: {x.itemsize}',\n",
    "    sep='\\n')"
   ]
  }
 ],
 "metadata": {
  "kernelspec": {
   "display_name": "Python 3",
   "language": "python",
   "name": "python3"
  },
  "language_info": {
   "codemirror_mode": {
    "name": "ipython",
    "version": 3
   },
   "file_extension": ".py",
   "mimetype": "text/x-python",
   "name": "python",
   "nbconvert_exporter": "python",
   "pygments_lexer": "ipython3",
   "version": "3.7.3"
  }
 },
 "nbformat": 4,
 "nbformat_minor": 2
}
