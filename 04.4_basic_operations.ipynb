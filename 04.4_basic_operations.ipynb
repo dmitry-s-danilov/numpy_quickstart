{
 "cells": [
  {
   "cell_type": "markdown",
   "metadata": {},
   "source": [
    "# Basic Operations\n",
    "\n",
    "## Upcasting\n",
    "\n",
    "When operating with arrays of different types,\n",
    "the type of the resulting array corresponds\n",
    "to the more general or precise one\n",
    "(a behavior known as upcasting).\n",
    "\n",
    "## Links\n",
    "\n",
    "[NumPy v1.17 Manual](https://numpy.org/doc/1.17/index.html) >>  \n",
    "[NumPy User Guide](https://numpy.org/doc/1.17/user/index.html) >>  \n",
    "[Quickstart tutorial](https://numpy.org/doc/1.17/user/quickstart.html#) >>  \n",
    "[The Basics](https://numpy.org/doc/1.17/user/quickstart.html#the-basics) >>  \n",
    "[Basic Operations](https://numpy.org/doc/1.17/user/quickstart.html#basic-operations)\n"
   ]
  },
  {
   "cell_type": "code",
   "execution_count": 2,
   "metadata": {},
   "outputs": [],
   "source": [
    "import numpy as np\n"
   ]
  },
  {
   "cell_type": "code",
   "execution_count": 3,
   "metadata": {},
   "outputs": [
    {
     "name": "stdout",
     "output_type": "stream",
     "text": [
      "x int64:\n",
      "[1 1 1]\n",
      "\n",
      "y float64:\n",
      "[1. 1. 1.]\n",
      "\n",
      "z complex128:\n",
      "[1.+0.j 1.+0.j 1.+0.j]\n",
      "\n"
     ]
    }
   ],
   "source": [
    "# Upcasting.\n",
    "\n",
    "x = np.ones(3, dtype=int)\n",
    "y = x + 0.\n",
    "z = y + 0j\n",
    "\n",
    "print(f'x {x.dtype.name}:', x, '',\n",
    "      f'y {y.dtype.name}:', y, '',\n",
    "      f'z {z.dtype.name}:', z, '',\n",
    "      sep='\\n')\n"
   ]
  },
  {
   "cell_type": "code",
   "execution_count": 4,
   "metadata": {},
   "outputs": [
    {
     "ename": "UFuncTypeError",
     "evalue": "Cannot cast ufunc 'add' output from dtype('float64') to dtype('int64') with casting rule 'same_kind'",
     "output_type": "error",
     "traceback": [
      "\u001b[0;31m---------------------------------------------------------------------------\u001b[0m",
      "\u001b[0;31mUFuncTypeError\u001b[0m                            Traceback (most recent call last)",
      "\u001b[0;32m<ipython-input-4-6249b0f40dbb>\u001b[0m in \u001b[0;36m<module>\u001b[0;34m\u001b[0m\n\u001b[1;32m      2\u001b[0m \u001b[0;34m\u001b[0m\u001b[0m\n\u001b[1;32m      3\u001b[0m \u001b[0my\u001b[0m \u001b[0;34m+=\u001b[0m \u001b[0mx\u001b[0m\u001b[0;34m\u001b[0m\u001b[0;34m\u001b[0m\u001b[0m\n\u001b[0;32m----> 4\u001b[0;31m \u001b[0mx\u001b[0m \u001b[0;34m+=\u001b[0m \u001b[0my\u001b[0m\u001b[0;34m\u001b[0m\u001b[0;34m\u001b[0m\u001b[0m\n\u001b[0m",
      "\u001b[0;31mUFuncTypeError\u001b[0m: Cannot cast ufunc 'add' output from dtype('float64') to dtype('int64') with casting rule 'same_kind'"
     ]
    }
   ],
   "source": [
    "# Type casting error.\n",
    "\n",
    "y += x\n",
    "x += y"
   ]
  }
 ],
 "metadata": {
  "kernelspec": {
   "display_name": "Python 3",
   "language": "python",
   "name": "python3"
  },
  "language_info": {
   "codemirror_mode": {
    "name": "ipython",
    "version": 3
   },
   "file_extension": ".py",
   "mimetype": "text/x-python",
   "name": "python",
   "nbconvert_exporter": "python",
   "pygments_lexer": "ipython3",
   "version": "3.7.3"
  }
 },
 "nbformat": 4,
 "nbformat_minor": 2
}
