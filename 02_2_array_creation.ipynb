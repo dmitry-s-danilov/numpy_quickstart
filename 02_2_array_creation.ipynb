{
 "cells": [
  {
   "cell_type": "markdown",
   "metadata": {},
   "source": [
    "# The basics\n",
    "\n",
    "## Array creation\n",
    "\n",
    "### Functions to create\n",
    "\n",
    "- NumPy offers several functions to create arrays\n",
    "  with initial placeholder content:\n",
    "  - `zeros` creates an array full of zeros,\n",
    "  - `ones` creates an array full of ones,\n",
    "  - `empty` creates an array\n",
    "    whose initial content is random and\n",
    "    depends on the state of the memory.\n",
    "- By default, the type of the created array is `float`\n",
    "  but can also be specified."
   ]
  },
  {
   "cell_type": "code",
   "execution_count": 1,
   "metadata": {},
   "outputs": [],
   "source": [
    "import numpy as np"
   ]
  },
  {
   "cell_type": "code",
   "execution_count": 2,
   "metadata": {},
   "outputs": [
    {
     "name": "stdout",
     "output_type": "stream",
     "text": [
      "<class 'numpy.ndarray'>:\n",
      "[0 0 0 0 0 0 0 0 0 0 0 0]\n",
      "ndim: 1\n",
      "shape: (12,)\n",
      "size: 12\n",
      "dtype: int64\n"
     ]
    }
   ],
   "source": [
    "# Create 1d array full of zeros,\n",
    "# specifying necessary the shape and\n",
    "# optionally the type.\n",
    "\n",
    "x = np.zeros(shape=12, dtype=int)\n",
    "\n",
    "print(f'{type(x)}:', x,\n",
    "      f'ndim: {x.ndim}',\n",
    "      f'shape: {x.shape}',\n",
    "      f'size: {x.size}',\n",
    "      f'dtype: {x.dtype}',\n",
    "      # f'itemsize: {x.itemsize}',\n",
    "      sep='\\n')"
   ]
  },
  {
   "cell_type": "code",
   "execution_count": 3,
   "metadata": {},
   "outputs": [
    {
     "name": "stdout",
     "output_type": "stream",
     "text": [
      "<class 'numpy.ndarray'>:\n",
      "[[1 1 1 1]\n",
      " [1 1 1 1]\n",
      " [1 1 1 1]]\n",
      "ndim: 2\n",
      "shape: (3, 4)\n",
      "size: 12\n",
      "dtype: int64\n"
     ]
    }
   ],
   "source": [
    "# Creates 2d array full of ones,\n",
    "# specifying necessary the shape and\n",
    "# optionally the type.\n",
    "\n",
    "x = np.ones(shape=(3, 4), dtype=int)\n",
    "\n",
    "print(f'{type(x)}:', x,\n",
    "      f'ndim: {x.ndim}',\n",
    "      f'shape: {x.shape}',\n",
    "      f'size: {x.size}',\n",
    "      f'dtype: {x.dtype}',\n",
    "      # f'itemsize: {x.itemsize}',\n",
    "      sep='\\n')"
   ]
  },
  {
   "cell_type": "code",
   "execution_count": 4,
   "metadata": {},
   "outputs": [
    {
     "name": "stdout",
     "output_type": "stream",
     "text": [
      "<class 'numpy.ndarray'>:\n",
      "[[[4.64161744e-310 0.00000000e+000 6.94683236e-310 6.94684841e-310]\n",
      "  [6.94684844e-310 6.94683234e-310 6.94684836e-310 6.94684841e-310]\n",
      "  [6.94683234e-310 6.94684842e-310 6.94684843e-310 6.94684843e-310]]\n",
      "\n",
      " [[6.94684843e-310 6.94684843e-310 6.94684842e-310 6.94683236e-310]\n",
      "  [6.94683234e-310 6.94684840e-310 6.94684840e-310 6.94683237e-310]\n",
      "  [6.94684827e-310 6.94684777e-310 6.94684777e-310 6.94684844e-310]]]\n",
      "ndim: 3\n",
      "shape: (2, 3, 4)\n",
      "size: 24\n",
      "dtype: float64\n"
     ]
    }
   ],
   "source": [
    "# Creates 3d array full of randoms,\n",
    "# specifying the shape.\n",
    "\n",
    "x = np.empty((2, 3, 4))\n",
    "\n",
    "print(f'{type(x)}:', x,\n",
    "      f'ndim: {x.ndim}',\n",
    "      f'shape: {x.shape}',\n",
    "      f'size: {x.size}',\n",
    "      f'dtype: {x.dtype}',\n",
    "      # f'itemsize: {x.itemsize}',\n",
    "      sep='\\n')"
   ]
  }
 ],
 "metadata": {
  "kernelspec": {
   "display_name": "Python 3",
   "language": "python",
   "name": "python3"
  },
  "language_info": {
   "codemirror_mode": {
    "name": "ipython",
    "version": 3
   },
   "file_extension": ".py",
   "mimetype": "text/x-python",
   "name": "python",
   "nbconvert_exporter": "python",
   "pygments_lexer": "ipython3",
   "version": "3.8.6"
  }
 },
 "nbformat": 4,
 "nbformat_minor": 2
}
