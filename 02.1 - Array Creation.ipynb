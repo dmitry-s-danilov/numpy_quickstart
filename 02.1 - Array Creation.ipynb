{
 "cells": [
  {
   "cell_type": "markdown",
   "metadata": {},
   "source": [
    "# Array Creation\n",
    "\n",
    "[NumPy v1.17 Manual](https://numpy.org/doc/1.17/index.html) >>  \n",
    "[NumPy User Guide](https://numpy.org/doc/1.17/user/index.html) >>  \n",
    "[Quickstart tutorial](https://numpy.org/doc/1.17/user/quickstart.html#) >>  \n",
    "[The Basics](https://numpy.org/doc/1.17/user/quickstart.html#the-basics) >>  \n",
    "[Array Creation](https://numpy.org/doc/1.17/user/quickstart.html#array-creation)\n",
    "\n",
    "You can create an array \n",
    "from a regular Python list or tuple \n",
    "using the **array** function.\n",
    "\n",
    "The type of the array \n",
    "can also be explicitly specified \n",
    "at creation time."
   ]
  },
  {
   "cell_type": "code",
   "execution_count": 2,
   "metadata": {},
   "outputs": [],
   "source": [
    "import numpy as np"
   ]
  },
  {
   "cell_type": "code",
   "execution_count": 20,
   "metadata": {},
   "outputs": [
    {
     "name": "stdout",
     "output_type": "stream",
     "text": [
      "<class 'list'>:\n",
      "[1, 2, 3, 4, 5, 6, 7, 8, 9, 10, 11, 12]\n",
      "<class 'numpy.ndarray'>:\n",
      "[ 1  2  3  4  5  6  7  8  9 10 11 12]\n",
      "ndim: 1\n",
      "shape: (12,)\n",
      "size: 12\n",
      "dtype: int64\n",
      "itemsize: 8\n"
     ]
    }
   ],
   "source": [
    "# create 1d array\n",
    "# from list\n",
    "\n",
    "n = 12\n",
    "x = [i + 1 for i in range(0, n)]\n",
    "y = np.array(x)\n",
    "\n",
    "print(\n",
    "    f'{type(x)}:', x,\n",
    "    f'{type(y)}:', y,\n",
    "    f'ndim: {y.ndim}',\n",
    "    f'shape: {y.shape}',\n",
    "    f'size: {y.size}',\n",
    "    f'dtype: {y.dtype}',\n",
    "    f'itemsize: {y.itemsize}',\n",
    "    sep='\\n')"
   ]
  },
  {
   "cell_type": "code",
   "execution_count": 27,
   "metadata": {},
   "outputs": [
    {
     "name": "stdout",
     "output_type": "stream",
     "text": [
      "<class 'list'>:\n",
      "[[1, 2, 3, 4], [5, 6, 7, 8], [9, 10, 11, 12]]\n",
      "\n",
      "<class 'numpy.ndarray'>:\n",
      "[[ 1  2  3  4]\n",
      " [ 5  6  7  8]\n",
      " [ 9 10 11 12]]\n",
      "ndim: 2\n",
      "shape: (3, 4)\n",
      "size: 12\n",
      "dtype: int64\n",
      "itemsize: 8\n"
     ]
    }
   ],
   "source": [
    "# create 2d array\n",
    "# from list of lists\n",
    "\n",
    "n, m = 3, 4\n",
    "x = [[m * i + (j + 1) for j in range(0,  m)]\n",
    "     for i in range(0, n)]\n",
    "y = np.array(x)\n",
    "\n",
    "print(\n",
    "    f'{type(x)}:', x, '',\n",
    "    f'{type(y)}:', y,\n",
    "    f'ndim: {y.ndim}',\n",
    "    f'shape: {y.shape}',\n",
    "    f'size: {y.size}',\n",
    "    f'dtype: {y.dtype}',\n",
    "    f'itemsize: {y.itemsize}',\n",
    "    sep='\\n')"
   ]
  },
  {
   "cell_type": "code",
   "execution_count": 26,
   "metadata": {},
   "outputs": [
    {
     "name": "stdout",
     "output_type": "stream",
     "text": [
      "<class 'list'>:\n",
      "[[1, 2, 3, 4], [5, 6, 7, 8], [9, 10, 11, 12]]\n",
      "\n",
      "<class 'numpy.ndarray'>:\n",
      "[[ 1.  2.  3.  4.]\n",
      " [ 5.  6.  7.  8.]\n",
      " [ 9. 10. 11. 12.]]\n",
      "ndim: 2\n",
      "shape: (3, 4)\n",
      "size: 12\n",
      "dtype: float64\n",
      "itemsize: 8\n"
     ]
    }
   ],
   "source": [
    "# create 2d array\n",
    "# from list of lists\n",
    "# with specifieing dtype\n",
    "\n",
    "n, m = 3, 4\n",
    "x = [[m * i + (j + 1) for j in range(0,  m)]\n",
    "     for i in range(0, n)]\n",
    "y = np.array(x, dtype=float)\n",
    "\n",
    "print(\n",
    "    f'{type(x)}:', x, '',\n",
    "    f'{type(y)}:', y,\n",
    "    f'ndim: {y.ndim}',\n",
    "    f'shape: {y.shape}',\n",
    "    f'size: {y.size}',\n",
    "    f'dtype: {y.dtype}',\n",
    "    f'itemsize: {y.itemsize}',\n",
    "    sep='\\n')"
   ]
  }
 ],
 "metadata": {
  "kernelspec": {
   "display_name": "Python 3",
   "language": "python",
   "name": "python3"
  },
  "language_info": {
   "codemirror_mode": {
    "name": "ipython",
    "version": 3
   },
   "file_extension": ".py",
   "mimetype": "text/x-python",
   "name": "python",
   "nbconvert_exporter": "python",
   "pygments_lexer": "ipython3",
   "version": "3.7.3"
  }
 },
 "nbformat": 4,
 "nbformat_minor": 2
}
