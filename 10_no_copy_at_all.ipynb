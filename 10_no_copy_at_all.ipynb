{
 "cells": [
  {
   "cell_type": "markdown",
   "metadata": {},
   "source": [
    "# No Copy at All\n",
    "\n",
    "* Simple assignments make no copy\n",
    "  of array objects or of their data.\n",
    "* Python passes mutable objects as references,\n",
    "  so function calls make no copy.\n",
    "\n",
    "## Links\n",
    "[NumPy v1.17 Manual](https://numpy.org/doc/1.17/index.html) >>  \n",
    "[NumPy User Guide](https://numpy.org/doc/1.17/user/index.html) >>  \n",
    "[Quickstart tutorial](https://numpy.org/doc/1.17/user/quickstart.html#) >>  \n",
    "[Copies and Views](https://numpy.org/doc/1.17/user/quickstart.html#copies-and-views) >>  \n",
    "[No Copy at All](https://numpy.org/doc/1.17/user/quickstart.html#no-copy-at-all)"
   ]
  },
  {
   "cell_type": "code",
   "execution_count": 1,
   "metadata": {},
   "outputs": [],
   "source": [
    "import numpy as np\n"
   ]
  },
  {
   "cell_type": "markdown",
   "metadata": {},
   "source": [
    "###  Simple assignment\n"
   ]
  },
  {
   "cell_type": "code",
   "execution_count": 2,
   "metadata": {},
   "outputs": [
    {
     "name": "stdout",
     "output_type": "stream",
     "text": [
      "[ 0  1  2  3  4  5  6  7  8  9 10 11]\n"
     ]
    }
   ],
   "source": [
    "# Creates an ndarray object.\n",
    "x = np.arange(12)\n",
    "print(x)\n"
   ]
  },
  {
   "cell_type": "code",
   "execution_count": 3,
   "metadata": {},
   "outputs": [
    {
     "name": "stdout",
     "output_type": "stream",
     "text": [
      "True\n",
      "True\n",
      "[ 0  1  2  3  4  5  6  7  8  9 10 11]\n"
     ]
    }
   ],
   "source": [
    "# Makes a simple assignment,\n",
    "# herewith no new object is created.\n",
    "y = x\n",
    "print(# These are two names for the same ndarray object.\n",
    "      y is x,\n",
    "      # id is a unique identifier of an object.\n",
    "      id(y) == id(x),\n",
    "      y,\n",
    "      sep='\\n')\n"
   ]
  },
  {
   "cell_type": "code",
   "execution_count": 4,
   "metadata": {},
   "outputs": [
    {
     "name": "stdout",
     "output_type": "stream",
     "text": [
      "[[ 0  1  2  3]\n",
      " [ 4  5  6  7]\n",
      " [ 8  9 10 11]]\n",
      "(3, 4)\n"
     ]
    }
   ],
   "source": [
    "# Changes the shape of ndarray object,\n",
    "# using alternative name.\n",
    "y.shape = 3, 4\n",
    "print(x, x.shape, sep='\\n')\n"
   ]
  },
  {
   "cell_type": "markdown",
   "metadata": {},
   "source": [
    "### Passing an argument to a function"
   ]
  },
  {
   "cell_type": "code",
   "execution_count": 5,
   "metadata": {},
   "outputs": [
    {
     "name": "stdout",
     "output_type": "stream",
     "text": [
      "139869576590080\n",
      "139869576590080\n",
      "True\n"
     ]
    }
   ],
   "source": [
    "def get_id(x):\n",
    "    \"\"\"Returns object id.\"\"\"\n",
    "    return id(x)\n",
    "\n",
    "\n",
    "print(id(x),\n",
    "      # Passes ndarray object to function as reference.\n",
    "      get_id(x),\n",
    "      id(x) == get_id(x),\n",
    "      sep='\\n')\n"
   ]
  }
 ],
 "metadata": {
  "kernelspec": {
   "display_name": "Python 3",
   "language": "python",
   "name": "python3"
  },
  "language_info": {
   "codemirror_mode": {
    "name": "ipython",
    "version": 3
   },
   "file_extension": ".py",
   "mimetype": "text/x-python",
   "name": "python",
   "nbconvert_exporter": "python",
   "pygments_lexer": "ipython3",
   "version": "3.7.3"
  }
 },
 "nbformat": 4,
 "nbformat_minor": 2
}
