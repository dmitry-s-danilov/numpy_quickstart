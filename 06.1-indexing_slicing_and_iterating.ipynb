{
 "cells": [
  {
   "cell_type": "markdown",
   "metadata": {},
   "source": [
    "# Indexing, Slicing and Iterating\n",
    "\n",
    "## One-dimensional arrays\n",
    "\n",
    "One-dimensional arrays can be indexed, sliced and iterated over,\n",
    "much like lists and other Python sequences.\n",
    "\n",
    "## Links\n",
    "\n",
    "[NumPy v1.17 Manual](https://numpy.org/doc/1.17/index.html) >>  \n",
    "[NumPy User Guide](https://numpy.org/doc/1.17/user/index.html) >>  \n",
    "[Quickstart tutorial](https://numpy.org/doc/1.17/user/quickstart.html#) >>  \n",
    "[The Basics](https://numpy.org/doc/1.17/user/quickstart.html#the-basics) >>  \n",
    "[Indexing, Slicing and Iterating](https://numpy.org/doc/1.17/user/quickstart.html#indexing-slicing-and-iterating)\n",
    "\n"
   ]
  },
  {
   "cell_type": "code",
   "execution_count": 1,
   "metadata": {},
   "outputs": [],
   "source": [
    "import numpy as np\n"
   ]
  },
  {
   "cell_type": "code",
   "execution_count": 2,
   "metadata": {},
   "outputs": [
    {
     "name": "stdout",
     "output_type": "stream",
     "text": [
      "x = [  0   1   4   9  16  25  36  49  64  81 100]\n"
     ]
    }
   ],
   "source": [
    "# Create the array\n",
    "# and exponentiate it.\n",
    "\n",
    "x = np.arange(0, 10 + 1)\n",
    "x = x ** 2\n",
    "print(f'x = {x}')\n"
   ]
  },
  {
   "cell_type": "code",
   "execution_count": 3,
   "metadata": {},
   "outputs": [
    {
     "name": "stdout",
     "output_type": "stream",
     "text": [
      " k   x\n",
      " 0   0\n",
      " 1   1\n",
      " 2   4\n",
      " 3   9\n",
      " 4  16\n",
      " 5  25\n",
      " 6  36\n",
      " 7  49\n",
      " 8  64\n",
      " 9  81\n",
      "10 100\n"
     ]
    }
   ],
   "source": [
    "# Iterate over the array.\n",
    "\n",
    "k = 0\n",
    "print('{:>2}{:>4}'.format('k', 'x'))\n",
    "for y in x:\n",
    "    print(f'{k:>2}{y:>4}')\n",
    "    k += 1\n"
   ]
  },
  {
   "cell_type": "code",
   "execution_count": 4,
   "metadata": {},
   "outputs": [
    {
     "name": "stdout",
     "output_type": "stream",
     "text": [
      " k   x\n",
      " 0   0\n",
      " 1   1\n",
      " 2   4\n",
      " 3   9\n",
      " 4  16\n",
      " 5  25\n",
      " 6  36\n",
      " 7  49\n",
      " 8  64\n",
      " 9  81\n",
      "10 100\n"
     ]
    }
   ],
   "source": [
    "# Iterate over the index list.\n",
    "\n",
    "print('{:>2}{:>4}'.format('k', 'x'))\n",
    "for k in range(x.size):\n",
    "    print(f'{k:>2}{x[k]:>4}')\n"
   ]
  },
  {
   "cell_type": "code",
   "execution_count": 5,
   "metadata": {},
   "outputs": [
    {
     "name": "stdout",
     "output_type": "stream",
     "text": [
      "x[6] = 36\n",
      "\n",
      " k   x\n",
      " 0   0\n",
      " 1   1\n",
      " 2   4\n",
      " 3   9\n",
      " 4  16\n",
      " 5  25\n",
      " 6  36 *\n",
      " 7  49\n",
      " 8  64\n",
      " 9  81\n",
      "10 100\n"
     ]
    }
   ],
   "source": [
    "# Extract a value from the array\n",
    "# by single random index.\n",
    "\n",
    "i = np.random.randint(low=0, high=x.size)\n",
    "\n",
    "print(f'x[{i}] = {x[i]}',\n",
    "      sep='\\n', end='\\n\\n')\n",
    "\n",
    "print('{:>2}{:>4}'.format('k', 'x'))\n",
    "for k in range(x.size):\n",
    "    print(f'{k:>2}{x[k]:>4}', end='')\n",
    "    if k == i:\n",
    "        c = ' *'\n",
    "    else:\n",
    "        c =''\n",
    "    print(c)\n"
   ]
  },
  {
   "cell_type": "code",
   "execution_count": 6,
   "metadata": {},
   "outputs": [
    {
     "name": "stdout",
     "output_type": "stream",
     "text": [
      "i = [ 8  2  3 10  3  9  0  3  9  9  6]\n",
      "x[i] = [ 64   4   9 100   9  81   0   9  81  81  36]\n",
      "\n",
      " k   x\n",
      " 8  64\n",
      " 2   4\n",
      " 3   9\n",
      "10 100\n",
      " 3   9\n",
      " 9  81\n",
      " 0   0\n",
      " 3   9\n",
      " 9  81\n",
      " 9  81\n",
      " 6  36\n"
     ]
    }
   ],
   "source": [
    "# Extract an array of values from the array\n",
    "# by random array of indexes.\n",
    "\n",
    "i = np.random.randint(low=0, high=x.size, size=x.size)\n",
    "\n",
    "print(f'i = {i}', \n",
    "      f'x[i] = {x[i]}',\n",
    "      sep='\\n', end='\\n\\n')\n",
    "\n",
    "print('{:>2}{:>4}'.format('k', 'x'))\n",
    "for k in i:\n",
    "    print(f'{k:>2}{x[k]:>4}')\n"
   ]
  },
  {
   "cell_type": "code",
   "execution_count": 7,
   "metadata": {},
   "outputs": [
    {
     "name": "stdout",
     "output_type": "stream",
     "text": [
      "x[2:3] = [4]\n",
      "\n",
      " k   x\n",
      " 0   0\n",
      " 1   1\n",
      " 2   4 *\n",
      " 3   9\n",
      " 4  16\n",
      " 5  25\n",
      " 6  36\n",
      " 7  49\n",
      " 8  64\n",
      " 9  81\n",
      "10 100\n"
     ]
    }
   ],
   "source": [
    "# Slice the array by two random indexes.\n",
    "\n",
    "while True:\n",
    "    i = np.random.randint(low=0, high=x.size, size=2)\n",
    "    if i[0] == i[1]:\n",
    "        continue\n",
    "    elif i[0] > i[1]:\n",
    "        i = i[ : :-1]\n",
    "    break\n",
    "\n",
    "print(f'x[{i[0]}:{i[1]}] = {x[i[0]:i[1]]}',\n",
    "      sep='\\n', end='\\n\\n')\n",
    "\n",
    "print('{:>2}{:>4}'.format('k', 'x'))\n",
    "for k in range(x.size):\n",
    "    print(f'{k:>2}{x[k]:>4}', end='')\n",
    "    if (i[0] <= k) and (k < i[1]):\n",
    "        c = ' *'\n",
    "    else:\n",
    "        c =''\n",
    "    print(c)\n"
   ]
  },
  {
   "cell_type": "code",
   "execution_count": 8,
   "metadata": {},
   "outputs": [
    {
     "name": "stdout",
     "output_type": "stream",
     "text": [
      "x = [  0   1   4   9  16  25  36  49  64  81 100]\n",
      "x[::-1] = [100  81  64  49  36  25  16   9   4   1   0]\n"
     ]
    }
   ],
   "source": [
    "# Reverse the array.\n",
    "\n",
    "print(\n",
    "    f'x = {x}',\n",
    "    f'x[::-1] = {x[::-1]}',\n",
    "    sep='\\n')\n"
   ]
  },
  {
   "cell_type": "code",
   "execution_count": 9,
   "metadata": {},
   "outputs": [
    {
     "name": "stdout",
     "output_type": "stream",
     "text": [
      "x = [  0   1   4   9  16  25  36  49  64  81 100]\n",
      "x[::9] = [ 0 81]\n",
      "\n",
      " i   x\n",
      " 0   0 *\n",
      " 1   1\n",
      " 2   4\n",
      " 3   9\n",
      " 4  16\n",
      " 5  25\n",
      " 6  36\n",
      " 7  49\n",
      " 8  64\n",
      " 9  81 *\n",
      "10 100\n"
     ]
    }
   ],
   "source": [
    "# Stride the array by random step.\n",
    "\n",
    "i = np.random.randint(low=1, high=x.size)\n",
    "\n",
    "print(f'x = {x}',\n",
    "      f'x[::{i}] = {x[::i]}',\n",
    "      sep='\\n', end='\\n\\n')\n",
    "\n",
    "j = 0\n",
    "print('{:>2}{:>4}'.format('i', 'x'))\n",
    "for k in range(x.size):\n",
    "    print(f'{k:>2}{x[k]:>4}', end='')\n",
    "    if k == j:\n",
    "        c = ' *'\n",
    "        j += i\n",
    "    else:\n",
    "        c =''\n",
    "    print(c)\n"
   ]
  },
  {
   "cell_type": "code",
   "execution_count": 10,
   "metadata": {},
   "outputs": [
    {
     "name": "stdout",
     "output_type": "stream",
     "text": [
      " i    x    y    z\n",
      " 0    0    0  0.0\n",
      " 1    1   -1  nan\n",
      " 2    4    4  2.0\n",
      " 3    9    9  3.0\n",
      " 4   16   16  4.0\n",
      " 5   25   25  5.0\n",
      " 6   36   36  6.0\n",
      " 7   49   49  7.0\n",
      " 8   64   64  8.0\n",
      " 9   81  -81  nan\n",
      "10  100  100 10.0\n"
     ]
    },
    {
     "name": "stderr",
     "output_type": "stream",
     "text": [
      "/usr/lib/python3.7/site-packages/ipykernel_launcher.py:8: RuntimeWarning: invalid value encountered in sqrt\n",
      "  \n"
     ]
    }
   ],
   "source": [
    "# Copy the array, stride the array\n",
    "# and apply incorrect operation to the array.\n",
    "\n",
    "i = np.random.randint(low=1, high=x.size - 1)\n",
    "\n",
    "y = x.copy()\n",
    "y[1::i] = -x[1::i]\n",
    "z = np.sqrt(y)\n",
    "\n",
    "print('{:>2}{:>5}{:>5}{:>5}'.\n",
    "      format('i', 'x', 'y', 'z'))\n",
    "for k in range(x.size):\n",
    "    print(f'{k:>2}{x[k]:>5}{y[k]:>5}{z[k]:>5}')\n",
    "    "
   ]
  }
 ],
 "metadata": {
  "kernelspec": {
   "display_name": "Python 3",
   "language": "python",
   "name": "python3"
  },
  "language_info": {
   "codemirror_mode": {
    "name": "ipython",
    "version": 3
   },
   "file_extension": ".py",
   "mimetype": "text/x-python",
   "name": "python",
   "nbconvert_exporter": "python",
   "pygments_lexer": "ipython3",
   "version": "3.7.3"
  }
 },
 "nbformat": 4,
 "nbformat_minor": 2
}
