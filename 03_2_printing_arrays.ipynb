{
 "cells": [
  {
   "cell_type": "markdown",
   "metadata": {},
   "source": [
    "# The basics\n",
    "\n",
    "## Printing arrays\n",
    "\n",
    "### Skips\n",
    "\n",
    "- If an array is too large to be printed,\n",
    "  NumPy automatically skips the central part of the array and\n",
    "  only prints the corners.  \n",
    "- To disable this behaviour and\n",
    "  force NumPy to print the entire array,\n",
    "  you can change the printing options\n",
    "  using `set_printoptions`.\n",
    "  ```python\n",
    "  np.set_printoptions(threshold=sys.maxsize)\n",
    "  ```"
   ]
  },
  {
   "cell_type": "code",
   "execution_count": 1,
   "metadata": {},
   "outputs": [],
   "source": [
    "import numpy as np"
   ]
  },
  {
   "cell_type": "code",
   "execution_count": 2,
   "metadata": {},
   "outputs": [
    {
     "name": "stdout",
     "output_type": "stream",
     "text": [
      "<class 'numpy.ndarray'>:\n",
      "[   1    2    3 ...  999 1000 1001]\n",
      "ndim: 1\n",
      "shape: (1001,)\n",
      "size: 1001\n"
     ]
    }
   ],
   "source": [
    "# Creates 1d array and prints it.\n",
    "\n",
    "x_shape, x_min, x_step =(1001, ), 1, 1\n",
    "x_max = x_min + (np.product(x_shape) - 1) * x_step\n",
    "x = np.arange(\n",
    "    start=x_min,\n",
    "    stop=x_max + x_step,\n",
    "    step=x_step\n",
    ")\n",
    "\n",
    "print(f'{type(x)}:', x,\n",
    "      f'ndim: {x.ndim}',\n",
    "      f'shape: {x.shape}',\n",
    "      f'size: {x.size}',\n",
    "      sep='\\n')"
   ]
  },
  {
   "cell_type": "code",
   "execution_count": 3,
   "metadata": {},
   "outputs": [
    {
     "name": "stdout",
     "output_type": "stream",
     "text": [
      "<class 'numpy.ndarray'>:\n",
      "[[    1     2     3 ...    98    99   100]\n",
      " [  101   102   103 ...   198   199   200]\n",
      " [  201   202   203 ...   298   299   300]\n",
      " ...\n",
      " [ 9701  9702  9703 ...  9798  9799  9800]\n",
      " [ 9801  9802  9803 ...  9898  9899  9900]\n",
      " [ 9901  9902  9903 ...  9998  9999 10000]]\n",
      "ndim: 2\n",
      "shape: (100, 100)\n",
      "size: 10000\n"
     ]
    }
   ],
   "source": [
    "# Creates 2d array by reshaping 1d array\n",
    "# and prints it.\n",
    "\n",
    "x_shape, x_min, x_step =(100, 100), 1, 1\n",
    "x_max = x_min + (np.product(x_shape) - 1) * x_step\n",
    "x = np.arange(\n",
    "    start=x_min,\n",
    "    stop=x_max + x_step,\n",
    "    step=x_step\n",
    ").reshape(x_shape)\n",
    "\n",
    "print(f'{type(x)}:', x,\n",
    "      f'ndim: {x.ndim}',\n",
    "      f'shape: {x.shape}',\n",
    "      f'size: {x.size}',\n",
    "      sep='\\n')"
   ]
  },
  {
   "cell_type": "code",
   "execution_count": 4,
   "metadata": {},
   "outputs": [
    {
     "name": "stdout",
     "output_type": "stream",
     "text": [
      "[  1   2   3 ...  98  99 100]\n",
      "[  1   2   3   4   5   6   7   8   9  10  11  12  13  14  15  16  17  18\n",
      "  19  20  21  22  23  24  25  26  27  28  29  30  31  32  33  34  35  36\n",
      "  37  38  39  40  41  42  43  44  45  46  47  48  49  50  51  52  53  54\n",
      "  55  56  57  58  59  60  61  62  63  64  65  66  67  68  69  70  71  72\n",
      "  73  74  75  76  77  78  79  80  81  82  83  84  85  86  87  88  89  90\n",
      "  91  92  93  94  95  96  97  98  99 100]\n"
     ]
    }
   ],
   "source": [
    "# Creates 1d array and prints it\n",
    "# while changing threshold from print options.\n",
    "\n",
    "x_shape, x_min, x_step =(100, ), 1, 1\n",
    "x_max = x_min + (np.product(x_shape) - 1) * x_step\n",
    "x = np.arange(\n",
    "    start=x_min,\n",
    "    stop=x_max + x_step,\n",
    "    step=x_step\n",
    ")\n",
    "\n",
    "np.set_printoptions(threshold=x.size - 1)\n",
    "print(x)\n",
    "\n",
    "np.set_printoptions(threshold=x.size)\n",
    "print(x)"
   ]
  }
 ],
 "metadata": {
  "kernelspec": {
   "display_name": "Python 3",
   "language": "python",
   "name": "python3"
  },
  "language_info": {
   "codemirror_mode": {
    "name": "ipython",
    "version": 3
   },
   "file_extension": ".py",
   "mimetype": "text/x-python",
   "name": "python",
   "nbconvert_exporter": "python",
   "pygments_lexer": "ipython3",
   "version": "3.8.6"
  }
 },
 "nbformat": 4,
 "nbformat_minor": 2
}
