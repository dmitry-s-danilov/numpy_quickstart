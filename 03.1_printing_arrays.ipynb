{
 "cells": [
  {
   "cell_type": "markdown",
   "metadata": {},
   "source": [
    "# Printing Arrays\n",
    "\n",
    "## Layout\n",
    "\n",
    "When you print an array,\n",
    "NumPy displays it in a similar way to nested lists,\n",
    "but with the following layout:\n",
    "* the last axis is printed from left to right,\n",
    "* the second-to-last is printed from top to bottom,\n",
    "* the rest are also printed from top to bottom,\n",
    "  with each slice separated from the next by an empty line.\n",
    "\n",
    "## Links\n",
    "\n",
    "[NumPy v1.17 Manual](https://numpy.org/doc/1.17/index.html) >>  \n",
    "[NumPy User Guide](https://numpy.org/doc/1.17/user/index.html) >>  \n",
    "[Quickstart tutorial](https://numpy.org/doc/1.17/user/quickstart.html#) >>  \n",
    "[The Basics](https://numpy.org/doc/1.17/user/quickstart.html#the-basics) >>  \n",
    "[Printing Arrays](https://numpy.org/doc/1.17/user/quickstart.html#printing-arrays)\n"
   ]
  },
  {
   "cell_type": "code",
   "execution_count": 1,
   "metadata": {},
   "outputs": [],
   "source": [
    "import numpy as np\n"
   ]
  },
  {
   "cell_type": "code",
   "execution_count": 2,
   "metadata": {},
   "outputs": [
    {
     "name": "stdout",
     "output_type": "stream",
     "text": [
      "<class 'numpy.ndarray'>:\n",
      "[ 1  2  3  4  5  6  7  8  9 10 11 12]\n",
      "ndim: 1\n",
      "shape: (12,)\n",
      "size: 12\n"
     ]
    }
   ],
   "source": [
    "# Creates 1D array.\n",
    "n = 12\n",
    "x_min, x_step = 1, 1\n",
    "x = np.arange(start=x_min, stop=x_min + n, step=x_step)\n",
    "\n",
    "print(f'{type(x)}:', x,\n",
    "      f'ndim: {x.ndim}',\n",
    "      f'shape: {x.shape}',\n",
    "      f'size: {x.size}',\n",
    "      sep='\\n')\n"
   ]
  },
  {
   "cell_type": "code",
   "execution_count": 3,
   "metadata": {},
   "outputs": [
    {
     "name": "stdout",
     "output_type": "stream",
     "text": [
      "<class 'numpy.ndarray'>:\n",
      "[[ 1  2  3  4]\n",
      " [ 5  6  7  8]\n",
      " [ 9 10 11 12]]\n",
      "ndim: 2\n",
      "shape: (3, 4)\n",
      "size: 12\n"
     ]
    }
   ],
   "source": [
    "# Creates 2D ndarray by reshaping 1D ndarray.\n",
    "n, m = 3, 4\n",
    "x_min, x_step = 1, 1\n",
    "x = np.arange(start=x_min,\n",
    "              stop=x_min + n * m,\n",
    "              step=x_step).reshape(n, m)\n",
    "\n",
    "print(f'{type(x)}:', x,\n",
    "      f'ndim: {x.ndim}',\n",
    "      f'shape: {x.shape}',\n",
    "      f'size: {x.size}',\n",
    "      sep='\\n')\n"
   ]
  },
  {
   "cell_type": "code",
   "execution_count": 4,
   "metadata": {},
   "outputs": [
    {
     "name": "stdout",
     "output_type": "stream",
     "text": [
      "<class 'numpy.ndarray'>:\n",
      "[[[ 1  2  3]\n",
      "  [ 4  5  6]\n",
      "  [ 7  8  9]\n",
      "  [10 11 12]]\n",
      "\n",
      " [[13 14 15]\n",
      "  [16 17 18]\n",
      "  [19 20 21]\n",
      "  [22 23 24]]]\n",
      "ndim: 3\n",
      "shape: (2, 4, 3)\n",
      "size: 24\n",
      "\n"
     ]
    }
   ],
   "source": [
    "# Creates 3D ndarray by reshaping 1D ndarray.\n",
    "k, m, n = 2, 3, 4\n",
    "x_min, x_step = 1, 1\n",
    "x = np.arange(start=x_min,\n",
    "              stop=x_min + k * n * m,\n",
    "              step=x_step).reshape(k, n, m)\n",
    "\n",
    "print(f'{type(x)}:', x,\n",
    "      f'ndim: {x.ndim}',\n",
    "      f'shape: {x.shape}',\n",
    "      f'size: {x.size}', '',\n",
    "      sep='\\n')\n"
   ]
  }
 ],
 "metadata": {
  "kernelspec": {
   "display_name": "Python 3",
   "language": "python",
   "name": "python3"
  },
  "language_info": {
   "codemirror_mode": {
    "name": "ipython",
    "version": 3
   },
   "file_extension": ".py",
   "mimetype": "text/x-python",
   "name": "python",
   "nbconvert_exporter": "python",
   "pygments_lexer": "ipython3",
   "version": "3.7.3"
  }
 },
 "nbformat": 4,
 "nbformat_minor": 2
}
