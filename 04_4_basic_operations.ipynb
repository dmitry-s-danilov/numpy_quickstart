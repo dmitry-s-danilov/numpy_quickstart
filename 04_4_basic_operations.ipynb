{
 "cells": [
  {
   "cell_type": "markdown",
   "metadata": {},
   "source": [
    "# The basics\n",
    "\n",
    "## Basic operations\n",
    "\n",
    "### Upcasting\n",
    "\n",
    "When operating with arrays of different types,\n",
    "the type of the resulting array corresponds\n",
    "to the more general or precise one\n",
    "(a behavior known as upcasting)."
   ]
  },
  {
   "cell_type": "code",
   "execution_count": 1,
   "metadata": {},
   "outputs": [],
   "source": [
    "import numpy as np"
   ]
  },
  {
   "cell_type": "code",
   "execution_count": 2,
   "metadata": {},
   "outputs": [
    {
     "name": "stdout",
     "output_type": "stream",
     "text": [
      "int64:\n",
      "[1 1 1]:\n",
      "\n",
      "float64:\n",
      "[1. 1. 1.]\n",
      "\n",
      "complex128:\n",
      "[1.+0.j 1.+0.j 1.+0.j]\n"
     ]
    }
   ],
   "source": [
    "# Upcast the type of an array by operating.\n",
    "\n",
    "x = np.ones(3, dtype=int)\n",
    "y = x + 0.\n",
    "z = y + 0j\n",
    "\n",
    "print(f'{x.dtype.name}:\\n{x}:',\n",
    "      f'{y.dtype.name}:\\n{y}',\n",
    "      f'{z.dtype.name}:\\n{z}',\n",
    "      sep='\\n\\n')"
   ]
  },
  {
   "cell_type": "code",
   "execution_count": 3,
   "metadata": {},
   "outputs": [
    {
     "ename": "UFuncTypeError",
     "evalue": "Cannot cast ufunc 'add' output from dtype('complex128') to dtype('int64') with casting rule 'same_kind'",
     "output_type": "error",
     "traceback": [
      "\u001b[0;31m---------------------------------------------------------------------------\u001b[0m",
      "\u001b[0;31mUFuncTypeError\u001b[0m                            Traceback (most recent call last)",
      "\u001b[0;32m<ipython-input-3-1263bf2b48b6>\u001b[0m in \u001b[0;36m<module>\u001b[0;34m\u001b[0m\n\u001b[1;32m     17\u001b[0m \u001b[0;34m\u001b[0m\u001b[0m\n\u001b[1;32m     18\u001b[0m \u001b[0;31m# Casting from complex to int leads to an error.\u001b[0m\u001b[0;34m\u001b[0m\u001b[0;34m\u001b[0m\u001b[0;34m\u001b[0m\u001b[0m\n\u001b[0;32m---> 19\u001b[0;31m \u001b[0mx\u001b[0m \u001b[0;34m+=\u001b[0m \u001b[0mz\u001b[0m\u001b[0;34m\u001b[0m\u001b[0;34m\u001b[0m\u001b[0m\n\u001b[0m",
      "\u001b[0;31mUFuncTypeError\u001b[0m: Cannot cast ufunc 'add' output from dtype('complex128') to dtype('int64') with casting rule 'same_kind'"
     ]
    }
   ],
   "source": [
    "# Raise a type casting error.\n",
    "\n",
    "# Casting from int to complex performs correctly.\n",
    "z += x\n",
    "\n",
    "# Casting from float to complex performs correctly.\n",
    "z += y\n",
    "\n",
    "# Casting from int to float performs correctly.\n",
    "y += x\n",
    "\n",
    "# Casting from complex to float leads to an error.\n",
    "# y += z\n",
    "\n",
    "# Casting from float to int leads to an error.\n",
    "# x += y\n",
    "\n",
    "# Casting from complex to int leads to an error.\n",
    "x += z"
   ]
  }
 ],
 "metadata": {
  "kernelspec": {
   "display_name": "Python 3",
   "language": "python",
   "name": "python3"
  },
  "language_info": {
   "codemirror_mode": {
    "name": "ipython",
    "version": 3
   },
   "file_extension": ".py",
   "mimetype": "text/x-python",
   "name": "python",
   "nbconvert_exporter": "python",
   "pygments_lexer": "ipython3",
   "version": "3.8.6"
  }
 },
 "nbformat": 4,
 "nbformat_minor": 2
}
