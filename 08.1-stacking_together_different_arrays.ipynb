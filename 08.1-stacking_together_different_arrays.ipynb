{
 "cells": [
  {
   "cell_type": "markdown",
   "metadata": {},
   "source": [
    "# Stacking together different arrays\n",
    "\n",
    "## Stacking along axis\n",
    "* Several arrays can be stacked together along different axes,\n",
    "  using **numpy.vstack** and **numpy.hstack** functions.\n",
    "* In general, for arrays of with more than two dimensions,\n",
    "  **hstack** stacks along their second axes,\n",
    "  **vstack** stacks along their first axes.\n",
    "\n",
    "## Links\n",
    "[NumPy v1.17 Manual](https://numpy.org/doc/1.17/index.html) >>  \n",
    "[NumPy User Guide](https://numpy.org/doc/1.17/user/index.html) >>  \n",
    "[Quickstart tutorial](https://numpy.org/doc/1.17/user/quickstart.html#) >>  \n",
    "[Shape Manipulation](https://numpy.org/doc/1.17/user/quickstart.html#shape-manipulation) >>  \n",
    "[Stacking together different arrays](https://numpy.org/doc/1.17/user/quickstart.html#stacking-together-different-arrays)"
   ]
  },
  {
   "cell_type": "code",
   "execution_count": 1,
   "metadata": {},
   "outputs": [],
   "source": [
    "import numpy as np\n",
    "from numpy import newaxis\n"
   ]
  },
  {
   "cell_type": "markdown",
   "metadata": {},
   "source": [
    "### 1D array stacking"
   ]
  },
  {
   "cell_type": "code",
   "execution_count": 2,
   "metadata": {},
   "outputs": [],
   "source": [
    "# Creates two 1D arrays of the same length,\n",
    "# containig random integers in the range from 0 to 9.\n",
    "n, s = 2, 3\n",
    "x, y = [np.array(np.floor(10 * np.random.random(s)),\n",
    "                 dtype=int)\n",
    "        for _ in range(n)]\n"
   ]
  },
  {
   "cell_type": "code",
   "execution_count": 3,
   "metadata": {},
   "outputs": [
    {
     "name": "stdout",
     "output_type": "stream",
     "text": [
      "1:\n",
      "[8 5 6]\n",
      "(3,)\n",
      "\n",
      "2:\n",
      "[0 0 3]\n",
      "(3,)\n",
      "\n",
      "vstack:\n",
      "[[8 5 6]\n",
      " [0 0 3]]\n",
      "(2, 3)\n",
      "\n",
      "check 1:\n",
      "[ True  True  True]\n",
      "\n",
      "check 2:\n",
      "[ True  True  True]\n"
     ]
    }
   ],
   "source": [
    "# Creates 2D array \n",
    "# and stacks 1D arrays along its first axis,\n",
    "# using verticle stack function.\n",
    "z = np.vstack((x, y))\n",
    "# Which works just like\n",
    "# z = np.vstack((x.reshape(1, -1), y.reshape(1, -1)))\n",
    "# or\n",
    "# z = np.vstack((x[newaxis,:], y[newaxis,:]))\n",
    "\n",
    "print('1:', x, x.shape, '',\n",
    "      '2:', y, y.shape, '',\n",
    "      'vstack:', z, z.shape, '',\n",
    "      'check 1:', x == z[0,:], '',\n",
    "      'check 2:', y == z[1,:],\n",
    "      sep='\\n')\n"
   ]
  },
  {
   "cell_type": "code",
   "execution_count": 4,
   "metadata": {},
   "outputs": [
    {
     "name": "stdout",
     "output_type": "stream",
     "text": [
      "1:\n",
      "[8 5 6]\n",
      "(3,)\n",
      "\n",
      "2:\n",
      "[0 0 3]\n",
      "(3,)\n",
      "\n",
      "hstack:\n",
      "[8 5 6 0 0 3]\n",
      "(6,)\n",
      "\n",
      "check 1:\n",
      "[ True  True  True]\n",
      "\n",
      "check 2:\n",
      "[ True  True  True]\n"
     ]
    }
   ],
   "source": [
    "# Stacks 1D arrays along single axis,\n",
    "# using horisontal stack function.\n",
    "z = np.hstack((x, y))\n",
    "# Which works just like\n",
    "#z = np.ravel(np.hstack((x.reshape(1, -1), y.reshape(1, -1))))\n",
    "# or\n",
    "#z = np.ravel(np.hstack((x[newaxis,:], y[newaxis,:])))\n",
    "\n",
    "print('1:', x, x.shape, '',\n",
    "      '2:', y, y.shape, '',\n",
    "      'hstack:', z, z.shape, '',\n",
    "      'check 1:', x == z[:x.size], '',\n",
    "      'check 2:', y == z[y.size:],\n",
    "      sep='\\n')\n"
   ]
  },
  {
   "cell_type": "markdown",
   "metadata": {},
   "source": [
    "### 2D array stacking"
   ]
  },
  {
   "cell_type": "code",
   "execution_count": 5,
   "metadata": {},
   "outputs": [],
   "source": [
    "# Creates two 2D arrays of the same shape,\n",
    "# containig random integers in the range from 0 to 9.\n",
    "n, s = 2, (3, 4)\n",
    "x, y = [np.array(np.floor(10 * np.random.random(s)),\n",
    "                 dtype=int)\n",
    "        for _ in range(n)]\n"
   ]
  },
  {
   "cell_type": "code",
   "execution_count": 6,
   "metadata": {},
   "outputs": [
    {
     "name": "stdout",
     "output_type": "stream",
     "text": [
      "1:\n",
      "[[0 2 2 3]\n",
      " [0 2 4 1]\n",
      " [5 7 9 7]]\n",
      "(3, 4)\n",
      "\n",
      "2:\n",
      "[[0 3 4 3]\n",
      " [1 6 5 6]\n",
      " [6 8 9 5]]\n",
      "(3, 4)\n",
      "\n",
      "vstack:\n",
      "[[0 2 2 3]\n",
      " [0 2 4 1]\n",
      " [5 7 9 7]\n",
      " [0 3 4 3]\n",
      " [1 6 5 6]\n",
      " [6 8 9 5]]\n",
      "(6, 4)\n",
      "\n",
      "check 1:\n",
      "[[ True  True  True  True]\n",
      " [ True  True  True  True]\n",
      " [ True  True  True  True]]\n",
      "\n",
      "check 2:\n",
      "[[ True  True  True  True]\n",
      " [ True  True  True  True]\n",
      " [ True  True  True  True]]\n"
     ]
    }
   ],
   "source": [
    "# Stacks 2D arrays along first axis,\n",
    "# using vertical stack function.\n",
    "z = np.vstack((x, y))\n",
    "\n",
    "print('1:', x, x.shape, '',\n",
    "      '2:', y, y.shape, '',\n",
    "      'vstack:', z, z.shape, '',\n",
    "      'check 1:', x == z[:x.shape[0],:], '',\n",
    "      'check 2:', y == z[y.shape[0]:,:],\n",
    "      sep='\\n')\n"
   ]
  },
  {
   "cell_type": "code",
   "execution_count": 7,
   "metadata": {},
   "outputs": [
    {
     "name": "stdout",
     "output_type": "stream",
     "text": [
      "1:\n",
      "[[0 2 2 3]\n",
      " [0 2 4 1]\n",
      " [5 7 9 7]]\n",
      "(3, 4)\n",
      "\n",
      "2:\n",
      "[[0 3 4 3]\n",
      " [1 6 5 6]\n",
      " [6 8 9 5]]\n",
      "(3, 4)\n",
      "\n",
      "hstack:\n",
      "[[0 2 2 3 0 3 4 3]\n",
      " [0 2 4 1 1 6 5 6]\n",
      " [5 7 9 7 6 8 9 5]]\n",
      "(3, 8)\n",
      "\n",
      "check 1:\n",
      "[[ True  True  True  True]\n",
      " [ True  True  True  True]\n",
      " [ True  True  True  True]]\n",
      "\n",
      "check 2:\n",
      "[[ True  True  True  True]\n",
      " [ True  True  True  True]\n",
      " [ True  True  True  True]]\n"
     ]
    }
   ],
   "source": [
    "# Stacks 2D arrays along second axis,\n",
    "# using horisontal stack function.\n",
    "z = np.hstack((x, y))\n",
    "\n",
    "print('1:', x, x.shape, '',\n",
    "      '2:', y, y.shape, '',\n",
    "      'hstack:', z, z.shape, '',\n",
    "      'check 1:', x == z[:,:x.shape[1]], '',\n",
    "      'check 2:', y == z[:,y.shape[1]:],\n",
    "      sep='\\n')\n"
   ]
  },
  {
   "cell_type": "markdown",
   "metadata": {},
   "source": [
    "### 3D array stacking"
   ]
  },
  {
   "cell_type": "code",
   "execution_count": 8,
   "metadata": {},
   "outputs": [],
   "source": [
    "# Creates two 3D arrays of the same shape,\n",
    "# containig random integers in the range from 0 to 9.\n",
    "n, s = 2, (2, 3, 4)\n",
    "x, y = [np.array(np.floor(10 * np.random.random(s)),\n",
    "                 dtype=int)\n",
    "        for _ in range(n)]\n"
   ]
  },
  {
   "cell_type": "code",
   "execution_count": 9,
   "metadata": {},
   "outputs": [
    {
     "name": "stdout",
     "output_type": "stream",
     "text": [
      "1:\n",
      "[[[9 1 8 4]\n",
      "  [6 2 7 5]\n",
      "  [0 3 1 9]]\n",
      "\n",
      " [[3 3 3 5]\n",
      "  [4 8 9 7]\n",
      "  [2 8 1 3]]]\n",
      "(2, 3, 4)\n",
      "\n",
      "2:\n",
      "[[[2 0 8 3]\n",
      "  [3 9 5 3]\n",
      "  [9 5 9 5]]\n",
      "\n",
      " [[0 6 2 8]\n",
      "  [3 7 6 3]\n",
      "  [3 7 8 1]]]\n",
      "(2, 3, 4)\n",
      "\n",
      "vstack:\n",
      "[[[9 1 8 4]\n",
      "  [6 2 7 5]\n",
      "  [0 3 1 9]]\n",
      "\n",
      " [[3 3 3 5]\n",
      "  [4 8 9 7]\n",
      "  [2 8 1 3]]\n",
      "\n",
      " [[2 0 8 3]\n",
      "  [3 9 5 3]\n",
      "  [9 5 9 5]]\n",
      "\n",
      " [[0 6 2 8]\n",
      "  [3 7 6 3]\n",
      "  [3 7 8 1]]]\n",
      "(4, 3, 4)\n",
      "\n",
      "check 1\n",
      "[[[ True  True  True  True]\n",
      "  [ True  True  True  True]\n",
      "  [ True  True  True  True]]\n",
      "\n",
      " [[ True  True  True  True]\n",
      "  [ True  True  True  True]\n",
      "  [ True  True  True  True]]]\n",
      "\n",
      "check 2\n",
      "[[[ True  True  True  True]\n",
      "  [ True  True  True  True]\n",
      "  [ True  True  True  True]]\n",
      "\n",
      " [[ True  True  True  True]\n",
      "  [ True  True  True  True]\n",
      "  [ True  True  True  True]]]\n"
     ]
    }
   ],
   "source": [
    "# Stacks 3D arrays along first axis,\n",
    "# using vertical stack function.\n",
    "z = np.vstack((x, y))\n",
    "\n",
    "print('1:', x, x.shape, '',\n",
    "      '2:', y, y.shape, '',\n",
    "      'vstack:', z, z.shape, '',\n",
    "      'check 1', x == z[:x.shape[0],...], '',\n",
    "      'check 2', y == z[y.shape[0]:,...],\n",
    "      sep='\\n')\n"
   ]
  },
  {
   "cell_type": "code",
   "execution_count": 10,
   "metadata": {},
   "outputs": [
    {
     "name": "stdout",
     "output_type": "stream",
     "text": [
      "1:\n",
      "[[[9 1 8 4]\n",
      "  [6 2 7 5]\n",
      "  [0 3 1 9]]\n",
      "\n",
      " [[3 3 3 5]\n",
      "  [4 8 9 7]\n",
      "  [2 8 1 3]]]\n",
      "(2, 3, 4)\n",
      "\n",
      "2:\n",
      "[[[2 0 8 3]\n",
      "  [3 9 5 3]\n",
      "  [9 5 9 5]]\n",
      "\n",
      " [[0 6 2 8]\n",
      "  [3 7 6 3]\n",
      "  [3 7 8 1]]]\n",
      "(2, 3, 4)\n",
      "\n",
      "hstack:\n",
      "[[[9 1 8 4]\n",
      "  [6 2 7 5]\n",
      "  [0 3 1 9]\n",
      "  [2 0 8 3]\n",
      "  [3 9 5 3]\n",
      "  [9 5 9 5]]\n",
      "\n",
      " [[3 3 3 5]\n",
      "  [4 8 9 7]\n",
      "  [2 8 1 3]\n",
      "  [0 6 2 8]\n",
      "  [3 7 6 3]\n",
      "  [3 7 8 1]]]\n",
      "(2, 6, 4)\n",
      "\n",
      "check 1:\n",
      "[[[ True  True  True  True]\n",
      "  [ True  True  True  True]\n",
      "  [ True  True  True  True]]\n",
      "\n",
      " [[ True  True  True  True]\n",
      "  [ True  True  True  True]\n",
      "  [ True  True  True  True]]]\n",
      "\n",
      "check 2:\n",
      "[[[ True  True  True  True]\n",
      "  [ True  True  True  True]\n",
      "  [ True  True  True  True]]\n",
      "\n",
      " [[ True  True  True  True]\n",
      "  [ True  True  True  True]\n",
      "  [ True  True  True  True]]]\n"
     ]
    }
   ],
   "source": [
    "# Stacks 3D arrays along second axis,\n",
    "# using horisontal stack function.\n",
    "z = np.hstack((x, y))\n",
    "\n",
    "print('1:', x, x.shape, '',\n",
    "      '2:', y, y.shape, '',\n",
    "      'hstack:', z, z.shape, '',\n",
    "      'check 1:', x == z[:,:x.shape[1],:], '',\n",
    "      'check 2:', y == z[:,y.shape[1]:,:],\n",
    "      sep='\\n')\n"
   ]
  }
 ],
 "metadata": {
  "kernelspec": {
   "display_name": "Python 3",
   "language": "python",
   "name": "python3"
  },
  "language_info": {
   "codemirror_mode": {
    "name": "ipython",
    "version": 3
   },
   "file_extension": ".py",
   "mimetype": "text/x-python",
   "name": "python",
   "nbconvert_exporter": "python",
   "pygments_lexer": "ipython3",
   "version": "3.7.3"
  }
 },
 "nbformat": 4,
 "nbformat_minor": 2
}
