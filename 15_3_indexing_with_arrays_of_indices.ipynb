{
 "cells": [
  {
   "cell_type": "markdown",
   "metadata": {},
   "source": [
    "# [Indexing with Arrays of Indices][indexing]\n",
    "\n",
    "* Arrays can be indexed by arrays of integers.\n",
    "* When the indexed array a is multidimensional,\n",
    "  a single array of indices refers to its first dimension.\n",
    "* You can also give indexes for more than one dimension.\n",
    "  In this case, the arrays of indices for each dimension\n",
    "  must have the same shape.\n",
    "\n",
    "## Links\n",
    "[NumPy Manual][manual] >>  \n",
    "[NumPy User Guide][user_guide] >>  \n",
    "[Quickstart tutorial][tutorial] >>  \n",
    "[Fancy indexing and index tricks][index_tricks] >>  \n",
    "[Indexing with Arrays of Indices][indexing]\n",
    "\n",
    "[comment]: #(tags)\n",
    "[manual]: https://numpy.org/devdocs/\n",
    "[user_guide]: https://numpy.org/devdocs/user/index.html\n",
    "[tutorial]: https://numpy.org/devdocs/user/quickstart.html#\n",
    "[index_tricks]: https://numpy.org/devdocs/user/quickstart.html#fancy-indexing-and-index-tricks\n",
    "[indexing]: https://numpy.org/devdocs/user/quickstart.html#indexing-with-arrays-of-indices"
   ]
  },
  {
   "cell_type": "code",
   "execution_count": 1,
   "metadata": {},
   "outputs": [],
   "source": [
    "import numpy as np\n"
   ]
  },
  {
   "cell_type": "code",
   "execution_count": 2,
   "metadata": {},
   "outputs": [
    {
     "name": "stdout",
     "output_type": "stream",
     "text": [
      "palette:\n",
      "[[  0   0   0]\n",
      " [255   0   0]\n",
      " [  0 255   0]\n",
      " [  0   0 255]\n",
      " [255 255 255]]\n",
      "(5, 3)\n",
      "\n",
      "image:\n",
      "[[0 0 0 0]\n",
      " [0 1 2 0]\n",
      " [0 3 4 0]\n",
      " [0 0 0 0]]\n",
      "(4, 4)\n",
      "\n",
      "palette[image]:\n",
      "[[[  0   0   0]\n",
      "  [  0   0   0]\n",
      "  [  0   0   0]\n",
      "  [  0   0   0]]\n",
      "\n",
      " [[  0   0   0]\n",
      "  [255   0   0]\n",
      "  [  0 255   0]\n",
      "  [  0   0   0]]\n",
      "\n",
      " [[  0   0   0]\n",
      "  [  0   0 255]\n",
      "  [255 255 255]\n",
      "  [  0   0   0]]\n",
      "\n",
      " [[  0   0   0]\n",
      "  [  0   0   0]\n",
      "  [  0   0   0]\n",
      "  [  0   0   0]]]\n",
      "(4, 4, 3)\n"
     ]
    }
   ],
   "source": [
    "palette = np.array([[0,0,0],         # black\n",
    "                    [255,0,0],       # red\n",
    "                    [0,255,0],       # green\n",
    "                    [0,0,255],       # blue\n",
    "                    [255,255,255]])  # white\n",
    "\n",
    "image = np.array([[0, 0, 0, 0],\n",
    "                  [0, 1, 2, 0],\n",
    "                  [0, 3, 4, 0],\n",
    "                  [0, 0, 0, 0]])\n",
    "\n",
    "plot = palette[image]\n",
    "\n",
    "print('palette:', palette, palette.shape, '',\n",
    "      'image:', image, image.shape, '',\n",
    "      'palette[image]:', plot, plot.shape,\n",
    "      sep='\\n')\n"
   ]
  }
 ],
 "metadata": {
  "kernelspec": {
   "display_name": "Python 3",
   "language": "python",
   "name": "python3"
  },
  "language_info": {
   "codemirror_mode": {
    "name": "ipython",
    "version": 3
   },
   "file_extension": ".py",
   "mimetype": "text/x-python",
   "name": "python",
   "nbconvert_exporter": "python",
   "pygments_lexer": "ipython3",
   "version": "3.7.3"
  }
 },
 "nbformat": 4,
 "nbformat_minor": 2
}
