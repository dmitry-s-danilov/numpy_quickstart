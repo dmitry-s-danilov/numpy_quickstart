{
 "cells": [
  {
   "cell_type": "markdown",
   "metadata": {},
   "source": [
    "# Indexing, Slicing and Iterating\n",
    "\n",
    "## Multidimensional arrays\n",
    "\n",
    "* Multidimensional arrays can have one index per axis.\n",
    "  These indices are given in a tuple separated by commas.\n",
    "* When fewer indices are provided than the number of axes,\n",
    "  the missing indices are considered complete slices.\n",
    "  In this case, the expression within brackets is treated \n",
    "  as an index followed by as many instances of colon **:**\n",
    "  as needed to represent the remaining axes.\n",
    "* NumPy also allows you to write this using dots **...**.\n",
    "  The dots **...** represent as many colons **:** as needed\n",
    "  to produce a complete indexing tuple.\n",
    "\n",
    "## Links\n",
    "\n",
    "[NumPy v1.17 Manual](https://numpy.org/doc/1.17/index.html) >>  \n",
    "[NumPy User Guide](https://numpy.org/doc/1.17/user/index.html) >>  \n",
    "[Quickstart tutorial](https://numpy.org/doc/1.17/user/quickstart.html#) >>  \n",
    "[The Basics](https://numpy.org/doc/1.17/user/quickstart.html#the-basics) >>  \n",
    "[Indexing, Slicing and Iterating](https://numpy.org/doc/1.17/user/quickstart.html#indexing-slicing-and-iterating)\n"
   ]
  },
  {
   "cell_type": "code",
   "execution_count": 2,
   "metadata": {},
   "outputs": [],
   "source": [
    "import numpy as np\n"
   ]
  },
  {
   "cell_type": "code",
   "execution_count": 3,
   "metadata": {},
   "outputs": [],
   "source": [
    "# 2D array generation functions.\n",
    "\n",
    "def f_1(i, j):\n",
    "    \"\"\"Return an integer item of 2D array depending on its indices.\"\"\"\n",
    "    n = 10\n",
    "    return i * n + j\n",
    "\n",
    "\n",
    "def f_2(m, n):\n",
    "    \"\"\"Return 2D array of an integers items depending on its shape.\"\"\"\n",
    "    return np.fromfunction(function=f_1, shape=(m, n), dtype=int)\n",
    "\n"
   ]
  },
  {
   "cell_type": "code",
   "execution_count": 7,
   "metadata": {},
   "outputs": [
    {
     "name": "stdout",
     "output_type": "stream",
     "text": [
      "2D array:\n",
      "x =\n",
      "[[ 0  1  2  3]\n",
      " [10 11 12 13]\n",
      " [20 21 22 23]]\n",
      "\n",
      "a couple of random indexes:\n",
      "i = (2, 1)\n",
      "\n",
      "value by a couple of indexes:\n",
      "x[2,1] = 21\n",
      "x[(2,1)] = 21\n",
      "\n",
      "row by an index:\n",
      "x[2,:] = [20 21 22 23]\n",
      "x[2,0:4] = [20 21 22 23]\n",
      "x[2,...] = [20 21 22 23]\n",
      "x[2] = [20 21 22 23]\n",
      "\n",
      "column by an index:\n",
      "x[:,1] = [ 1 11 21]\n",
      "x[0:3,1] = [ 1 11 21]\n",
      "x[...,1] = [ 1 11 21]\n"
     ]
    }
   ],
   "source": [
    "# 2D random indexing.\n",
    "\n",
    "x = f_2(3, 4)    \n",
    "\n",
    "i = [np.random.randint(low=0, high=x.shape[k])\n",
    "     for k in range(x.ndim)]\n",
    "i = tuple(i)\n",
    "\n",
    "print('2D array:',\n",
    "      f'x =', x, '',\n",
    "      \n",
    "      'a couple of random indexes:',\n",
    "      f'i = {i}', '',\n",
    "      \n",
    "      'value by a couple of indexes:',\n",
    "      f'x[{i[0]},{i[1]}] = {x[i[0],i[1]]}',\n",
    "      f'x[({i[0]},{i[1]})] = {x[i]}', '',\n",
    "      \n",
    "      'row by an index:',\n",
    "      f'x[{i[0]},:] = {x[i[0],:]}',\n",
    "      f'x[{i[0]},0:{x.shape[1]}] = {x[i[0],0:x.shape[1]]}',\n",
    "      f'x[{i[0]},...] = {x[i[0],...]}',\n",
    "      f'x[{i[0]}] = {x[i[0]]}','',\n",
    "      \n",
    "      'column by an index:',\n",
    "      f'x[:,{i[1]}] = {x[:,i[1]]}',\n",
    "      f'x[0:{x.shape[0]},{i[1]}] = {x[0:x.shape[0],i[1]]}',\n",
    "      f'x[...,{i[1]}] = {x[...,i[1]]}',\n",
    "      \n",
    "      sep='\\n')\n"
   ]
  },
  {
   "cell_type": "code",
   "execution_count": 8,
   "metadata": {},
   "outputs": [
    {
     "name": "stdout",
     "output_type": "stream",
     "text": [
      "2D array:\n",
      "x =\n",
      "[[ 0  1  2  3  4  5  6  7  8  9]\n",
      " [10 11 12 13 14 15 16 17 18 19]\n",
      " [20 21 22 23 24 25 26 27 28 29]\n",
      " [30 31 32 33 34 35 36 37 38 39]\n",
      " [40 41 42 43 44 45 46 47 48 49]\n",
      " [50 51 52 53 54 55 56 57 58 59]\n",
      " [60 61 62 63 64 65 66 67 68 69]\n",
      " [70 71 72 73 74 75 76 77 78 79]\n",
      " [80 81 82 83 84 85 86 87 88 89]\n",
      " [90 91 92 93 94 95 96 97 98 99]]\n",
      "\n",
      "a pair of couples of random indexes:\n",
      "i =\n",
      "[[2 9]\n",
      " [3 6]]\n",
      "\n",
      "2D slice:\n",
      "x[2:9,3:6] =\n",
      "[[23 24 25]\n",
      " [33 34 35]\n",
      " [43 44 45]\n",
      " [53 54 55]\n",
      " [63 64 65]\n",
      " [73 74 75]\n",
      " [83 84 85]]\n"
     ]
    }
   ],
   "source": [
    "# 2D random slice.\n",
    "\n",
    "x = f_2(10, 10)\n",
    "\n",
    "i = [[np.random.randint(low=0, high=x.shape[k] // 2)\n",
    "      for k in range(x.ndim)],\n",
    "     [np.random.randint(low=x.shape[k] // 2 + 1, high=x.shape[k])\n",
    "      for k in range(x.ndim)]]\n",
    "i = np.array(i)\n",
    "i = i.transpose()\n",
    "\n",
    "print('2D array:',\n",
    "      f'x =', x, '',\n",
    "      \n",
    "      'a pair of couples of random indexes:',\n",
    "      f'i =', i, '',\n",
    "      \n",
    "      '2D slice:',\n",
    "      f'x[{i[0, 0]}:{i[0, 1]},{i[1, 0]}:{i[1, 1]}] =',\n",
    "      x[i[0, 0]:i[0, 1], i[1, 0]:i[1, 1]],\n",
    "      \n",
    "      sep='\\n')\n"
   ]
  },
  {
   "cell_type": "code",
   "execution_count": null,
   "metadata": {},
   "outputs": [],
   "source": []
  }
 ],
 "metadata": {
  "kernelspec": {
   "display_name": "Python 3",
   "language": "python",
   "name": "python3"
  },
  "language_info": {
   "codemirror_mode": {
    "name": "ipython",
    "version": 3
   },
   "file_extension": ".py",
   "mimetype": "text/x-python",
   "name": "python",
   "nbconvert_exporter": "python",
   "pygments_lexer": "ipython3",
   "version": "3.7.3"
  }
 },
 "nbformat": 4,
 "nbformat_minor": 2
}
