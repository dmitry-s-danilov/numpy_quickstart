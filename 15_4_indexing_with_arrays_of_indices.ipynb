{
 "cells": [
  {
   "cell_type": "markdown",
   "metadata": {},
   "source": [
    "# Indexing with Arrays of Indices\n",
    "\n",
    "* Arrays can be indexed by arrays of integers.\n",
    "* When the indexed array a is multidimensional,\n",
    "  a single array of indices refers to its first dimension.\n",
    "* You can also give indexes for more than one dimension.  \n",
    "  In this case, the arrays of indices for each dimension\n",
    "  must have the same shape.\n",
    "* Naturally, you can put row and column arrays\n",
    "  in a sequence (say a tuple)\n",
    "  and then do the indexing with the sequence.  \n",
    "  However, you can not do this by putting\n",
    "  row and column arrays into an array,\n",
    "  because this array will be interpreted\n",
    "  as indexing the first dimension."
   ]
  },
  {
   "cell_type": "code",
   "execution_count": 1,
   "metadata": {},
   "outputs": [],
   "source": [
    "import numpy as np"
   ]
  },
  {
   "cell_type": "code",
   "execution_count": 2,
   "metadata": {},
   "outputs": [
    {
     "name": "stdout",
     "output_type": "stream",
     "text": [
      "x:\n",
      "[[ 1  2  3  4  5  6]\n",
      " [ 7  8  9 10 11 12]\n",
      " [13 14 15 16 17 18]\n",
      " [19 20 21 22 23 24]\n",
      " [25 26 27 28 29 30]]\n",
      "(5, 6)\n"
     ]
    }
   ],
   "source": [
    "# Creates 2D array.\n",
    "x_shape = 5, 6\n",
    "x_min, x_step = 1, 1\n",
    "x_max = x_shape[0] * x_shape[1]\n",
    "x = np.arange(start=x_min, stop=x_max + x_step,\n",
    "              step=x_step)\n",
    "x.shape = x_shape\n",
    "\n",
    "print('x:', x, x.shape, sep='\\n')"
   ]
  },
  {
   "cell_type": "markdown",
   "metadata": {},
   "source": [
    "### Indexing by 1D array"
   ]
  },
  {
   "cell_type": "code",
   "execution_count": 3,
   "metadata": {},
   "outputs": [
    {
     "name": "stdout",
     "output_type": "stream",
     "text": [
      "x:\n",
      "[[ 1  2  3  4  5  6]\n",
      " [ 7  8  9 10 11 12]\n",
      " [13 14 15 16 17 18]\n",
      " [19 20 21 22 23 24]\n",
      " [25 26 27 28 29 30]]\n",
      "(5, 6)\n",
      "\n",
      "i:\n",
      "[4 1 0]\n",
      "(3,)\n",
      "\n",
      "x[i]:\n",
      "[[25 26 27 28 29 30]\n",
      " [ 7  8  9 10 11 12]\n",
      " [ 1  2  3  4  5  6]]\n",
      "(3, 6)\n",
      "\n",
      "x[i,:]:\n",
      "[[25 26 27 28 29 30]\n",
      " [ 7  8  9 10 11 12]\n",
      " [ 1  2  3  4  5  6]]\n",
      "(3, 6)\n",
      "\n",
      "check:\n",
      "True\n"
     ]
    }
   ],
   "source": [
    "# Creates 1D array of row indeces.\n",
    "i_shape = 3,\n",
    "i_low, i_high = 0, x.shape[0]\n",
    "i = np.random.randint(low=i_low, high=i_high,\n",
    "                      size=i_shape)\n",
    "# Creates 2D array by indexing,\n",
    "# which is actually an array of rows.\n",
    "y = x[i]\n",
    "# It works just like the follows.\n",
    "z = x[i,:]\n",
    "\n",
    "print('x:', x, x.shape, '',\n",
    "      'i:', i, i.shape, '',\n",
    "      'x[i]:', y, y.shape, '',\n",
    "      'x[i,:]:', z, z.shape, '',\n",
    "      'check:', np.all(y == z),      \n",
    "      sep='\\n')"
   ]
  },
  {
   "cell_type": "code",
   "execution_count": 4,
   "metadata": {},
   "outputs": [
    {
     "name": "stdout",
     "output_type": "stream",
     "text": [
      "x:\n",
      "[[ 1  2  3  4  5  6]\n",
      " [ 7  8  9 10 11 12]\n",
      " [13 14 15 16 17 18]\n",
      " [19 20 21 22 23 24]\n",
      " [25 26 27 28 29 30]]\n",
      "(5, 6)\n",
      "\n",
      "j:\n",
      "[4 1 3]\n",
      "(3,)\n",
      "\n",
      "x[:,j]:\n",
      "[[ 5  2  4]\n",
      " [11  8 10]\n",
      " [17 14 16]\n",
      " [23 20 22]\n",
      " [29 26 28]]\n",
      "(5, 3)\n",
      "\n"
     ]
    }
   ],
   "source": [
    "# Creates 1D array of column indeces.\n",
    "j_shape = 3,\n",
    "j_low, i_high = 0, x.shape[0]\n",
    "j = np.random.randint(low=i_low, high=i_high,\n",
    "                      size=i_shape)\n",
    "# Creates 2D array by indexing,\n",
    "# which is actually\n",
    "# a transposed array of columns.\n",
    "y = x[:,j]\n",
    "\n",
    "print('x:', x, x.shape, '',\n",
    "      'j:', j, j.shape, '',\n",
    "      'x[:,j]:', y, y.shape, '',\n",
    "      sep='\\n')"
   ]
  },
  {
   "cell_type": "markdown",
   "metadata": {},
   "source": [
    "### Indexing by 1D array and scalar"
   ]
  },
  {
   "cell_type": "code",
   "execution_count": 5,
   "metadata": {},
   "outputs": [
    {
     "name": "stdout",
     "output_type": "stream",
     "text": [
      "x:\n",
      "[[ 1  2  3  4  5  6]\n",
      " [ 7  8  9 10 11 12]\n",
      " [13 14 15 16 17 18]\n",
      " [19 20 21 22 23 24]\n",
      " [25 26 27 28 29 30]]\n",
      "(5, 6)\n",
      "\n",
      "i:\n",
      "[4 3 3]\n",
      "(3,)\n",
      "\n",
      "j: 5\n",
      "\n",
      "x[i, j]:\n",
      "[30 24 24]\n",
      "(3,)\n",
      "\n"
     ]
    }
   ],
   "source": [
    "# Creates 1D array of row indeces.\n",
    "i_shape = 3,\n",
    "i_low, i_high = 0, x.shape[0]\n",
    "i = np.random.randint(low=i_low, high=i_high,\n",
    "                      size=i_shape)\n",
    "# Sets column index,\n",
    "# that is fixes it.\n",
    "j_low, j_high = 0, x.shape[1]\n",
    "j = np.random.randint(low=j_low, high=j_high)\n",
    "# Creates 1D array by indexing,\n",
    "# which contains values from one column.\n",
    "y = x[i, j]\n",
    "\n",
    "print('x:', x, x.shape, '',\n",
    "      'i:', i, i.shape, '',\n",
    "      f'j: {j}', '',\n",
    "      'x[i, j]:', y, y.shape, '',\n",
    "      sep='\\n')"
   ]
  },
  {
   "cell_type": "code",
   "execution_count": 6,
   "metadata": {},
   "outputs": [
    {
     "name": "stdout",
     "output_type": "stream",
     "text": [
      "x:\n",
      "[[ 1  2  3  4  5  6]\n",
      " [ 7  8  9 10 11 12]\n",
      " [13 14 15 16 17 18]\n",
      " [19 20 21 22 23 24]\n",
      " [25 26 27 28 29 30]]\n",
      "(5, 6)\n",
      "\n",
      "i: 4\n",
      "\n",
      "j:\n",
      "[5 4 3]\n",
      "(3,)\n",
      "\n",
      "x[i, j]:\n",
      "[30 29 28]\n",
      "(3,)\n",
      "\n"
     ]
    }
   ],
   "source": [
    "# Sets row index,\n",
    "# that is fixes it.\n",
    "i_low, i_high = 0, x.shape[0]\n",
    "i = np.random.randint(low=j_low, high=j_high)\n",
    "# Creates 1D array of column indeces.\n",
    "j_shape = 3,\n",
    "j_low, j_high = 0, x.shape[1]\n",
    "j = np.random.randint(low=j_low, high=j_high,\n",
    "                      size=j_shape)\n",
    "# Creates 1D array by indexing,\n",
    "# which contains values from one row.\n",
    "y = x[i, j]\n",
    "\n",
    "print('x:', x, x.shape, '',\n",
    "      f'i: {i}', '',\n",
    "      'j:', j, j.shape, '',\n",
    "      'x[i, j]:', y, y.shape, '',\n",
    "      sep='\\n')"
   ]
  },
  {
   "cell_type": "markdown",
   "metadata": {},
   "source": [
    "### Indexing by two 1D arrays"
   ]
  },
  {
   "cell_type": "code",
   "execution_count": 7,
   "metadata": {},
   "outputs": [
    {
     "name": "stdout",
     "output_type": "stream",
     "text": [
      "x:\n",
      "[[ 1  2  3  4  5  6]\n",
      " [ 7  8  9 10 11 12]\n",
      " [13 14 15 16 17 18]\n",
      " [19 20 21 22 23 24]\n",
      " [25 26 27 28 29 30]]\n",
      "(5, 6)\n",
      "\n",
      "i:\n",
      "[4 2 0]\n",
      "(3,)\n",
      "\n",
      "j:\n",
      "[2 1 2]\n",
      "(3,)\n",
      "\n",
      "x[i, j]:\n",
      "[27 14  3]\n",
      "(3,)\n",
      "\n",
      "i:\n",
      "(array([4, 2, 0]), array([2, 1, 2]))\n",
      "\n",
      "x[i]:\n",
      "[27 14  3]\n",
      "(3,)\n",
      "\n",
      "check:\n",
      "True\n"
     ]
    }
   ],
   "source": [
    "# Sets the shape of indeces arrays.\n",
    "_shape = 3,\n",
    "# Creates 1D array of row indeces.\n",
    "i_low, i_high = 0, x.shape[0]\n",
    "i_shape = _shape\n",
    "i = np.random.randint(low=i_low, high=i_high,\n",
    "                      size=i_shape)\n",
    "# Creates 1D array of column indeces.\n",
    "j_low, j_high = 0, x.shape[1]\n",
    "j_shape = _shape\n",
    "j = np.random.randint(low=j_low, high=j_high,\n",
    "                      size=j_shape)\n",
    "# Creates 1D array by indexing.\n",
    "y = x[i, j]\n",
    "# Which works just like the following.\n",
    "n = i, j\n",
    "# not\n",
    "# n = np.array((i, j))\n",
    "z = x[n]\n",
    "\n",
    "\n",
    "print('x:', x, x.shape, '',\n",
    "      'i:', i, i.shape, '',\n",
    "      'j:', j, j.shape, '',\n",
    "      'x[i, j]:', y, y.shape, '',\n",
    "      'i:', n, '',\n",
    "      'x[i]:', z, z.shape, '',\n",
    "      'check:', np.all(y == z),\n",
    "      sep='\\n')"
   ]
  },
  {
   "cell_type": "markdown",
   "metadata": {},
   "source": [
    "### Indexing  by 2D array and scalar"
   ]
  },
  {
   "cell_type": "code",
   "execution_count": 8,
   "metadata": {},
   "outputs": [
    {
     "name": "stdout",
     "output_type": "stream",
     "text": [
      "x:\n",
      "[[ 1  2  3  4  5  6]\n",
      " [ 7  8  9 10 11 12]\n",
      " [13 14 15 16 17 18]\n",
      " [19 20 21 22 23 24]\n",
      " [25 26 27 28 29 30]]\n",
      "(5, 6)\n",
      "\n",
      "i:\n",
      "[[0 3 3 0]\n",
      " [3 1 3 3]\n",
      " [4 4 4 2]]\n",
      "(3, 4)\n",
      "\n",
      "j: 1\n",
      "\n",
      "x[i, j]:\n",
      "[[ 2 20 20  2]\n",
      " [20  8 20 20]\n",
      " [26 26 26 14]]\n",
      "(3, 4)\n",
      "\n"
     ]
    }
   ],
   "source": [
    "# Creates 2D array of row indeces.\n",
    "i_shape = 3, 4\n",
    "i_low, i_high = 0, x.shape[0]\n",
    "i = np.random.randint(low=i_low, high=i_high,\n",
    "                      size=i_shape)\n",
    "# Sets column index,\n",
    "# that is fixes it.\n",
    "j_low, j_high = 0, x.shape[1]\n",
    "j = np.random.randint(low=j_low, high=j_high)\n",
    "# Creates 2D array by indexing,\n",
    "# which contains values from one column. \n",
    "y = x[i, j]\n",
    "\n",
    "print('x:', x, x.shape, '',\n",
    "      'i:', i, i.shape, '',\n",
    "      f'j: {j}', '',\n",
    "      'x[i, j]:', y, y.shape, '',\n",
    "      sep='\\n')"
   ]
  },
  {
   "cell_type": "code",
   "execution_count": 9,
   "metadata": {},
   "outputs": [
    {
     "name": "stdout",
     "output_type": "stream",
     "text": [
      "x:\n",
      "[[ 1  2  3  4  5  6]\n",
      " [ 7  8  9 10 11 12]\n",
      " [13 14 15 16 17 18]\n",
      " [19 20 21 22 23 24]\n",
      " [25 26 27 28 29 30]]\n",
      "(5, 6)\n",
      "\n",
      "i: 4\n",
      "\n",
      "j:\n",
      "[[2 4 5 4]\n",
      " [1 0 0 1]\n",
      " [4 4 2 3]]\n",
      "(3, 4)\n",
      "\n",
      "x[i, j]:\n",
      "[[27 29 30 29]\n",
      " [26 25 25 26]\n",
      " [29 29 27 28]]\n",
      "(3, 4)\n",
      "\n"
     ]
    }
   ],
   "source": [
    "# Sets row index,\n",
    "# that is fixes it.\n",
    "i_low, i_high = 0, x.shape[0]\n",
    "i = np.random.randint(low=j_low, high=j_high)\n",
    "# Creates 2D array of column indeces.\n",
    "j_shape = 3, 4\n",
    "j_low, j_high = 0, x.shape[1]\n",
    "j = np.random.randint(low=j_low, high=j_high,\n",
    "                      size=j_shape)\n",
    "# Creates 2D array by indexing,\n",
    "# which contains values from one row.\n",
    "y = x[i, j]\n",
    "\n",
    "print('x:', x, x.shape, '',\n",
    "      f'i: {i}', '',\n",
    "      'j:', j, j.shape, '',\n",
    "      'x[i, j]:', y, y.shape, '',\n",
    "      sep='\\n')"
   ]
  },
  {
   "cell_type": "markdown",
   "metadata": {},
   "source": [
    "### Indexing by 2D array"
   ]
  },
  {
   "cell_type": "code",
   "execution_count": 10,
   "metadata": {},
   "outputs": [
    {
     "name": "stdout",
     "output_type": "stream",
     "text": [
      "x:\n",
      "[[ 1  2  3  4  5  6]\n",
      " [ 7  8  9 10 11 12]\n",
      " [13 14 15 16 17 18]\n",
      " [19 20 21 22 23 24]\n",
      " [25 26 27 28 29 30]]\n",
      "(5, 6)\n",
      "\n",
      "i:\n",
      "[[2 1 0]\n",
      " [0 2 2]]\n",
      "(2, 3)\n",
      "\n",
      "x[i]:\n",
      "[[[13 14 15 16 17 18]\n",
      "  [ 7  8  9 10 11 12]\n",
      "  [ 1  2  3  4  5  6]]\n",
      "\n",
      " [[ 1  2  3  4  5  6]\n",
      "  [13 14 15 16 17 18]\n",
      "  [13 14 15 16 17 18]]]\n",
      "(2, 3, 6)\n",
      "\n",
      "x[i,:]:\n",
      "[[[13 14 15 16 17 18]\n",
      "  [ 7  8  9 10 11 12]\n",
      "  [ 1  2  3  4  5  6]]\n",
      "\n",
      " [[ 1  2  3  4  5  6]\n",
      "  [13 14 15 16 17 18]\n",
      "  [13 14 15 16 17 18]]]\n",
      "(2, 3, 6)\n",
      "\n",
      "check:\n",
      "True\n"
     ]
    }
   ],
   "source": [
    "# Creates 2D array of row indeces.\n",
    "i_shape = 2, 3 \n",
    "i_low, i_high = 0, x.shape[0]\n",
    "i = np.random.randint(low=i_low, high=i_high,\n",
    "                      size=i_shape)\n",
    "# Creates 3D array by indexing,\n",
    "# which is actually\n",
    "# an array of arrays of rows.\n",
    "y = x[i]\n",
    "# It works just like the follows.\n",
    "z = x[i,:]\n",
    "\n",
    "print('x:', x, x.shape, '',\n",
    "      'i:', i, i.shape, '',\n",
    "      'x[i]:', y, y.shape, '',\n",
    "      'x[i,:]:', z, z.shape, '',\n",
    "      'check:', np.all(y == z),      \n",
    "      sep='\\n')"
   ]
  },
  {
   "cell_type": "code",
   "execution_count": 11,
   "metadata": {},
   "outputs": [
    {
     "name": "stdout",
     "output_type": "stream",
     "text": [
      "x:\n",
      "[[ 1  2  3  4  5  6]\n",
      " [ 7  8  9 10 11 12]\n",
      " [13 14 15 16 17 18]\n",
      " [19 20 21 22 23 24]\n",
      " [25 26 27 28 29 30]]\n",
      "(5, 6)\n",
      "\n",
      "j:\n",
      "[[4 1 3]\n",
      " [4 0 0]]\n",
      "(2, 3)\n",
      "\n",
      "x[:,j]:\n",
      "[[[ 5  2  4]\n",
      "  [ 5  1  1]]\n",
      "\n",
      " [[11  8 10]\n",
      "  [11  7  7]]\n",
      "\n",
      " [[17 14 16]\n",
      "  [17 13 13]]\n",
      "\n",
      " [[23 20 22]\n",
      "  [23 19 19]]\n",
      "\n",
      " [[29 26 28]\n",
      "  [29 25 25]]]\n",
      "(5, 2, 3)\n",
      "\n"
     ]
    }
   ],
   "source": [
    "# Creates 2D array of column indeces.\n",
    "j_shape = 2, 3\n",
    "j_low, i_high = 0, x.shape[0]\n",
    "j = np.random.randint(low=i_low, high=i_high,\n",
    "                      size=i_shape)\n",
    "# Creates 3D array by indexing.\n",
    "y = x[:,j]\n",
    "\n",
    "print('x:', x, x.shape, '',\n",
    "      'j:', j, j.shape, '',\n",
    "      'x[:,j]:', y, y.shape, '',\n",
    "      sep='\\n')"
   ]
  },
  {
   "cell_type": "markdown",
   "metadata": {},
   "source": [
    "### Indexing by two 2D arrays"
   ]
  },
  {
   "cell_type": "code",
   "execution_count": 12,
   "metadata": {},
   "outputs": [
    {
     "name": "stdout",
     "output_type": "stream",
     "text": [
      "x:\n",
      "[[ 1  2  3  4  5  6]\n",
      " [ 7  8  9 10 11 12]\n",
      " [13 14 15 16 17 18]\n",
      " [19 20 21 22 23 24]\n",
      " [25 26 27 28 29 30]]\n",
      "(5, 6)\n",
      "\n",
      "i:\n",
      "[[3 3 1 2]\n",
      " [1 3 3 4]\n",
      " [0 3 1 3]]\n",
      "(3, 4)\n",
      "\n",
      "j:\n",
      "[[0 3 0 0]\n",
      " [0 3 0 1]\n",
      " [4 1 2 2]]\n",
      "(3, 4)\n",
      "\n",
      "x[i, j]:\n",
      "[[19 22  7 13]\n",
      " [ 7 22 19 26]\n",
      " [ 5 20  9 21]]\n",
      "(3, 4)\n",
      "\n",
      "i:\n",
      "(array([[3, 3, 1, 2],\n",
      "       [1, 3, 3, 4],\n",
      "       [0, 3, 1, 3]]), array([[0, 3, 0, 0],\n",
      "       [0, 3, 0, 1],\n",
      "       [4, 1, 2, 2]]))\n",
      "\n",
      "x[i]:\n",
      "[[19 22  7 13]\n",
      " [ 7 22 19 26]\n",
      " [ 5 20  9 21]]\n",
      "(3, 4)\n",
      "\n",
      "check:\n",
      "True\n"
     ]
    }
   ],
   "source": [
    "# Sets the shape of indeces arrays.\n",
    "_shape = 3, 4\n",
    "# Creates 2D array of row indeces.\n",
    "i_low, i_high = 0, x.shape[0]\n",
    "i_shape = _shape\n",
    "i = np.random.randint(low=i_low, high=i_high,\n",
    "                      size=i_shape)\n",
    "# Creates 2D array of column indeces.\n",
    "j_low, j_high = 0, x.shape[1]\n",
    "j_shape = _shape\n",
    "j = np.random.randint(low=j_low, high=j_high,\n",
    "                      size=j_shape)\n",
    "# Creates 2D array by indexing.\n",
    "y = x[i, j]\n",
    "# Which works just like the following.\n",
    "n = i, j\n",
    "# not\n",
    "# n = np.array((i, j))\n",
    "z = x[n]\n",
    "\n",
    "print('x:', x, x.shape, '',\n",
    "      'i:', i, i.shape, '',\n",
    "      'j:', j, j.shape, '',\n",
    "      'x[i, j]:', y, y.shape, '',\n",
    "      'i:', n, '',\n",
    "      'x[i]:', z, z.shape, '',\n",
    "      'check:', np.all(y == z),\n",
    "      sep='\\n')"
   ]
  }
 ],
 "metadata": {
  "kernelspec": {
   "display_name": "Python 3",
   "language": "python",
   "name": "python3"
  },
  "language_info": {
   "codemirror_mode": {
    "name": "ipython",
    "version": 3
   },
   "file_extension": ".py",
   "mimetype": "text/x-python",
   "name": "python",
   "nbconvert_exporter": "python",
   "pygments_lexer": "ipython3",
   "version": "3.8.6"
  }
 },
 "nbformat": 4,
 "nbformat_minor": 2
}
