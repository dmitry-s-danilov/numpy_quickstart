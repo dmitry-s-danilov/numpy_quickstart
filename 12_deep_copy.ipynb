{
 "cells": [
  {
   "cell_type": "markdown",
   "metadata": {},
   "source": [
    "# Deep Copy\n",
    "\n",
    "* The **copy** method makes a complete copy of the array and its data.\n",
    "* Sometimes **copy** should be called after slicing\n",
    "  if the original array is not required anymore."
   ]
  },
  {
   "cell_type": "code",
   "execution_count": 1,
   "metadata": {},
   "outputs": [],
   "source": [
    "import numpy as np"
   ]
  },
  {
   "cell_type": "markdown",
   "metadata": {},
   "source": [
    "### Deep copy vs shallow copy \n"
   ]
  },
  {
   "cell_type": "code",
   "execution_count": 2,
   "metadata": {},
   "outputs": [
    {
     "name": "stdout",
     "output_type": "stream",
     "text": [
      "[[ 1  2  3  4]\n",
      " [ 5  6  7  8]\n",
      " [ 9 10 11 12]\n",
      " [13 14 15 16]]\n",
      "(4, 4)\n"
     ]
    }
   ],
   "source": [
    "# Creates ndarray object and reshapes it.\n",
    "x_shape = 4, 4\n",
    "x_start, x_step = 1, 1\n",
    "x = np.arange(start=x_start,\n",
    "              stop=x_start + x_shape[0] * x_shape[1],\n",
    "              step=x_step)\n",
    "x.shape = x_shape\n",
    "\n",
    "print(x, x.shape,\n",
    "      sep='\\n')"
   ]
  },
  {
   "cell_type": "code",
   "execution_count": 3,
   "metadata": {},
   "outputs": [
    {
     "name": "stdout",
     "output_type": "stream",
     "text": [
      "False\n",
      "False\n",
      "\n",
      "140445456457520\n",
      "[[ 1  2  3  4]\n",
      " [ 5  6  7  8]\n",
      " [ 9 10 11 12]\n",
      " [13 14 15 16]]\n",
      "(4, 4)\n",
      "True\n",
      "\n",
      "140445035837040\n",
      "[[ 1  2  3  4]\n",
      " [ 5  0  0  8]\n",
      " [ 9  0  0 12]\n",
      " [13 14 15 16]]\n",
      "(4, 4)\n",
      "True\n",
      "\n"
     ]
    }
   ],
   "source": [
    "# Makes a deep copy of ndarray,\n",
    "# using copy method,\n",
    "# and changes it, using slicing.\n",
    "y = x.copy()\n",
    "y[1:-1,1:-1] = 0\n",
    "\n",
    "print(x is y, y.base is x, '',\n",
    "      id(x), x, x.shape, x.flags.owndata, '',\n",
    "      id(y), y, y.shape, y.flags.owndata, '',\n",
    "      sep='\\n')"
   ]
  },
  {
   "cell_type": "code",
   "execution_count": 4,
   "metadata": {},
   "outputs": [
    {
     "name": "stdout",
     "output_type": "stream",
     "text": [
      "False\n",
      "True\n",
      "\n",
      "140445456457520\n",
      "[[ 1  2  3  4]\n",
      " [ 5  0  0  8]\n",
      " [ 9  0  0 12]\n",
      " [13 14 15 16]]\n",
      "(4, 4)\n",
      "True\n",
      "\n",
      "140445035837600\n",
      "[[ 1  2  3  4]\n",
      " [ 5  0  0  8]\n",
      " [ 9  0  0 12]\n",
      " [13 14 15 16]]\n",
      "(4, 4)\n",
      "False\n",
      "\n"
     ]
    }
   ],
   "source": [
    "# Makes a shallow copy of ndarray,\n",
    "# using view method,\n",
    "# and changes it, using slicing.\n",
    "y = x.view()\n",
    "y[1:-1,1:-1] = 0\n",
    "\n",
    "print(x is y, y.base is x, '',\n",
    "      id(x), x, x.shape, x.flags.owndata, '',\n",
    "      id(y), y, y.shape, y.flags.owndata, '',\n",
    "      sep='\\n')"
   ]
  },
  {
   "cell_type": "markdown",
   "metadata": {},
   "source": [
    "### Deep Copy After Slicing"
   ]
  },
  {
   "cell_type": "code",
   "execution_count": 5,
   "metadata": {},
   "outputs": [
    {
     "name": "stdout",
     "output_type": "stream",
     "text": [
      "[       0        1        2 ... 99999997 99999998 99999999]\n",
      "[ 0  1  2  3  4  5  6  7  8  9 10 11 12 13 14 15 16 17 18 19 20 21 22 23\n",
      " 24 25 26 27 28 29 30 31 32 33 34 35 36 37 38 39 40 41 42 43 44 45 46 47\n",
      " 48 49 50 51 52 53 54 55 56 57 58 59 60 61 62 63 64 65 66 67 68 69 70 71\n",
      " 72 73 74 75 76 77 78 79 80 81 82 83 84 85 86 87 88 89 90 91 92 93 94 95\n",
      " 96 97 98 99]\n"
     ]
    }
   ],
   "source": [
    "# Deep copy should be made\n",
    "# when constructing with slicing.\n",
    "\n",
    "# Creates a huge ndarray.\n",
    "x_size = int(1e8)\n",
    "x = np.arange(x_size)\n",
    "print(x)\n",
    "\n",
    "# Makes a deep copy after slicing.\n",
    "y = x[:100].copy()\n",
    "# The memory of initial ndarray can be released.\n",
    "del x\n",
    "print(y)"
   ]
  }
 ],
 "metadata": {
  "kernelspec": {
   "display_name": "Python 3",
   "language": "python",
   "name": "python3"
  },
  "language_info": {
   "codemirror_mode": {
    "name": "ipython",
    "version": 3
   },
   "file_extension": ".py",
   "mimetype": "text/x-python",
   "name": "python",
   "nbconvert_exporter": "python",
   "pygments_lexer": "ipython3",
   "version": "3.8.6"
  }
 },
 "nbformat": 4,
 "nbformat_minor": 2
}
