{
 "cells": [
  {
   "cell_type": "markdown",
   "metadata": {},
   "source": [
    "# The basics\n",
    "\n",
    "## Indexing, slicing and iterating\n",
    "\n",
    "### Multidimensional arrays\n",
    "\n",
    "- Multidimensional arrays can have one index per axis.\n",
    "  These indices are given in a tuple separated by commas.\n",
    "- When fewer indices are provided than the number of axes,\n",
    "  the missing indices are considered complete slices.\n",
    "  In this case, the expression within brackets is treated as\n",
    "  an index followed by as many instances of colon `:` as needed\n",
    "  to represent the remaining axes.\n",
    "- NumPy also allows you to write this using dots `...`.\n",
    "  The dots `...` represent as many colons `:` as needed\n",
    "  to produce a complete indexing tuple."
   ]
  },
  {
   "cell_type": "code",
   "execution_count": 1,
   "metadata": {},
   "outputs": [],
   "source": [
    "import numpy as np"
   ]
  },
  {
   "cell_type": "code",
   "execution_count": 2,
   "metadata": {},
   "outputs": [],
   "source": [
    "# Create 2d array generation functions.\n",
    "\n",
    "def my_func_1(i, j):\n",
    "    \"\"\"Return an integer item of 2d array depending on its indices.\"\"\"\n",
    "    b  = 10, 1 # row and column bases\n",
    "    return b[0] * i + b[1] * j\n",
    "\n",
    "def my_func_2(m, n):\n",
    "    \"\"\"Return 2d array of an integers items depending on its shape.\"\"\"\n",
    "    return np.fromfunction(function=my_func_1, shape=(m, n), dtype=int)"
   ]
  },
  {
   "cell_type": "code",
   "execution_count": 3,
   "metadata": {},
   "outputs": [
    {
     "name": "stdout",
     "output_type": "stream",
     "text": [
      "2d array:\n",
      "x =\n",
      "[[ 0  1  2  3]\n",
      " [10 11 12 13]\n",
      " [20 21 22 23]]\n",
      "\n",
      "a couple of random indexes:\n",
      "i, j = 2, 1\n",
      "\n",
      "a value by a couple of indexes:\n",
      "x[2,1] = 21\n",
      "x[(2,1)] = 21\n",
      "\n",
      "a row by an index:\n",
      "x[2] = [20 21 22 23]\n",
      "x[2,:] = [20 21 22 23]\n",
      "x[2,0:4] = [20 21 22 23]\n",
      "x[2,...] = [20 21 22 23]\n",
      "\n",
      "a column by an index:\n",
      "x[:,1] = [ 1 11 21]\n",
      "x[0:3,1] = [ 1 11 21]\n",
      "x[...,1] = [ 1 11 21]\n",
      "\n"
     ]
    }
   ],
   "source": [
    "# Apply indexing to ad array.\n",
    "\n",
    "# Create 2d integer array of specified shape. \n",
    "x = my_func_2(3, 4)    \n",
    "\n",
    "# Generate a couple of random row and column indexes.\n",
    "i, j = [np.random.randint(low=0, high=x.shape[k])\n",
    "        for k in range(x.ndim)]\n",
    "\n",
    "print('2d array:',\n",
    "      f'x =\\n{x}\\n',\n",
    "      \n",
    "      'a couple of random indexes:',\n",
    "      f'i, j = {i}, {j}\\n',\n",
    "      \n",
    "      'a value by a couple of indexes:',\n",
    "      f'x[{i},{j}] = {x[i,j]}',\n",
    "      f'x[({i},{j})] = {x[(i,j)]}\\n',\n",
    "      \n",
    "      'a row by an index:',\n",
    "      f'x[{i}] = {x[i]}',\n",
    "      f'x[{i},:] = {x[i,:]}',\n",
    "      f'x[{i},0:{x.shape[1]}] = {x[i,0:x.shape[1]]}',\n",
    "      f'x[{i},...] = {x[i,...]}\\n',\n",
    "      \n",
    "      'a column by an index:',\n",
    "      f'x[:,{j}] = {x[:,j]}',\n",
    "      f'x[0:{x.shape[0]},{j}] = {x[0:x.shape[0],j]}',\n",
    "      f'x[...,{j}] = {x[...,j]}\\n',\n",
    "      \n",
    "      sep='\\n')"
   ]
  },
  {
   "cell_type": "code",
   "execution_count": 4,
   "metadata": {},
   "outputs": [
    {
     "name": "stdout",
     "output_type": "stream",
     "text": [
      "2d array:\n",
      "x =\n",
      "[[ 0  1  2  3  4  5  6  7  8  9]\n",
      " [10 11 12 13 14 15 16 17 18 19]\n",
      " [20 21 22 23 24 25 26 27 28 29]\n",
      " [30 31 32 33 34 35 36 37 38 39]\n",
      " [40 41 42 43 44 45 46 47 48 49]\n",
      " [50 51 52 53 54 55 56 57 58 59]\n",
      " [60 61 62 63 64 65 66 67 68 69]\n",
      " [70 71 72 73 74 75 76 77 78 79]\n",
      " [80 81 82 83 84 85 86 87 88 89]\n",
      " [90 91 92 93 94 95 96 97 98 99]]\n",
      "\n",
      "a pair of couples of random indexes:\n",
      "i =\n",
      "[[2 9]\n",
      " [4 6]]\n",
      "\n",
      "2d slice:\n",
      "x[2:9,4:6] =\n",
      "[[24 25]\n",
      " [34 35]\n",
      " [44 45]\n",
      " [54 55]\n",
      " [64 65]\n",
      " [74 75]\n",
      " [84 85]]\n"
     ]
    }
   ],
   "source": [
    "# Make a slice of 2d array.\n",
    "\n",
    "# Create 2d integer array of specified shape.\n",
    "x = my_func_2(10, 10)\n",
    "\n",
    "# Create a pair of couples of\n",
    "# random indexes from specified ranges.\n",
    "i = [\n",
    "    [np.random.randint(low=0, high=x.shape[k] // 2)\n",
    "     for k in range(x.ndim)],\n",
    "    [np.random.randint(low=x.shape[k] // 2 + 1, high=x.shape[k])\n",
    "     for k in range(x.ndim)]\n",
    "]\n",
    "i = np.array(i).transpose()\n",
    "\n",
    "\n",
    "print('2d array:',\n",
    "      f'x =\\n{x}\\n',\n",
    "      \n",
    "      'a pair of couples of random indexes:',\n",
    "      f'i =\\n{i}\\n',\n",
    "      \n",
    "      '2d slice:',\n",
    "      f'x[{i[0, 0]}:{i[0, 1]},{i[1, 0]}:{i[1, 1]}] =',\n",
    "      x[i[0, 0]:i[0, 1], i[1, 0]:i[1, 1]],\n",
    "      \n",
    "      sep='\\n')"
   ]
  }
 ],
 "metadata": {
  "kernelspec": {
   "display_name": "Python 3",
   "language": "python",
   "name": "python3"
  },
  "language_info": {
   "codemirror_mode": {
    "name": "ipython",
    "version": 3
   },
   "file_extension": ".py",
   "mimetype": "text/x-python",
   "name": "python",
   "nbconvert_exporter": "python",
   "pygments_lexer": "ipython3",
   "version": "3.8.6"
  }
 },
 "nbformat": 4,
 "nbformat_minor": 2
}
