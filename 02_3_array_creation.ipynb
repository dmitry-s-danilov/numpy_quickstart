{
 "cells": [
  {
   "cell_type": "markdown",
   "metadata": {},
   "source": [
    "# The basics\n",
    "\n",
    "## Array creation\n",
    "\n",
    "### Create sequences\n",
    "\n",
    "- To create sequences of numbers,\n",
    "  NumPy provides a function `arange` analogous to `range`\n",
    "  that returns arrays instead of lists.\n",
    "  It accepts float arguments.\n",
    "- The function `linspace` receives as an argument\n",
    "  the number of elements that we want, instead of the step."
   ]
  },
  {
   "cell_type": "code",
   "execution_count": 1,
   "metadata": {},
   "outputs": [],
   "source": [
    "import numpy as np\n",
    "import matplotlib.pyplot as plt"
   ]
  },
  {
   "cell_type": "code",
   "execution_count": 2,
   "metadata": {},
   "outputs": [
    {
     "name": "stdout",
     "output_type": "stream",
     "text": [
      "<class 'numpy.ndarray'>:\n",
      "[0.  0.1 0.2 0.3 0.4 0.5 0.6 0.7 0.8 0.9 1. ]\n",
      "ndim: 1\n",
      "shape: (11,)\n",
      "size: 11\n",
      "dtype: float64\n"
     ]
    }
   ],
   "source": [
    "# Creates an array\n",
    "# of evenly spaced values within a given interval\n",
    "# speifying with the start and the end values and\n",
    "# the spacing between values.\n",
    "\n",
    "x_min, x_max, x_num = 0, 1, 10\n",
    "x_step = (x_max - x_min) / x_num\n",
    "x = np.arange(start=x_min,\n",
    "              stop=x_max + x_step,\n",
    "              step=x_step)\n",
    "\n",
    "print(f'{type(x)}:', x,\n",
    "      f'ndim: {x.ndim}',\n",
    "      f'shape: {x.shape}',\n",
    "      f'size: {x.size}',\n",
    "      f'dtype: {x.dtype}',\n",
    "      # f'itemsize: {x.itemsize}',\n",
    "      sep='\\n')"
   ]
  },
  {
   "cell_type": "code",
   "execution_count": 3,
   "metadata": {},
   "outputs": [
    {
     "name": "stdout",
     "output_type": "stream",
     "text": [
      "<class 'numpy.ndarray'>:\n",
      "[0.         0.11111111 0.22222222 0.33333333 0.44444444 0.55555556\n",
      " 0.66666667 0.77777778 0.88888889 1.        ]\n",
      "ndim: 1\n",
      "shape: (10,)\n",
      "size: 10\n",
      "dtype: float64\n"
     ]
    }
   ],
   "source": [
    "# Creates an array\n",
    "# of evenly spaced numbers over a given interval\n",
    "# specifying with the starting and the end values and\n",
    "# the number of samples one less than the previous one.\n",
    "\n",
    "y_num = x.size - 1\n",
    "y = np.linspace(start=x_min,\n",
    "                stop=x_max,\n",
    "                num=y_num)\n",
    "\n",
    "print(f'{type(y)}:', y,\n",
    "      f'ndim: {y.ndim}',\n",
    "      f'shape: {y.shape}',\n",
    "      f'size: {y.size}',\n",
    "      f'dtype: {y.dtype}',\n",
    "      # f'itemsize: {y.itemsize}',\n",
    "      sep='\\n')"
   ]
  },
  {
   "cell_type": "code",
   "execution_count": 4,
   "metadata": {},
   "outputs": [
    {
     "data": {
      "image/png": "[encoded data removed]",
      "text/plain": [
       "<Figure size 432x288 with 1 Axes>"
      ]
     },
     "metadata": {
      "needs_background": "light"
     },
     "output_type": "display_data"
    }
   ],
   "source": [
    "# Plot the both arrays\n",
    "# to show the offset relative to each other.\n",
    "\n",
    "plt.plot(x, np.zeros(x.size), 'x', label=f'size: {x.size}')\n",
    "plt.plot(y, np.zeros(y.size), '+', label=f'size: {y.size}')\n",
    "plt.yticks(ticks=[])\n",
    "plt.legend()\n",
    "\n",
    "plt.show()"
   ]
  }
 ],
 "metadata": {
  "kernelspec": {
   "display_name": "Python 3",
   "language": "python",
   "name": "python3"
  },
  "language_info": {
   "codemirror_mode": {
    "name": "ipython",
    "version": 3
   },
   "file_extension": ".py",
   "mimetype": "text/x-python",
   "name": "python",
   "nbconvert_exporter": "python",
   "pygments_lexer": "ipython3",
   "version": "3.8.6"
  }
 },
 "nbformat": 4,
 "nbformat_minor": 2
}
