{
 "cells": [
  {
   "cell_type": "markdown",
   "metadata": {},
   "source": [
    "# [Indexing with Boolean Arrays][indexing]\n",
    "\n",
    "\n",
    "## Indexing by Boolean Arrays of the Same Shape\n",
    "\n",
    "* When we index arrays with boolean indices,\n",
    "  we explicitly choose\n",
    "  which items in the array\n",
    "  we want and which ones we don’t.\n",
    "* The most natural way one can think of for boolean indexing\n",
    "  is to use boolean arrays\n",
    "  that have the same shape as the original array.\n",
    "  This property can be very useful in assignments.\n",
    "\n",
    "\n",
    "## Links\n",
    "\n",
    "[NumPy Manual][manual] >>  \n",
    "[NumPy User Guide][user_guide] >>  \n",
    "[Quickstart tutorial][tutorial] >>  \n",
    "[Fancy indexing and index tricks][index_tricks] >>  \n",
    "[Indexing with Boolean Arrays][indexing]\n",
    "\n",
    "\n",
    "[comment]: #(tags)\n",
    "\n",
    "[manual]: https://numpy.org/devdocs/\n",
    "[user_guide]: https://numpy.org/devdocs/user/index.html\n",
    "[tutorial]: https://numpy.org/devdocs/user/quickstart.html#\n",
    "[index_tricks]: https://numpy.org/devdocs/user/quickstart.html#fancy-indexing-and-index-tricks\n",
    "[indexing]: https://numpy.org/devdocs/user/quickstart.html#indexing-with-boolean-arrays"
   ]
  },
  {
   "cell_type": "code",
   "execution_count": 2,
   "metadata": {},
   "outputs": [],
   "source": [
    "import numpy as np\n"
   ]
  },
  {
   "cell_type": "markdown",
   "metadata": {},
   "source": [
    "### 1D Array Indexing"
   ]
  },
  {
   "cell_type": "code",
   "execution_count": 46,
   "metadata": {},
   "outputs": [
    {
     "name": "stdout",
     "output_type": "stream",
     "text": [
      "array:\n",
      "[11  4 11  4  6  5  7  7 10  5  4 10]\n",
      "higher: 6\n",
      "corresponded:\n",
      "[ True False  True False False False  True  True  True False False  True]\n",
      "selected:\n",
      "[11 11  7  7 10 10]\n",
      "incremented:\n",
      "[6 4 6 4 6 5 6 6 6 5 4 6]\n",
      "assigned:\n",
      "[0 4 0 4 6 5 0 0 0 5 4 0]\n"
     ]
    }
   ],
   "source": [
    "# Creates 1D array of random integers.\n",
    "x_low, x_high = 1, 12 + 1\n",
    "x_size = 12\n",
    "x = np.random.randint(low=x_low, high=x_high,\n",
    "                      size = x_size)\n",
    "print('array:', x, sep='\\n')\n",
    "\n",
    "# Sets a scalar for compare condition.\n",
    "y = 6\n",
    "# Creates 1D array of booleans\n",
    "# corresponding to condition.\n",
    "b = x > y\n",
    "print(f'higher: {y}',\n",
    "      'corresponded:', b,\n",
    "      sep='\\n')\n",
    "\n",
    "# Creates 1D array of integers\n",
    "# with the selected elements\n",
    "# corresponding to condition.\n",
    "z = x[b]\n",
    "print('selected:', z, sep='\\n')\n",
    "\n",
    "# Modifies 1D array\n",
    "# by incrementing the selected elements.\n",
    "if z.size > 0:\n",
    "    x[b] += y - z\n",
    "print('incremented:', x, sep='\\n')\n",
    "\n",
    "# Modifies 1D array\n",
    "# by assignment the selected elements.\n",
    "x[b] = 0\n",
    "print('assigned:', x, sep='\\n')\n"
   ]
  },
  {
   "cell_type": "markdown",
   "metadata": {},
   "source": [
    "### 2D Array Indexing"
   ]
  },
  {
   "cell_type": "code",
   "execution_count": 51,
   "metadata": {},
   "outputs": [
    {
     "name": "stdout",
     "output_type": "stream",
     "text": [
      "array:\n",
      "[[ 6  9  2 10]\n",
      " [ 4  4  7  1]\n",
      " [ 8 12  7  9]]\n",
      "below: 6\n",
      "corresponded:\n",
      "[[False False  True False]\n",
      " [ True  True False  True]\n",
      " [False False False False]]\n",
      "selected:\n",
      "[2 4 4 1]\n",
      "incremented:\n",
      "[[ 6  9  6 10]\n",
      " [ 6  6  7  6]\n",
      " [ 8 12  7  9]]\n",
      "assigned:\n",
      "[[ 6  9  0 10]\n",
      " [ 0  0  7  0]\n",
      " [ 8 12  7  9]]\n"
     ]
    }
   ],
   "source": [
    "# Creates 2D array of random integers.\n",
    "x_shape = 3, 4\n",
    "x_low, x_high = 1, x_shape[0] * x_shape[1] + 1\n",
    "x = np.random.randint(low=x_low, high=x_high,\n",
    "                      size = x_shape)\n",
    "print('array:', x, sep='\\n')\n",
    "\n",
    "# Sets a scalar for compare condition.\n",
    "y = 6\n",
    "# Creates 2D array of booleans\n",
    "# corresponding to condition.\n",
    "b = x < y\n",
    "print(f'below: {y}',\n",
    "      'corresponded:', b,\n",
    "      sep='\\n')\n",
    "\n",
    "# Creates 2D array of integers\n",
    "# with the selected elements\n",
    "# corresponding to condition.\n",
    "z = x[b]\n",
    "print('selected:', z, sep='\\n')\n",
    "\n",
    "# Modifies 2D array\n",
    "# by incrementing the selected elements.\n",
    "if z.size > 0:\n",
    "    x[b] += y - z\n",
    "print('incremented:', x, sep='\\n')\n",
    "\n",
    "# Modifies 2D array\n",
    "# by assignment the selected elements.\n",
    "x[b] = 0\n",
    "print('assigned:', x, sep='\\n')\n"
   ]
  }
 ],
 "metadata": {
  "kernelspec": {
   "display_name": "Python 3",
   "language": "python",
   "name": "python3"
  },
  "language_info": {
   "codemirror_mode": {
    "name": "ipython",
    "version": 3
   },
   "file_extension": ".py",
   "mimetype": "text/x-python",
   "name": "python",
   "nbconvert_exporter": "python",
   "pygments_lexer": "ipython3",
   "version": "3.8.6"
  }
 },
 "nbformat": 4,
 "nbformat_minor": 2
}
