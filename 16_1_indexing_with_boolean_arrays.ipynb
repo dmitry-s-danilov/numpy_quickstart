{
 "cells": [
  {
   "cell_type": "markdown",
   "metadata": {},
   "source": [
    "# Indexing with Boolean Arrays\n",
    "\n",
    "\n",
    "## Indexing by Boolean Arrays of the Same Shape\n",
    "\n",
    "* When we index arrays with boolean indices,\n",
    "  we explicitly choose\n",
    "  which items in the array\n",
    "  we want and which ones we don’t.\n",
    "* The most natural way one can think of for boolean indexing\n",
    "  is to use boolean arrays\n",
    "  that have the same shape as the original array.\n",
    "  This property can be very useful in assignments."
   ]
  },
  {
   "cell_type": "code",
   "execution_count": 1,
   "metadata": {},
   "outputs": [],
   "source": [
    "import numpy as np"
   ]
  },
  {
   "cell_type": "markdown",
   "metadata": {},
   "source": [
    "### 1D Array Indexing"
   ]
  },
  {
   "cell_type": "code",
   "execution_count": 2,
   "metadata": {},
   "outputs": [
    {
     "name": "stdout",
     "output_type": "stream",
     "text": [
      "array:\n",
      "[ 1 11  9  1  7  7  6  5  8  6  9  3]\n",
      "higher: 6\n",
      "corresponded:\n",
      "[False  True  True False  True  True False False  True False  True False]\n",
      "selected:\n",
      "[11  9  7  7  8  9]\n",
      "incremented:\n",
      "[1 6 6 1 6 6 6 5 6 6 6 3]\n",
      "assigned:\n",
      "[1 0 0 1 0 0 6 5 0 6 0 3]\n"
     ]
    }
   ],
   "source": [
    "# Creates 1D array of random integers.\n",
    "x_low, x_high = 1, 12 + 1\n",
    "x_size = 12\n",
    "x = np.random.randint(low=x_low, high=x_high,\n",
    "                      size = x_size)\n",
    "print('array:', x, sep='\\n')\n",
    "\n",
    "# Sets a scalar for compare condition.\n",
    "y = 6\n",
    "# Creates 1D array of booleans\n",
    "# corresponding to condition.\n",
    "b = x > y\n",
    "print(f'higher: {y}',\n",
    "      'corresponded:', b,\n",
    "      sep='\\n')\n",
    "\n",
    "# Creates 1D array of integers\n",
    "# with the selected elements\n",
    "# corresponding to condition.\n",
    "z = x[b]\n",
    "print('selected:', z, sep='\\n')\n",
    "\n",
    "# Modifies 1D array\n",
    "# by incrementing the selected elements.\n",
    "if z.size > 0:\n",
    "    x[b] += y - z\n",
    "print('incremented:', x, sep='\\n')\n",
    "\n",
    "# Modifies 1D array\n",
    "# by assignment the selected elements.\n",
    "x[b] = 0\n",
    "print('assigned:', x, sep='\\n')"
   ]
  },
  {
   "cell_type": "markdown",
   "metadata": {},
   "source": [
    "### 2D Array Indexing"
   ]
  },
  {
   "cell_type": "code",
   "execution_count": 3,
   "metadata": {},
   "outputs": [
    {
     "name": "stdout",
     "output_type": "stream",
     "text": [
      "array:\n",
      "[[ 4  9  6 10]\n",
      " [10  3  4  9]\n",
      " [ 5  4  2  7]]\n",
      "below: 6\n",
      "corresponded:\n",
      "[[ True False False False]\n",
      " [False  True  True False]\n",
      " [ True  True  True False]]\n",
      "selected:\n",
      "[4 3 4 5 4 2]\n",
      "incremented:\n",
      "[[ 6  9  6 10]\n",
      " [10  6  6  9]\n",
      " [ 6  6  6  7]]\n",
      "assigned:\n",
      "[[ 0  9  6 10]\n",
      " [10  0  0  9]\n",
      " [ 0  0  0  7]]\n"
     ]
    }
   ],
   "source": [
    "# Creates 2D array of random integers.\n",
    "x_shape = 3, 4\n",
    "x_low, x_high = 1, x_shape[0] * x_shape[1] + 1\n",
    "x = np.random.randint(low=x_low, high=x_high,\n",
    "                      size = x_shape)\n",
    "print('array:', x, sep='\\n')\n",
    "\n",
    "# Sets a scalar for compare condition.\n",
    "y = 6\n",
    "# Creates 2D array of booleans\n",
    "# corresponding to condition.\n",
    "b = x < y\n",
    "print(f'below: {y}',\n",
    "      'corresponded:', b,\n",
    "      sep='\\n')\n",
    "\n",
    "# Creates 2D array of integers\n",
    "# with the selected elements\n",
    "# corresponding to condition.\n",
    "z = x[b]\n",
    "print('selected:', z, sep='\\n')\n",
    "\n",
    "# Modifies 2D array\n",
    "# by incrementing the selected elements.\n",
    "if z.size > 0:\n",
    "    x[b] += y - z\n",
    "print('incremented:', x, sep='\\n')\n",
    "\n",
    "# Modifies 2D array\n",
    "# by assignment the selected elements.\n",
    "x[b] = 0\n",
    "print('assigned:', x, sep='\\n')"
   ]
  }
 ],
 "metadata": {
  "kernelspec": {
   "display_name": "Python 3",
   "language": "python",
   "name": "python3"
  },
  "language_info": {
   "codemirror_mode": {
    "name": "ipython",
    "version": 3
   },
   "file_extension": ".py",
   "mimetype": "text/x-python",
   "name": "python",
   "nbconvert_exporter": "python",
   "pygments_lexer": "ipython3",
   "version": "3.8.6"
  }
 },
 "nbformat": 4,
 "nbformat_minor": 2
}
