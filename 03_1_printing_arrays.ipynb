{
 "cells": [
  {
   "cell_type": "markdown",
   "metadata": {},
   "source": [
    "# The basics\n",
    "\n",
    "## Printing arrays\n",
    "\n",
    "### Layout\n",
    "\n",
    "When you print an array,\n",
    "NumPy displays it in a similar way to nested lists,\n",
    "but with the following layout:\n",
    "- the last axis is printed from left to right,\n",
    "- the second-to-last is printed from top to bottom,\n",
    "- the rest are also printed from top to bottom,\n",
    "  with each slice separated from the next by an empty line."
   ]
  },
  {
   "cell_type": "code",
   "execution_count": 1,
   "metadata": {},
   "outputs": [],
   "source": [
    "import numpy as np"
   ]
  },
  {
   "cell_type": "code",
   "execution_count": 2,
   "metadata": {},
   "outputs": [
    {
     "name": "stdout",
     "output_type": "stream",
     "text": [
      "<class 'numpy.ndarray'>:\n",
      "[ 1  2  3  4  5  6  7  8  9 10 11 12]\n",
      "ndim: 1\n",
      "shape: (12,)\n",
      "size: 12\n"
     ]
    }
   ],
   "source": [
    "# Creates 1d array and prints it.\n",
    "\n",
    "x_shape, x_min, x_step =(12, ), 1, 1\n",
    "x_max = x_min + (np.product(x_shape) - 1) * x_step\n",
    "x = np.arange(\n",
    "    start=x_min,\n",
    "    stop=x_max + x_step,\n",
    "    step=x_step\n",
    ")\n",
    "\n",
    "print(f'{type(x)}:', x,\n",
    "      f'ndim: {x.ndim}',\n",
    "      f'shape: {x.shape}',\n",
    "      f'size: {x.size}',\n",
    "      sep='\\n')"
   ]
  },
  {
   "cell_type": "code",
   "execution_count": 3,
   "metadata": {},
   "outputs": [
    {
     "name": "stdout",
     "output_type": "stream",
     "text": [
      "<class 'numpy.ndarray'>:\n",
      "[[ 1  2  3  4]\n",
      " [ 5  6  7  8]\n",
      " [ 9 10 11 12]]\n",
      "ndim: 2\n",
      "shape: (3, 4)\n",
      "size: 12\n"
     ]
    }
   ],
   "source": [
    "# Creates 2d array by reshaping 1d array\n",
    "# and prints it.\n",
    "\n",
    "x_shape, x_min, x_step =(3, 4), 1, 1\n",
    "x_max = x_min + (np.product(x_shape) - 1) * x_step\n",
    "x = np.arange(\n",
    "    start=x_min,\n",
    "    stop=x_max + x_step,\n",
    "    step=x_step\n",
    ").reshape(x_shape)\n",
    "\n",
    "print(f'{type(x)}:', x,\n",
    "      f'ndim: {x.ndim}',\n",
    "      f'shape: {x.shape}',\n",
    "      f'size: {x.size}',\n",
    "      sep='\\n')"
   ]
  },
  {
   "cell_type": "code",
   "execution_count": 4,
   "metadata": {},
   "outputs": [
    {
     "name": "stdout",
     "output_type": "stream",
     "text": [
      "<class 'numpy.ndarray'>:\n",
      "[[[ 1  2  3  4]\n",
      "  [ 5  6  7  8]\n",
      "  [ 9 10 11 12]]\n",
      "\n",
      " [[13 14 15 16]\n",
      "  [17 18 19 20]\n",
      "  [21 22 23 24]]]\n",
      "ndim: 3\n",
      "shape: (2, 3, 4)\n",
      "size: 24\n"
     ]
    }
   ],
   "source": [
    "# Creates 3d array by reshaping 1d array\n",
    "# and prints it.\n",
    "\n",
    "x_shape, x_min, x_step =(2, 3, 4), 1, 1\n",
    "x_max = x_min + (np.product(x_shape) - 1) * x_step\n",
    "x = np.arange(\n",
    "    start=x_min,\n",
    "    stop=x_max + x_step,\n",
    "    step=x_step\n",
    ").reshape(x_shape)\n",
    "\n",
    "print(f'{type(x)}:', x,\n",
    "      f'ndim: {x.ndim}',\n",
    "      f'shape: {x.shape}',\n",
    "      f'size: {x.size}',\n",
    "      sep='\\n')"
   ]
  }
 ],
 "metadata": {
  "kernelspec": {
   "display_name": "Python 3",
   "language": "python",
   "name": "python3"
  },
  "language_info": {
   "codemirror_mode": {
    "name": "ipython",
    "version": 3
   },
   "file_extension": ".py",
   "mimetype": "text/x-python",
   "name": "python",
   "nbconvert_exporter": "python",
   "pygments_lexer": "ipython3",
   "version": "3.8.6"
  }
 },
 "nbformat": 4,
 "nbformat_minor": 2
}
